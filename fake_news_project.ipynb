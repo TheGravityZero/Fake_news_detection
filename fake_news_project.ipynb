{
  "nbformat": 4,
  "nbformat_minor": 0,
  "metadata": {
    "colab": {
      "name": "fake_news_project.ipynb",
      "provenance": []
    },
    "kernelspec": {
      "name": "python3",
      "display_name": "Python 3"
    },
    "language_info": {
      "name": "python"
    }
  },
  "cells": [
    {
      "cell_type": "markdown",
      "source": [
        "# Загрузка данных"
      ],
      "metadata": {
        "id": "FN4RJYJ2z-6Y"
      }
    },
    {
      "cell_type": "code",
      "execution_count": 1,
      "metadata": {
        "colab": {
          "base_uri": "https://localhost:8080/"
        },
        "id": "7a2MxaYJVoyH",
        "outputId": "b213884e-0621-4e26-b10f-d0083934ca40"
      },
      "outputs": [
        {
          "output_type": "stream",
          "name": "stdout",
          "text": [
            "--2022-04-19 12:51:34--  https://disk.skbkontur.ru/index.php/s/aknGb6oZSzA8djG/download\n",
            "Resolving disk.skbkontur.ru (disk.skbkontur.ru)... 46.17.202.21, 46.17.201.85\n",
            "Connecting to disk.skbkontur.ru (disk.skbkontur.ru)|46.17.202.21|:443... connected.\n",
            "HTTP request sent, awaiting response... 200 OK\n",
            "Length: 264566 (258K) [application/zip]\n",
            "Saving to: ‘download’\n",
            "\n",
            "download            100%[===================>] 258.37K   404KB/s    in 0.6s    \n",
            "\n",
            "2022-04-19 12:51:36 (404 KB/s) - ‘download’ saved [264566/264566]\n",
            "\n"
          ]
        }
      ],
      "source": [
        "!wget  'https://disk.skbkontur.ru/index.php/s/aknGb6oZSzA8djG/download' "
      ]
    },
    {
      "cell_type": "code",
      "source": [
        "!ls"
      ],
      "metadata": {
        "colab": {
          "base_uri": "https://localhost:8080/"
        },
        "id": "bF5PZpQAV1jm",
        "outputId": "5f2993c3-ccbe-4133-9cfe-3dc9600a6087"
      },
      "execution_count": 2,
      "outputs": [
        {
          "output_type": "stream",
          "name": "stdout",
          "text": [
            "download  sample_data\n"
          ]
        }
      ]
    },
    {
      "cell_type": "code",
      "source": [
        "!unzip download"
      ],
      "metadata": {
        "colab": {
          "base_uri": "https://localhost:8080/"
        },
        "id": "n7xWgZODWmKx",
        "outputId": "e7b9787b-a5c3-44b4-c8ee-23e93cdf54cd"
      },
      "execution_count": 3,
      "outputs": [
        {
          "output_type": "stream",
          "name": "stdout",
          "text": [
            "Archive:  download\n",
            "  inflating: dataset/train.tsv       \n",
            "  inflating: dataset/test.tsv        \n",
            "  inflating: task.md                 \n"
          ]
        }
      ]
    },
    {
      "cell_type": "code",
      "source": [
        "!ls dataset"
      ],
      "metadata": {
        "colab": {
          "base_uri": "https://localhost:8080/"
        },
        "id": "VSvx5j4zWvMg",
        "outputId": "12ba4ea5-af74-43f9-85c6-a3feac531198"
      },
      "execution_count": 4,
      "outputs": [
        {
          "output_type": "stream",
          "name": "stdout",
          "text": [
            "test.tsv  train.tsv\n"
          ]
        }
      ]
    },
    {
      "cell_type": "code",
      "source": [
        "import pandas as pd\n",
        "import numpy as np"
      ],
      "metadata": {
        "id": "q4Y70Ms9YvdZ"
      },
      "execution_count": 5,
      "outputs": []
    },
    {
      "cell_type": "code",
      "source": [
        "df = pd.read_csv(\"./dataset/train.tsv\", sep='\\t')"
      ],
      "metadata": {
        "id": "k2QerDRrY49L"
      },
      "execution_count": 6,
      "outputs": []
    },
    {
      "cell_type": "markdown",
      "source": [
        "# Анализ данных"
      ],
      "metadata": {
        "id": "2bIkPBhs0JbV"
      }
    },
    {
      "cell_type": "code",
      "source": [
        "from sklearn.metrics import classification_report\n",
        "from sklearn.model_selection import train_test_split, GridSearchCV\n",
        "from sklearn.pipeline import Pipeline"
      ],
      "metadata": {
        "id": "2ZN1PpQbomGA"
      },
      "execution_count": 7,
      "outputs": []
    },
    {
      "cell_type": "markdown",
      "source": [
        "Посмотри на размерности наших данных."
      ],
      "metadata": {
        "id": "KRtwbs-P0NuF"
      }
    },
    {
      "cell_type": "code",
      "source": [
        "df.shape"
      ],
      "metadata": {
        "colab": {
          "base_uri": "https://localhost:8080/"
        },
        "id": "3d0klwcwparp",
        "outputId": "1898b241-2180-4760-80d2-033b754a4061"
      },
      "execution_count": 8,
      "outputs": [
        {
          "output_type": "execute_result",
          "data": {
            "text/plain": [
              "(5758, 2)"
            ]
          },
          "metadata": {},
          "execution_count": 8
        }
      ]
    },
    {
      "cell_type": "markdown",
      "source": [
        "Посмотрим как выглядит таблица."
      ],
      "metadata": {
        "id": "MkLwAgeB05YS"
      }
    },
    {
      "cell_type": "code",
      "source": [
        "df.head()"
      ],
      "metadata": {
        "colab": {
          "base_uri": "https://localhost:8080/",
          "height": 206
        },
        "id": "VqabGkD2aZoR",
        "outputId": "9494d55d-e54c-439f-982c-ec6d147ea525"
      },
      "execution_count": 9,
      "outputs": [
        {
          "output_type": "execute_result",
          "data": {
            "text/plain": [
              "                                               title  is_fake\n",
              "0  Москвичу Владимиру Клутину пришёл счёт за вмеш...        1\n",
              "1  Агент Кокорина назвал езду по встречке житейск...        0\n",
              "2  Госдума рассмотрит возможность введения секрет...        1\n",
              "3  ФАС заблокировала поставку скоростных трамваев...        0\n",
              "4  Против Навального завели дело о недоносительст...        1"
            ],
            "text/html": [
              "\n",
              "  <div id=\"df-c8a671a0-e61f-40cb-8802-24c765a32018\">\n",
              "    <div class=\"colab-df-container\">\n",
              "      <div>\n",
              "<style scoped>\n",
              "    .dataframe tbody tr th:only-of-type {\n",
              "        vertical-align: middle;\n",
              "    }\n",
              "\n",
              "    .dataframe tbody tr th {\n",
              "        vertical-align: top;\n",
              "    }\n",
              "\n",
              "    .dataframe thead th {\n",
              "        text-align: right;\n",
              "    }\n",
              "</style>\n",
              "<table border=\"1\" class=\"dataframe\">\n",
              "  <thead>\n",
              "    <tr style=\"text-align: right;\">\n",
              "      <th></th>\n",
              "      <th>title</th>\n",
              "      <th>is_fake</th>\n",
              "    </tr>\n",
              "  </thead>\n",
              "  <tbody>\n",
              "    <tr>\n",
              "      <th>0</th>\n",
              "      <td>Москвичу Владимиру Клутину пришёл счёт за вмеш...</td>\n",
              "      <td>1</td>\n",
              "    </tr>\n",
              "    <tr>\n",
              "      <th>1</th>\n",
              "      <td>Агент Кокорина назвал езду по встречке житейск...</td>\n",
              "      <td>0</td>\n",
              "    </tr>\n",
              "    <tr>\n",
              "      <th>2</th>\n",
              "      <td>Госдума рассмотрит возможность введения секрет...</td>\n",
              "      <td>1</td>\n",
              "    </tr>\n",
              "    <tr>\n",
              "      <th>3</th>\n",
              "      <td>ФАС заблокировала поставку скоростных трамваев...</td>\n",
              "      <td>0</td>\n",
              "    </tr>\n",
              "    <tr>\n",
              "      <th>4</th>\n",
              "      <td>Против Навального завели дело о недоносительст...</td>\n",
              "      <td>1</td>\n",
              "    </tr>\n",
              "  </tbody>\n",
              "</table>\n",
              "</div>\n",
              "      <button class=\"colab-df-convert\" onclick=\"convertToInteractive('df-c8a671a0-e61f-40cb-8802-24c765a32018')\"\n",
              "              title=\"Convert this dataframe to an interactive table.\"\n",
              "              style=\"display:none;\">\n",
              "        \n",
              "  <svg xmlns=\"http://www.w3.org/2000/svg\" height=\"24px\"viewBox=\"0 0 24 24\"\n",
              "       width=\"24px\">\n",
              "    <path d=\"M0 0h24v24H0V0z\" fill=\"none\"/>\n",
              "    <path d=\"M18.56 5.44l.94 2.06.94-2.06 2.06-.94-2.06-.94-.94-2.06-.94 2.06-2.06.94zm-11 1L8.5 8.5l.94-2.06 2.06-.94-2.06-.94L8.5 2.5l-.94 2.06-2.06.94zm10 10l.94 2.06.94-2.06 2.06-.94-2.06-.94-.94-2.06-.94 2.06-2.06.94z\"/><path d=\"M17.41 7.96l-1.37-1.37c-.4-.4-.92-.59-1.43-.59-.52 0-1.04.2-1.43.59L10.3 9.45l-7.72 7.72c-.78.78-.78 2.05 0 2.83L4 21.41c.39.39.9.59 1.41.59.51 0 1.02-.2 1.41-.59l7.78-7.78 2.81-2.81c.8-.78.8-2.07 0-2.86zM5.41 20L4 18.59l7.72-7.72 1.47 1.35L5.41 20z\"/>\n",
              "  </svg>\n",
              "      </button>\n",
              "      \n",
              "  <style>\n",
              "    .colab-df-container {\n",
              "      display:flex;\n",
              "      flex-wrap:wrap;\n",
              "      gap: 12px;\n",
              "    }\n",
              "\n",
              "    .colab-df-convert {\n",
              "      background-color: #E8F0FE;\n",
              "      border: none;\n",
              "      border-radius: 50%;\n",
              "      cursor: pointer;\n",
              "      display: none;\n",
              "      fill: #1967D2;\n",
              "      height: 32px;\n",
              "      padding: 0 0 0 0;\n",
              "      width: 32px;\n",
              "    }\n",
              "\n",
              "    .colab-df-convert:hover {\n",
              "      background-color: #E2EBFA;\n",
              "      box-shadow: 0px 1px 2px rgba(60, 64, 67, 0.3), 0px 1px 3px 1px rgba(60, 64, 67, 0.15);\n",
              "      fill: #174EA6;\n",
              "    }\n",
              "\n",
              "    [theme=dark] .colab-df-convert {\n",
              "      background-color: #3B4455;\n",
              "      fill: #D2E3FC;\n",
              "    }\n",
              "\n",
              "    [theme=dark] .colab-df-convert:hover {\n",
              "      background-color: #434B5C;\n",
              "      box-shadow: 0px 1px 3px 1px rgba(0, 0, 0, 0.15);\n",
              "      filter: drop-shadow(0px 1px 2px rgba(0, 0, 0, 0.3));\n",
              "      fill: #FFFFFF;\n",
              "    }\n",
              "  </style>\n",
              "\n",
              "      <script>\n",
              "        const buttonEl =\n",
              "          document.querySelector('#df-c8a671a0-e61f-40cb-8802-24c765a32018 button.colab-df-convert');\n",
              "        buttonEl.style.display =\n",
              "          google.colab.kernel.accessAllowed ? 'block' : 'none';\n",
              "\n",
              "        async function convertToInteractive(key) {\n",
              "          const element = document.querySelector('#df-c8a671a0-e61f-40cb-8802-24c765a32018');\n",
              "          const dataTable =\n",
              "            await google.colab.kernel.invokeFunction('convertToInteractive',\n",
              "                                                     [key], {});\n",
              "          if (!dataTable) return;\n",
              "\n",
              "          const docLinkHtml = 'Like what you see? Visit the ' +\n",
              "            '<a target=\"_blank\" href=https://colab.research.google.com/notebooks/data_table.ipynb>data table notebook</a>'\n",
              "            + ' to learn more about interactive tables.';\n",
              "          element.innerHTML = '';\n",
              "          dataTable['output_type'] = 'display_data';\n",
              "          await google.colab.output.renderOutput(dataTable, element);\n",
              "          const docLink = document.createElement('div');\n",
              "          docLink.innerHTML = docLinkHtml;\n",
              "          element.appendChild(docLink);\n",
              "        }\n",
              "      </script>\n",
              "    </div>\n",
              "  </div>\n",
              "  "
            ]
          },
          "metadata": {},
          "execution_count": 9
        }
      ]
    },
    {
      "cell_type": "markdown",
      "source": [
        "Новости на руссокм языке. Следует правильно выбрать библиотеки."
      ],
      "metadata": {
        "id": "vO11AdEI1CUC"
      }
    },
    {
      "cell_type": "code",
      "source": [
        "for i in range(5):\n",
        "    print(df.title[i])"
      ],
      "metadata": {
        "colab": {
          "base_uri": "https://localhost:8080/"
        },
        "id": "mqQNN2UJagKA",
        "outputId": "94298c42-6e91-440c-ff71-452ba9dcaed1"
      },
      "execution_count": 10,
      "outputs": [
        {
          "output_type": "stream",
          "name": "stdout",
          "text": [
            "Москвичу Владимиру Клутину пришёл счёт за вмешательство в американские выборы\n",
            "Агент Кокорина назвал езду по встречке житейской историей\n",
            "Госдума рассмотрит возможность введения секретных статей Уголовного кодекса\n",
            "ФАС заблокировала поставку скоростных трамваев для Москвы\n",
            "Против Навального завели дело о недоносительстве на Волкова\n"
          ]
        }
      ]
    },
    {
      "cell_type": "markdown",
      "source": [
        "Классы хорошо сбалансированные."
      ],
      "metadata": {
        "id": "z3-solX91Khv"
      }
    },
    {
      "cell_type": "code",
      "source": [
        "df.is_fake.value_counts()"
      ],
      "metadata": {
        "colab": {
          "base_uri": "https://localhost:8080/"
        },
        "id": "KD3fKUXWazD5",
        "outputId": "93dd7f44-680a-4b25-eea1-bc23191329ee"
      },
      "execution_count": 11,
      "outputs": [
        {
          "output_type": "execute_result",
          "data": {
            "text/plain": [
              "1    2879\n",
              "0    2879\n",
              "Name: is_fake, dtype: int64"
            ]
          },
          "metadata": {},
          "execution_count": 11
        }
      ]
    },
    {
      "cell_type": "markdown",
      "source": [
        "В данных нет пустых значений."
      ],
      "metadata": {
        "id": "Mt68eoqSbE0Z"
      }
    },
    {
      "cell_type": "code",
      "source": [
        "df[df == np.nan].sum()"
      ],
      "metadata": {
        "colab": {
          "base_uri": "https://localhost:8080/"
        },
        "id": "WmRI421BbLAA",
        "outputId": "becad2a6-454a-415a-969c-f30fe023393f"
      },
      "execution_count": 12,
      "outputs": [
        {
          "output_type": "execute_result",
          "data": {
            "text/plain": [
              "title        0\n",
              "is_fake    0.0\n",
              "dtype: object"
            ]
          },
          "metadata": {},
          "execution_count": 12
        }
      ]
    },
    {
      "cell_type": "code",
      "source": [
        "df.dropna()\n",
        "df.shape"
      ],
      "metadata": {
        "colab": {
          "base_uri": "https://localhost:8080/"
        },
        "id": "lEHs8jljb3qW",
        "outputId": "c37dc457-33ae-4a03-8be9-2c539e54ebc2"
      },
      "execution_count": 13,
      "outputs": [
        {
          "output_type": "execute_result",
          "data": {
            "text/plain": [
              "(5758, 2)"
            ]
          },
          "metadata": {},
          "execution_count": 13
        }
      ]
    },
    {
      "cell_type": "code",
      "source": [
        "labels = df.is_fake.copy().to_numpy()"
      ],
      "metadata": {
        "id": "MT7VE7Umb3ta"
      },
      "execution_count": 14,
      "outputs": []
    },
    {
      "cell_type": "code",
      "source": [
        "train_data = df.title.copy().to_numpy()"
      ],
      "metadata": {
        "id": "EwFCgMgkb3wd"
      },
      "execution_count": 15,
      "outputs": []
    },
    {
      "cell_type": "code",
      "source": [
        "train_data[0]"
      ],
      "metadata": {
        "colab": {
          "base_uri": "https://localhost:8080/",
          "height": 36
        },
        "id": "U6sLZ2Lib3zj",
        "outputId": "464469fb-4efa-42b9-b6e0-3fbb87ebb61f"
      },
      "execution_count": 16,
      "outputs": [
        {
          "output_type": "execute_result",
          "data": {
            "text/plain": [
              "'Москвичу Владимиру Клутину пришёл счёт за вмешательство в американские выборы'"
            ],
            "application/vnd.google.colaboratory.intrinsic+json": {
              "type": "string"
            }
          },
          "metadata": {},
          "execution_count": 16
        }
      ]
    },
    {
      "cell_type": "markdown",
      "source": [
        "Импотрируем `nltk` библиотеку для удаления стопслов. И посмотрим, как выглядят стоп слова."
      ],
      "metadata": {
        "id": "GvHMe-GA1Vdb"
      }
    },
    {
      "cell_type": "code",
      "source": [
        "import nltk\n",
        "nltk.download('stopwords')\n",
        "from nltk.corpus import stopwords\n",
        "stopWords = set(stopwords.words('russian'))\n",
        "print(stopWords)"
      ],
      "metadata": {
        "colab": {
          "base_uri": "https://localhost:8080/"
        },
        "id": "YGVQQuG6b33D",
        "outputId": "6c4ae483-8210-4e8f-a6c0-d4161802ec6a"
      },
      "execution_count": 17,
      "outputs": [
        {
          "output_type": "stream",
          "name": "stdout",
          "text": [
            "[nltk_data] Downloading package stopwords to /root/nltk_data...\n",
            "[nltk_data]   Unzipping corpora/stopwords.zip.\n",
            "{'другой', 'над', 'же', 'нас', 'опять', 'с', 'ней', 'со', 'чтобы', 'ее', 'нельзя', 'сейчас', 'тебя', 'хорошо', 'них', 'здесь', 'два', 'ему', 'разве', 'через', 'больше', 'ним', 'я', 'почти', 'нет', 'даже', 'они', 'вы', 'такой', 'а', 'эту', 'много', 'ли', 'него', 'потом', 'за', 'перед', 'она', 'себя', 'мне', 'ничего', 'надо', 'мы', 'всех', 'всего', 'наконец', 'том', 'и', 'их', 'до', 'вот', 'будто', 'вас', 'где', 'им', 'уж', 'меня', 'никогда', 'три', 'к', 'мой', 'под', 'лучше', 'тогда', 'все', 'о', 'что', 'про', 'всегда', 'ей', 'по', 'между', 'этого', 'из', 'во', 'или', 'более', 'если', 'ведь', 'там', 'один', 'чтоб', 'при', 'его', 'тем', 'тут', 'для', 'в', 'себе', 'вам', 'ты', 'какой', 'ну', 'ж', 'свою', 'об', 'иногда', 'вдруг', 'какая', 'он', 'было', 'уже', 'у', 'этом', 'быть', 'была', 'кто', 'на', 'как', 'чего', 'чуть', 'так', 'куда', 'без', 'можно', 'еще', 'тот', 'того', 'этой', 'то', 'сам', 'раз', 'нибудь', 'будет', 'когда', 'после', 'совсем', 'не', 'впрочем', 'бы', 'зачем', 'может', 'был', 'только', 'моя', 'да', 'теперь', 'тоже', 'ни', 'хоть', 'потому', 'но', 'были', 'чем', 'конечно', 'от', 'эти', 'есть', 'этот', 'всю', 'нее'}\n"
          ]
        }
      ]
    },
    {
      "cell_type": "markdown",
      "source": [
        "Напишем свой токинезатор."
      ],
      "metadata": {
        "id": "0B9giP-j1qUM"
      }
    },
    {
      "cell_type": "code",
      "source": [
        "import re\n",
        "from nltk.tokenize import WordPunctTokenizer\n",
        "from nltk.stem import SnowballStemmer\n",
        "class MyTokenizerStemming:\n",
        "    def __init__(self):\n",
        "        pass\n",
        "    def tokenize(self, text):\n",
        "        tokens = re.findall('[А-Яа-яЁё]+', text)\n",
        "        tokens = [t for t in tokens if t not in stopWords]\n",
        "        ss = SnowballStemmer(language='russian')\n",
        "        tokens = ' '.join(list(map(ss.stem, tokens)))\n",
        "        return tokens\n",
        "    def get_tokens(self, data):\n",
        "        result = []\n",
        "        for i in data:\n",
        "            result.append(self.tokenize(i))\n",
        "        return result\n",
        "\n",
        "Stemming_tokenizer = MyTokenizerStemming()"
      ],
      "metadata": {
        "id": "ONb_nRBF1_gr"
      },
      "execution_count": 18,
      "outputs": []
    },
    {
      "cell_type": "code",
      "source": [
        "!pip install -q pymorphy2\n",
        "import pymorphy2 "
      ],
      "metadata": {
        "colab": {
          "base_uri": "https://localhost:8080/"
        },
        "id": "3dS7a2k5J82X",
        "outputId": "7348e6af-7693-454c-8426-a616417f2963"
      },
      "execution_count": 19,
      "outputs": [
        {
          "output_type": "stream",
          "name": "stdout",
          "text": [
            "\u001b[K     |████████████████████████████████| 55 kB 1.7 MB/s \n",
            "\u001b[K     |████████████████████████████████| 8.2 MB 5.4 MB/s \n",
            "\u001b[?25h"
          ]
        }
      ]
    },
    {
      "cell_type": "code",
      "source": [
        "import re\n",
        "from nltk.tokenize import WordPunctTokenizer\n",
        "from nltk.stem import SnowballStemmer\n",
        "from nltk.stem.wordnet import WordNetLemmatizer\n",
        "morph = pymorphy2.MorphAnalyzer()\n",
        "class MyTokenizerLemm:  \n",
        "    def __init__(self):\n",
        "        pass\n",
        "    def tokenize(self, text):\n",
        "        tokens = re.findall('[ЁёА-Яа-я]+', text)\n",
        "        tokens = list(map(lambda x: morph.parse(x)[0].normal_form, tokens))\n",
        "        tokens = ' '.join([t for t in tokens if t not in stopWords])\n",
        "        return tokens\n",
        "    def get_tokens(self, data):\n",
        "        result = []\n",
        "        for i in data:\n",
        "            result.append(self.tokenize(i))\n",
        "        return result\n",
        "\n",
        "Lemm_tokenizer = MyTokenizerLemm()"
      ],
      "metadata": {
        "id": "oIewrluBIM15"
      },
      "execution_count": 20,
      "outputs": []
    },
    {
      "cell_type": "code",
      "source": [
        "Stemming_tokenizer.get_tokens([\"ёжики вышли на прогулку\"]), Lemm_tokenizer.get_tokens([\"ёжики вышли на прогулку\"])"
      ],
      "metadata": {
        "colab": {
          "base_uri": "https://localhost:8080/"
        },
        "id": "zngbqZBUhcFm",
        "outputId": "aa852490-2e13-4797-b08f-8d0344bc54c8"
      },
      "execution_count": 21,
      "outputs": [
        {
          "output_type": "execute_result",
          "data": {
            "text/plain": [
              "(['ежик вышл прогулк'], ['ёжик выйти прогулка'])"
            ]
          },
          "metadata": {},
          "execution_count": 21
        }
      ]
    },
    {
      "cell_type": "markdown",
      "source": [
        "Посмотри на результат."
      ],
      "metadata": {
        "id": "Dtaj9yCU126H"
      }
    },
    {
      "cell_type": "code",
      "source": [
        "Stemming_tokenizer.get_tokens(train_data[12:17])"
      ],
      "metadata": {
        "colab": {
          "base_uri": "https://localhost:8080/"
        },
        "id": "oKjcs9cW2AnV",
        "outputId": "3564239a-fe08-49ee-9e9b-ca29c0f78609"
      },
      "execution_count": 22,
      "outputs": [
        {
          "output_type": "execute_result",
          "data": {
            "text/plain": [
              "['в росс введут обязательн техосмотр садов инвентар',\n",
              " 'топилин провозглас окончан зарплатн кризис росс',\n",
              " 'режиссер алексе герма наград орден',\n",
              " 'олаф шольц дед рассказыва как вкусн украин кур молок яйц',\n",
              " 'бегл петербург основа наш эр полтор тысяч лет старш москв']"
            ]
          },
          "metadata": {},
          "execution_count": 22
        }
      ]
    },
    {
      "cell_type": "code",
      "source": [
        " Lemm_tokenizer.get_tokens(train_data[12:17])"
      ],
      "metadata": {
        "colab": {
          "base_uri": "https://localhost:8080/"
        },
        "id": "tACNEG5crbja",
        "outputId": "add2683f-684b-4e79-a545-dbe33d5eddcb"
      },
      "execution_count": 23,
      "outputs": [
        {
          "output_type": "execute_result",
          "data": {
            "text/plain": [
              "['россия ввести обязательный техосмотр садовый инвентарь',\n",
              " 'топилина провозгласить окончание зарплатный кризис россия',\n",
              " 'режиссёр алексей герман наградить орден',\n",
              " 'олафа шольц дед рассказывать вкусный украина кура молоко яйцо',\n",
              " 'беглов петербург основать наш эра полтора тысяча год старший москва']"
            ]
          },
          "metadata": {},
          "execution_count": 23
        }
      ]
    },
    {
      "cell_type": "markdown",
      "source": [
        "Токинезируем данные."
      ],
      "metadata": {
        "id": "drDRkxY62DrS"
      }
    },
    {
      "cell_type": "code",
      "source": [
        "corpus = Stemming_tokenizer.get_tokens(train_data)"
      ],
      "metadata": {
        "id": "i7Fy_wR9w6qU"
      },
      "execution_count": 24,
      "outputs": []
    },
    {
      "cell_type": "code",
      "source": [
        "corpus[:5]"
      ],
      "metadata": {
        "colab": {
          "base_uri": "https://localhost:8080/"
        },
        "id": "W1n4HujAxP9x",
        "outputId": "cea66d05-a560-41e1-c99c-60799ebbffd8"
      },
      "execution_count": 25,
      "outputs": [
        {
          "output_type": "execute_result",
          "data": {
            "text/plain": [
              "['москвич владимир клутин пришел счет вмешательств американск выбор',\n",
              " 'агент кокорин назва езд встречк житейск истор',\n",
              " 'госдум рассмотр возможн введен секретн стат уголовн кодекс',\n",
              " 'фас заблокирова поставк скоростн трамва москв',\n",
              " 'прот навальн завел дел недоносительств волков']"
            ]
          },
          "metadata": {},
          "execution_count": 25
        }
      ]
    },
    {
      "cell_type": "markdown",
      "source": [
        "Для начала используем TF-IDF метрику для перевода новостей в численные признаки."
      ],
      "metadata": {
        "id": "zg6ZbDWE2Lua"
      }
    },
    {
      "cell_type": "code",
      "source": [
        "from sklearn.feature_extraction.text import TfidfVectorizer\n",
        "tfidf_v=TfidfVectorizer(max_features=7500,ngram_range=(1,3))\n",
        "X = tfidf_v.fit_transform(corpus).toarray()"
      ],
      "metadata": {
        "id": "dBoA_45q2Apy"
      },
      "execution_count": 26,
      "outputs": []
    },
    {
      "cell_type": "code",
      "source": [
        "X.shape"
      ],
      "metadata": {
        "colab": {
          "base_uri": "https://localhost:8080/"
        },
        "id": "bt14e6gOxewW",
        "outputId": "96b4d01a-15fe-4b13-ff9f-98ecb5edafdf"
      },
      "execution_count": 27,
      "outputs": [
        {
          "output_type": "execute_result",
          "data": {
            "text/plain": [
              "(5758, 7500)"
            ]
          },
          "metadata": {},
          "execution_count": 27
        }
      ]
    },
    {
      "cell_type": "markdown",
      "source": [
        "Разделим данные на тестовую и обучающую части."
      ],
      "metadata": {
        "id": "LvYdelFV2t0T"
      }
    },
    {
      "cell_type": "code",
      "source": [
        "from sklearn.model_selection import train_test_split\n",
        "X_train, X_test, y_train, y_test = train_test_split(X, labels, test_size=0.2, random_state=42)"
      ],
      "metadata": {
        "id": "_2qC2Du5xkXB"
      },
      "execution_count": 28,
      "outputs": []
    },
    {
      "cell_type": "markdown",
      "source": [
        "Посмотри какие признаки выделила TF-IDF."
      ],
      "metadata": {
        "id": "tATW4tYT23ZU"
      }
    },
    {
      "cell_type": "code",
      "source": [
        "tfidf_v.get_feature_names_out()[:10]"
      ],
      "metadata": {
        "colab": {
          "base_uri": "https://localhost:8080/"
        },
        "id": "aqvSBQTGxkb8",
        "outputId": "8eab0187-11bc-40e9-e59d-3c7e726758b2"
      },
      "execution_count": 29,
      "outputs": [
        {
          "output_type": "execute_result",
          "data": {
            "text/plain": [
              "array(['аборт', 'абрамович', 'авангард', 'авар', 'аварийн', 'август',\n",
              "       'авиабилет', 'авиакомпан', 'авиакомпан белав', 'авиалин'],\n",
              "      dtype=object)"
            ]
          },
          "metadata": {},
          "execution_count": 29
        }
      ]
    },
    {
      "cell_type": "code",
      "source": [
        "tfidf_v.get_params()"
      ],
      "metadata": {
        "colab": {
          "base_uri": "https://localhost:8080/"
        },
        "id": "nMJ6wwaiy9W8",
        "outputId": "0108f931-e0b5-4b16-b7d0-05eed00cb6ae"
      },
      "execution_count": 30,
      "outputs": [
        {
          "output_type": "execute_result",
          "data": {
            "text/plain": [
              "{'analyzer': 'word',\n",
              " 'binary': False,\n",
              " 'decode_error': 'strict',\n",
              " 'dtype': numpy.float64,\n",
              " 'encoding': 'utf-8',\n",
              " 'input': 'content',\n",
              " 'lowercase': True,\n",
              " 'max_df': 1.0,\n",
              " 'max_features': 7500,\n",
              " 'min_df': 1,\n",
              " 'ngram_range': (1, 3),\n",
              " 'norm': 'l2',\n",
              " 'preprocessor': None,\n",
              " 'smooth_idf': True,\n",
              " 'stop_words': None,\n",
              " 'strip_accents': None,\n",
              " 'sublinear_tf': False,\n",
              " 'token_pattern': '(?u)\\\\b\\\\w\\\\w+\\\\b',\n",
              " 'tokenizer': None,\n",
              " 'use_idf': True,\n",
              " 'vocabulary': None}"
            ]
          },
          "metadata": {},
          "execution_count": 30
        }
      ]
    },
    {
      "cell_type": "code",
      "source": [
        "count_df = pd.DataFrame(X_train, columns=tfidf_v.get_feature_names())\n",
        "count_df.head()"
      ],
      "metadata": {
        "colab": {
          "base_uri": "https://localhost:8080/",
          "height": 292
        },
        "id": "xZJjI5e5zAiy",
        "outputId": "067c832a-3cf2-4a29-e923-85bfdc0b9a27"
      },
      "execution_count": 31,
      "outputs": [
        {
          "output_type": "stream",
          "name": "stderr",
          "text": [
            "/usr/local/lib/python3.7/dist-packages/sklearn/utils/deprecation.py:87: FutureWarning: Function get_feature_names is deprecated; get_feature_names is deprecated in 1.0 and will be removed in 1.2. Please use get_feature_names_out instead.\n",
            "  warnings.warn(msg, category=FutureWarning)\n"
          ]
        },
        {
          "output_type": "execute_result",
          "data": {
            "text/plain": [
              "   аборт  абрамович  авангард  авар  аварийн  август  авиабилет  авиакомпан  \\\n",
              "0    0.0        0.0       0.0   0.0      0.0     0.0        0.0         0.0   \n",
              "1    0.0        0.0       0.0   0.0      0.0     0.0        0.0         0.0   \n",
              "2    0.0        0.0       0.0   0.0      0.0     0.0        0.0         0.0   \n",
              "3    0.0        0.0       0.0   0.0      0.0     0.0        0.0         0.0   \n",
              "4    0.0        0.0       0.0   0.0      0.0     0.0        0.0         0.0   \n",
              "\n",
              "   авиакомпан белав  авиалин  ...  янукович  япон  япон нача  японск  ярмарк  \\\n",
              "0               0.0      0.0  ...       0.0   0.0        0.0     0.0     0.0   \n",
              "1               0.0      0.0  ...       0.0   0.0        0.0     0.0     0.0   \n",
              "2               0.0      0.0  ...       0.0   0.0        0.0     0.0     0.0   \n",
              "3               0.0      0.0  ...       0.0   0.0        0.0     0.0     0.0   \n",
              "4               0.0      0.0  ...       0.0   0.0        0.0     0.0     0.0   \n",
              "\n",
              "   яров  яров потребова  ярославл  ярославск  яхт  \n",
              "0   0.0             0.0       0.0        0.0  0.0  \n",
              "1   0.0             0.0       0.0        0.0  0.0  \n",
              "2   0.0             0.0       0.0        0.0  0.0  \n",
              "3   0.0             0.0       0.0        0.0  0.0  \n",
              "4   0.0             0.0       0.0        0.0  0.0  \n",
              "\n",
              "[5 rows x 7500 columns]"
            ],
            "text/html": [
              "\n",
              "  <div id=\"df-3834ba90-2d5b-4da2-9fc0-49c803dc80d2\">\n",
              "    <div class=\"colab-df-container\">\n",
              "      <div>\n",
              "<style scoped>\n",
              "    .dataframe tbody tr th:only-of-type {\n",
              "        vertical-align: middle;\n",
              "    }\n",
              "\n",
              "    .dataframe tbody tr th {\n",
              "        vertical-align: top;\n",
              "    }\n",
              "\n",
              "    .dataframe thead th {\n",
              "        text-align: right;\n",
              "    }\n",
              "</style>\n",
              "<table border=\"1\" class=\"dataframe\">\n",
              "  <thead>\n",
              "    <tr style=\"text-align: right;\">\n",
              "      <th></th>\n",
              "      <th>аборт</th>\n",
              "      <th>абрамович</th>\n",
              "      <th>авангард</th>\n",
              "      <th>авар</th>\n",
              "      <th>аварийн</th>\n",
              "      <th>август</th>\n",
              "      <th>авиабилет</th>\n",
              "      <th>авиакомпан</th>\n",
              "      <th>авиакомпан белав</th>\n",
              "      <th>авиалин</th>\n",
              "      <th>...</th>\n",
              "      <th>янукович</th>\n",
              "      <th>япон</th>\n",
              "      <th>япон нача</th>\n",
              "      <th>японск</th>\n",
              "      <th>ярмарк</th>\n",
              "      <th>яров</th>\n",
              "      <th>яров потребова</th>\n",
              "      <th>ярославл</th>\n",
              "      <th>ярославск</th>\n",
              "      <th>яхт</th>\n",
              "    </tr>\n",
              "  </thead>\n",
              "  <tbody>\n",
              "    <tr>\n",
              "      <th>0</th>\n",
              "      <td>0.0</td>\n",
              "      <td>0.0</td>\n",
              "      <td>0.0</td>\n",
              "      <td>0.0</td>\n",
              "      <td>0.0</td>\n",
              "      <td>0.0</td>\n",
              "      <td>0.0</td>\n",
              "      <td>0.0</td>\n",
              "      <td>0.0</td>\n",
              "      <td>0.0</td>\n",
              "      <td>...</td>\n",
              "      <td>0.0</td>\n",
              "      <td>0.0</td>\n",
              "      <td>0.0</td>\n",
              "      <td>0.0</td>\n",
              "      <td>0.0</td>\n",
              "      <td>0.0</td>\n",
              "      <td>0.0</td>\n",
              "      <td>0.0</td>\n",
              "      <td>0.0</td>\n",
              "      <td>0.0</td>\n",
              "    </tr>\n",
              "    <tr>\n",
              "      <th>1</th>\n",
              "      <td>0.0</td>\n",
              "      <td>0.0</td>\n",
              "      <td>0.0</td>\n",
              "      <td>0.0</td>\n",
              "      <td>0.0</td>\n",
              "      <td>0.0</td>\n",
              "      <td>0.0</td>\n",
              "      <td>0.0</td>\n",
              "      <td>0.0</td>\n",
              "      <td>0.0</td>\n",
              "      <td>...</td>\n",
              "      <td>0.0</td>\n",
              "      <td>0.0</td>\n",
              "      <td>0.0</td>\n",
              "      <td>0.0</td>\n",
              "      <td>0.0</td>\n",
              "      <td>0.0</td>\n",
              "      <td>0.0</td>\n",
              "      <td>0.0</td>\n",
              "      <td>0.0</td>\n",
              "      <td>0.0</td>\n",
              "    </tr>\n",
              "    <tr>\n",
              "      <th>2</th>\n",
              "      <td>0.0</td>\n",
              "      <td>0.0</td>\n",
              "      <td>0.0</td>\n",
              "      <td>0.0</td>\n",
              "      <td>0.0</td>\n",
              "      <td>0.0</td>\n",
              "      <td>0.0</td>\n",
              "      <td>0.0</td>\n",
              "      <td>0.0</td>\n",
              "      <td>0.0</td>\n",
              "      <td>...</td>\n",
              "      <td>0.0</td>\n",
              "      <td>0.0</td>\n",
              "      <td>0.0</td>\n",
              "      <td>0.0</td>\n",
              "      <td>0.0</td>\n",
              "      <td>0.0</td>\n",
              "      <td>0.0</td>\n",
              "      <td>0.0</td>\n",
              "      <td>0.0</td>\n",
              "      <td>0.0</td>\n",
              "    </tr>\n",
              "    <tr>\n",
              "      <th>3</th>\n",
              "      <td>0.0</td>\n",
              "      <td>0.0</td>\n",
              "      <td>0.0</td>\n",
              "      <td>0.0</td>\n",
              "      <td>0.0</td>\n",
              "      <td>0.0</td>\n",
              "      <td>0.0</td>\n",
              "      <td>0.0</td>\n",
              "      <td>0.0</td>\n",
              "      <td>0.0</td>\n",
              "      <td>...</td>\n",
              "      <td>0.0</td>\n",
              "      <td>0.0</td>\n",
              "      <td>0.0</td>\n",
              "      <td>0.0</td>\n",
              "      <td>0.0</td>\n",
              "      <td>0.0</td>\n",
              "      <td>0.0</td>\n",
              "      <td>0.0</td>\n",
              "      <td>0.0</td>\n",
              "      <td>0.0</td>\n",
              "    </tr>\n",
              "    <tr>\n",
              "      <th>4</th>\n",
              "      <td>0.0</td>\n",
              "      <td>0.0</td>\n",
              "      <td>0.0</td>\n",
              "      <td>0.0</td>\n",
              "      <td>0.0</td>\n",
              "      <td>0.0</td>\n",
              "      <td>0.0</td>\n",
              "      <td>0.0</td>\n",
              "      <td>0.0</td>\n",
              "      <td>0.0</td>\n",
              "      <td>...</td>\n",
              "      <td>0.0</td>\n",
              "      <td>0.0</td>\n",
              "      <td>0.0</td>\n",
              "      <td>0.0</td>\n",
              "      <td>0.0</td>\n",
              "      <td>0.0</td>\n",
              "      <td>0.0</td>\n",
              "      <td>0.0</td>\n",
              "      <td>0.0</td>\n",
              "      <td>0.0</td>\n",
              "    </tr>\n",
              "  </tbody>\n",
              "</table>\n",
              "<p>5 rows × 7500 columns</p>\n",
              "</div>\n",
              "      <button class=\"colab-df-convert\" onclick=\"convertToInteractive('df-3834ba90-2d5b-4da2-9fc0-49c803dc80d2')\"\n",
              "              title=\"Convert this dataframe to an interactive table.\"\n",
              "              style=\"display:none;\">\n",
              "        \n",
              "  <svg xmlns=\"http://www.w3.org/2000/svg\" height=\"24px\"viewBox=\"0 0 24 24\"\n",
              "       width=\"24px\">\n",
              "    <path d=\"M0 0h24v24H0V0z\" fill=\"none\"/>\n",
              "    <path d=\"M18.56 5.44l.94 2.06.94-2.06 2.06-.94-2.06-.94-.94-2.06-.94 2.06-2.06.94zm-11 1L8.5 8.5l.94-2.06 2.06-.94-2.06-.94L8.5 2.5l-.94 2.06-2.06.94zm10 10l.94 2.06.94-2.06 2.06-.94-2.06-.94-.94-2.06-.94 2.06-2.06.94z\"/><path d=\"M17.41 7.96l-1.37-1.37c-.4-.4-.92-.59-1.43-.59-.52 0-1.04.2-1.43.59L10.3 9.45l-7.72 7.72c-.78.78-.78 2.05 0 2.83L4 21.41c.39.39.9.59 1.41.59.51 0 1.02-.2 1.41-.59l7.78-7.78 2.81-2.81c.8-.78.8-2.07 0-2.86zM5.41 20L4 18.59l7.72-7.72 1.47 1.35L5.41 20z\"/>\n",
              "  </svg>\n",
              "      </button>\n",
              "      \n",
              "  <style>\n",
              "    .colab-df-container {\n",
              "      display:flex;\n",
              "      flex-wrap:wrap;\n",
              "      gap: 12px;\n",
              "    }\n",
              "\n",
              "    .colab-df-convert {\n",
              "      background-color: #E8F0FE;\n",
              "      border: none;\n",
              "      border-radius: 50%;\n",
              "      cursor: pointer;\n",
              "      display: none;\n",
              "      fill: #1967D2;\n",
              "      height: 32px;\n",
              "      padding: 0 0 0 0;\n",
              "      width: 32px;\n",
              "    }\n",
              "\n",
              "    .colab-df-convert:hover {\n",
              "      background-color: #E2EBFA;\n",
              "      box-shadow: 0px 1px 2px rgba(60, 64, 67, 0.3), 0px 1px 3px 1px rgba(60, 64, 67, 0.15);\n",
              "      fill: #174EA6;\n",
              "    }\n",
              "\n",
              "    [theme=dark] .colab-df-convert {\n",
              "      background-color: #3B4455;\n",
              "      fill: #D2E3FC;\n",
              "    }\n",
              "\n",
              "    [theme=dark] .colab-df-convert:hover {\n",
              "      background-color: #434B5C;\n",
              "      box-shadow: 0px 1px 3px 1px rgba(0, 0, 0, 0.15);\n",
              "      filter: drop-shadow(0px 1px 2px rgba(0, 0, 0, 0.3));\n",
              "      fill: #FFFFFF;\n",
              "    }\n",
              "  </style>\n",
              "\n",
              "      <script>\n",
              "        const buttonEl =\n",
              "          document.querySelector('#df-3834ba90-2d5b-4da2-9fc0-49c803dc80d2 button.colab-df-convert');\n",
              "        buttonEl.style.display =\n",
              "          google.colab.kernel.accessAllowed ? 'block' : 'none';\n",
              "\n",
              "        async function convertToInteractive(key) {\n",
              "          const element = document.querySelector('#df-3834ba90-2d5b-4da2-9fc0-49c803dc80d2');\n",
              "          const dataTable =\n",
              "            await google.colab.kernel.invokeFunction('convertToInteractive',\n",
              "                                                     [key], {});\n",
              "          if (!dataTable) return;\n",
              "\n",
              "          const docLinkHtml = 'Like what you see? Visit the ' +\n",
              "            '<a target=\"_blank\" href=https://colab.research.google.com/notebooks/data_table.ipynb>data table notebook</a>'\n",
              "            + ' to learn more about interactive tables.';\n",
              "          element.innerHTML = '';\n",
              "          dataTable['output_type'] = 'display_data';\n",
              "          await google.colab.output.renderOutput(dataTable, element);\n",
              "          const docLink = document.createElement('div');\n",
              "          docLink.innerHTML = docLinkHtml;\n",
              "          element.appendChild(docLink);\n",
              "        }\n",
              "      </script>\n",
              "    </div>\n",
              "  </div>\n",
              "  "
            ]
          },
          "metadata": {},
          "execution_count": 31
        }
      ]
    },
    {
      "cell_type": "markdown",
      "source": [
        "Так выглядит наша матрица после преобразования TF-IDF."
      ],
      "metadata": {
        "id": "eqIZrllN88uW"
      }
    },
    {
      "cell_type": "code",
      "source": [
        "from sklearn import metrics\n",
        "import numpy as np\n",
        "import itertools\n",
        "import matplotlib.pyplot as plt"
      ],
      "metadata": {
        "id": "Yi97SDCrHB1R"
      },
      "execution_count": 32,
      "outputs": []
    },
    {
      "cell_type": "code",
      "source": [
        "def plot_confusion_matrix(cm, classes,\n",
        "                          normalize=False,\n",
        "                          title='Confusion matrix',\n",
        "                          cmap=plt.cm.Blues):\n",
        "    \"\"\"\n",
        "    See full source and example: \n",
        "    http://scikit-learn.org/stable/auto_examples/model_selection/plot_confusion_matrix.html\n",
        "    This function prints and plots the confusion matrix.\n",
        "    Normalization can be applied by setting `normalize=True`.\n",
        "    \"\"\"\n",
        "    plt.imshow(cm, interpolation='nearest', cmap=cmap)\n",
        "    plt.title(title)\n",
        "    plt.colorbar()\n",
        "    tick_marks = np.arange(len(classes))\n",
        "    plt.xticks(tick_marks, classes, rotation=45)\n",
        "    plt.yticks(tick_marks, classes)\n",
        "\n",
        "    if normalize:\n",
        "        cm = cm.astype('float') / cm.sum(axis=1)[:, np.newaxis]\n",
        "        print(\"Normalized confusion matrix\")\n",
        "    else:\n",
        "        print('Confusion matrix, without normalization')\n",
        "\n",
        "    thresh = cm.max() / 2.\n",
        "    for i, j in itertools.product(range(cm.shape[0]), range(cm.shape[1])):\n",
        "        plt.text(j, i, cm[i, j],\n",
        "                 horizontalalignment=\"center\",\n",
        "                 color=\"white\" if cm[i, j] > thresh else \"black\")\n",
        "\n",
        "    plt.tight_layout()\n",
        "    plt.ylabel('True label')\n",
        "    plt.xlabel('Predicted label')"
      ],
      "metadata": {
        "id": "HJAEPPVQHEMh"
      },
      "execution_count": 33,
      "outputs": []
    },
    {
      "cell_type": "markdown",
      "source": [
        "Попробуем разные модели классификаторы."
      ],
      "metadata": {
        "id": "lLNO_5pRwy7_"
      }
    },
    {
      "cell_type": "markdown",
      "source": [
        "# MultinomialNB Algorithm"
      ],
      "metadata": {
        "id": "jSNMBq5ozOpj"
      }
    },
    {
      "cell_type": "code",
      "source": [
        "from sklearn.naive_bayes import MultinomialNB\n",
        "classifier=MultinomialNB()"
      ],
      "metadata": {
        "id": "9fQbPC64ICRY"
      },
      "execution_count": 34,
      "outputs": []
    },
    {
      "cell_type": "code",
      "source": [
        "classifier.fit(X_train, y_train)\n",
        "pred = classifier.predict(X_test)\n",
        "score = metrics.f1_score(y_test, pred)\n",
        "print(\"f1-score:   %0.3f\" % score)\n",
        "cm = metrics.confusion_matrix(y_test, pred)\n",
        "plot_confusion_matrix(cm, classes=['FAKE', 'REAL'])"
      ],
      "metadata": {
        "colab": {
          "base_uri": "https://localhost:8080/",
          "height": 348
        },
        "id": "zYqJ5SZkzUJC",
        "outputId": "063b1191-100c-4ec6-97f5-049e13e1e0c2"
      },
      "execution_count": 35,
      "outputs": [
        {
          "output_type": "stream",
          "name": "stdout",
          "text": [
            "f1-score:   0.850\n",
            "Confusion matrix, without normalization\n"
          ]
        },
        {
          "output_type": "display_data",
          "data": {
            "text/plain": [
              "<Figure size 432x288 with 2 Axes>"
            ],
            "image/png": "[encoded data removed]"
          },
          "metadata": {
            "needs_background": "light"
          }
        }
      ]
    },
    {
      "cell_type": "markdown",
      "source": [
        "# Passive Aggressive Classifier Algorithm"
      ],
      "metadata": {
        "id": "7h0dcCz07j70"
      }
    },
    {
      "cell_type": "code",
      "source": [
        "from sklearn.linear_model import PassiveAggressiveClassifier\n",
        "linear_clf = PassiveAggressiveClassifier(max_iter=40)"
      ],
      "metadata": {
        "id": "WBmP3hzS7orI"
      },
      "execution_count": 36,
      "outputs": []
    },
    {
      "cell_type": "code",
      "source": [
        "linear_clf.fit(X_train, y_train)\n",
        "pred = linear_clf.predict(X_test)\n",
        "score = metrics.f1_score(y_test, pred)\n",
        "print(\"f1-score:   %0.3f\" % score)\n",
        "cm = metrics.confusion_matrix(y_test, pred)\n",
        "plot_confusion_matrix(cm, classes=['FAKE Data', 'REAL Data'])"
      ],
      "metadata": {
        "colab": {
          "base_uri": "https://localhost:8080/",
          "height": 348
        },
        "id": "yOc13hYm7sUs",
        "outputId": "88f97ea2-7fc3-4641-8b3f-c1c6c26ef424"
      },
      "execution_count": 37,
      "outputs": [
        {
          "output_type": "stream",
          "name": "stdout",
          "text": [
            "f1-score:   0.827\n",
            "Confusion matrix, without normalization\n"
          ]
        },
        {
          "output_type": "display_data",
          "data": {
            "text/plain": [
              "<Figure size 432x288 with 2 Axes>"
            ],
            "image/png": "[encoded data removed]"
          },
          "metadata": {
            "needs_background": "light"
          }
        }
      ]
    },
    {
      "cell_type": "markdown",
      "source": [
        "# Multinomial Classifier with Hyperparameter"
      ],
      "metadata": {
        "id": "g3ptGXKy_huc"
      }
    },
    {
      "cell_type": "code",
      "source": [
        "from sklearn.model_selection import train_test_split\n",
        "X_train, X_test, y_train, y_test = train_test_split(X, labels, test_size=0.2, random_state=42)"
      ],
      "metadata": {
        "id": "WKs0k_abJpOg"
      },
      "execution_count": 38,
      "outputs": []
    },
    {
      "cell_type": "code",
      "source": [
        "classifier=MultinomialNB(alpha=0.1)\n",
        "previous_score=0\n",
        "for alpha in np.arange(1,2,0.1):\n",
        "    sub_classifier=MultinomialNB(alpha=alpha)\n",
        "    sub_classifier.fit(X_train,y_train)\n",
        "    y_pred=sub_classifier.predict(X_test)\n",
        "    score = metrics.accuracy_score(y_test, y_pred)\n",
        "    if score > previous_score:\n",
        "        classifier=sub_classifier\n",
        "    print(\"Alpha: {}, Score : {}\".format(alpha,score))"
      ],
      "metadata": {
        "colab": {
          "base_uri": "https://localhost:8080/"
        },
        "id": "kHHIU6y4_gB2",
        "outputId": "75e2f14c-9f80-47cb-c5f0-04dfd6758fc7"
      },
      "execution_count": 39,
      "outputs": [
        {
          "output_type": "stream",
          "name": "stdout",
          "text": [
            "Alpha: 1.0, Score : 0.8498263888888888\n",
            "Alpha: 1.1, Score : 0.8515625\n",
            "Alpha: 1.2000000000000002, Score : 0.8524305555555556\n",
            "Alpha: 1.3000000000000003, Score : 0.8541666666666666\n",
            "Alpha: 1.4000000000000004, Score : 0.8532986111111112\n",
            "Alpha: 1.5000000000000004, Score : 0.8524305555555556\n",
            "Alpha: 1.6000000000000005, Score : 0.8506944444444444\n",
            "Alpha: 1.7000000000000006, Score : 0.8506944444444444\n",
            "Alpha: 1.8000000000000007, Score : 0.8498263888888888\n",
            "Alpha: 1.9000000000000008, Score : 0.8498263888888888\n"
          ]
        }
      ]
    },
    {
      "cell_type": "markdown",
      "source": [
        "# Logistic Regression"
      ],
      "metadata": {
        "id": "ggd5Jjjqo_zm"
      }
    },
    {
      "cell_type": "code",
      "source": [
        "from sklearn.model_selection import train_test_split\n",
        "X_train, X_test, y_train, y_test = train_test_split(X, labels, test_size=0.2, random_state=42)"
      ],
      "metadata": {
        "id": "3xC9-Rho-QGH"
      },
      "execution_count": 40,
      "outputs": []
    },
    {
      "cell_type": "code",
      "source": [
        "from sklearn.linear_model import LogisticRegression\n",
        "from sklearn.preprocessing import MinMaxScaler\n",
        "scaler = MinMaxScaler()\n",
        "X_train = scaler.fit_transform(X_train)\n",
        "X_test = scaler.transform(X_test)\n",
        "classifier = LogisticRegression()\n",
        "classifier.fit(X_train, y_train)\n",
        "pred = classifier.predict(X_test)\n",
        "score = metrics.f1_score(y_test, pred)\n",
        "print(\"f1-score:   %0.3f\" % score)\n",
        "cm = metrics.confusion_matrix(y_test, pred)\n",
        "plot_confusion_matrix(cm, classes=['FAKE', 'REAL'])"
      ],
      "metadata": {
        "id": "YqgOM8CgG3jT",
        "colab": {
          "base_uri": "https://localhost:8080/",
          "height": 348
        },
        "outputId": "1d174586-4be2-44a2-a977-78ae37deabea"
      },
      "execution_count": 41,
      "outputs": [
        {
          "output_type": "stream",
          "name": "stdout",
          "text": [
            "f1-score:   0.852\n",
            "Confusion matrix, without normalization\n"
          ]
        },
        {
          "output_type": "display_data",
          "data": {
            "text/plain": [
              "<Figure size 432x288 with 2 Axes>"
            ],
            "image/png": "[encoded data removed]"
          },
          "metadata": {
            "needs_background": "light"
          }
        }
      ]
    },
    {
      "cell_type": "markdown",
      "source": [
        "## CatBoost"
      ],
      "metadata": {
        "id": "w6rtJ65_-T6N"
      }
    },
    {
      "cell_type": "code",
      "source": [
        "!pip install -q catboost"
      ],
      "metadata": {
        "id": "iUStPKATrCxK",
        "colab": {
          "base_uri": "https://localhost:8080/"
        },
        "outputId": "3862530d-1a5b-4062-fb63-86c4a3ad043a"
      },
      "execution_count": 42,
      "outputs": [
        {
          "output_type": "stream",
          "name": "stdout",
          "text": [
            "\u001b[K     |████████████████████████████████| 76.6 MB 44 kB/s \n",
            "\u001b[?25h"
          ]
        }
      ]
    },
    {
      "cell_type": "code",
      "source": [
        "from sklearn.model_selection import train_test_split\n",
        "X_train, X_test, y_train, y_test = train_test_split(X, labels, test_size=0.2, random_state=42)\n",
        "scaler = MinMaxScaler()\n",
        "X_train = scaler.fit_transform(X_train)\n",
        "X_test = scaler.transform(X_test)"
      ],
      "metadata": {
        "id": "1EIaC1wb6-M1"
      },
      "execution_count": 43,
      "outputs": []
    },
    {
      "cell_type": "code",
      "source": [
        "from catboost import CatBoostClassifier\n",
        "classifier = CatBoostClassifier(iterations=1500, learning_rate=0.03, depth=4)"
      ],
      "metadata": {
        "id": "0_xaIxR__NiG"
      },
      "execution_count": 44,
      "outputs": []
    },
    {
      "cell_type": "code",
      "source": [
        "classifier.fit(X_train, y_train)\n",
        "pred = classifier.predict(X_test)\n",
        "score = metrics.f1_score(y_test, pred)\n",
        "print(\"f1-score:   %0.3f\" % score)\n",
        "cm = metrics.confusion_matrix(y_test, pred)\n",
        "plot_confusion_matrix(cm, classes=['FAKE', 'REAL'])"
      ],
      "metadata": {
        "id": "lmPetWc2q0Rp",
        "colab": {
          "base_uri": "https://localhost:8080/",
          "height": 1000
        },
        "outputId": "44d48f66-b116-43a6-afa9-21963a349666"
      },
      "execution_count": 45,
      "outputs": [
        {
          "output_type": "stream",
          "name": "stdout",
          "text": [
            "0:\tlearn: 0.6914146\ttotal: 117ms\tremaining: 2m 55s\n",
            "1:\tlearn: 0.6891669\ttotal: 163ms\tremaining: 2m 1s\n",
            "2:\tlearn: 0.6874826\ttotal: 207ms\tremaining: 1m 43s\n",
            "3:\tlearn: 0.6856174\ttotal: 243ms\tremaining: 1m 30s\n",
            "4:\tlearn: 0.6841466\ttotal: 269ms\tremaining: 1m 20s\n",
            "5:\tlearn: 0.6832504\ttotal: 296ms\tremaining: 1m 13s\n",
            "6:\tlearn: 0.6821805\ttotal: 327ms\tremaining: 1m 9s\n",
            "7:\tlearn: 0.6809044\ttotal: 355ms\tremaining: 1m 6s\n",
            "8:\tlearn: 0.6794302\ttotal: 383ms\tremaining: 1m 3s\n",
            "9:\tlearn: 0.6782012\ttotal: 412ms\tremaining: 1m 1s\n",
            "10:\tlearn: 0.6771843\ttotal: 456ms\tremaining: 1m 1s\n",
            "11:\tlearn: 0.6760620\ttotal: 518ms\tremaining: 1m 4s\n",
            "12:\tlearn: 0.6750187\ttotal: 580ms\tremaining: 1m 6s\n",
            "13:\tlearn: 0.6740710\ttotal: 636ms\tremaining: 1m 7s\n",
            "14:\tlearn: 0.6731364\ttotal: 678ms\tremaining: 1m 7s\n",
            "15:\tlearn: 0.6719646\ttotal: 716ms\tremaining: 1m 6s\n",
            "16:\tlearn: 0.6713188\ttotal: 749ms\tremaining: 1m 5s\n",
            "17:\tlearn: 0.6697367\ttotal: 798ms\tremaining: 1m 5s\n",
            "18:\tlearn: 0.6687745\ttotal: 840ms\tremaining: 1m 5s\n",
            "19:\tlearn: 0.6675572\ttotal: 866ms\tremaining: 1m 4s\n",
            "20:\tlearn: 0.6666031\ttotal: 892ms\tremaining: 1m 2s\n",
            "21:\tlearn: 0.6659235\ttotal: 918ms\tremaining: 1m 1s\n",
            "22:\tlearn: 0.6646704\ttotal: 953ms\tremaining: 1m 1s\n",
            "23:\tlearn: 0.6636934\ttotal: 1.01s\tremaining: 1m 2s\n",
            "24:\tlearn: 0.6629179\ttotal: 1.06s\tremaining: 1m 2s\n",
            "25:\tlearn: 0.6622894\ttotal: 1.1s\tremaining: 1m 2s\n",
            "26:\tlearn: 0.6611085\ttotal: 1.13s\tremaining: 1m 1s\n",
            "27:\tlearn: 0.6603259\ttotal: 1.16s\tremaining: 1m 1s\n",
            "28:\tlearn: 0.6595819\ttotal: 1.23s\tremaining: 1m 2s\n",
            "29:\tlearn: 0.6584114\ttotal: 1.26s\tremaining: 1m 1s\n",
            "30:\tlearn: 0.6575865\ttotal: 1.29s\tremaining: 1m 1s\n",
            "31:\tlearn: 0.6568979\ttotal: 1.34s\tremaining: 1m 1s\n",
            "32:\tlearn: 0.6561506\ttotal: 1.39s\tremaining: 1m 1s\n",
            "33:\tlearn: 0.6552629\ttotal: 1.44s\tremaining: 1m 2s\n",
            "34:\tlearn: 0.6547564\ttotal: 1.48s\tremaining: 1m 1s\n",
            "35:\tlearn: 0.6540443\ttotal: 1.52s\tremaining: 1m 1s\n",
            "36:\tlearn: 0.6532313\ttotal: 1.55s\tremaining: 1m 1s\n",
            "37:\tlearn: 0.6522993\ttotal: 1.58s\tremaining: 1m\n",
            "38:\tlearn: 0.6515855\ttotal: 1.6s\tremaining: 1m\n",
            "39:\tlearn: 0.6508688\ttotal: 1.64s\tremaining: 59.8s\n",
            "40:\tlearn: 0.6500982\ttotal: 1.69s\tremaining: 1m\n",
            "41:\tlearn: 0.6496080\ttotal: 1.72s\tremaining: 59.6s\n",
            "42:\tlearn: 0.6489747\ttotal: 1.74s\tremaining: 59s\n",
            "43:\tlearn: 0.6482494\ttotal: 1.77s\tremaining: 58.7s\n",
            "44:\tlearn: 0.6473734\ttotal: 1.8s\tremaining: 58.1s\n",
            "45:\tlearn: 0.6466232\ttotal: 1.82s\tremaining: 57.5s\n",
            "46:\tlearn: 0.6461936\ttotal: 1.84s\tremaining: 56.9s\n",
            "47:\tlearn: 0.6455938\ttotal: 1.86s\tremaining: 56.3s\n",
            "48:\tlearn: 0.6449975\ttotal: 1.88s\tremaining: 55.8s\n",
            "49:\tlearn: 0.6441071\ttotal: 1.91s\tremaining: 55.4s\n",
            "50:\tlearn: 0.6436953\ttotal: 1.93s\tremaining: 54.9s\n",
            "51:\tlearn: 0.6431323\ttotal: 1.96s\tremaining: 54.4s\n",
            "52:\tlearn: 0.6426072\ttotal: 1.98s\tremaining: 54s\n",
            "53:\tlearn: 0.6418962\ttotal: 2s\tremaining: 53.5s\n",
            "54:\tlearn: 0.6411709\ttotal: 2.02s\tremaining: 53.1s\n",
            "55:\tlearn: 0.6405585\ttotal: 2.04s\tremaining: 52.7s\n",
            "56:\tlearn: 0.6399350\ttotal: 2.06s\tremaining: 52.3s\n",
            "57:\tlearn: 0.6394718\ttotal: 2.08s\tremaining: 51.9s\n",
            "58:\tlearn: 0.6388846\ttotal: 2.11s\tremaining: 51.5s\n",
            "59:\tlearn: 0.6385474\ttotal: 2.13s\tremaining: 51.2s\n",
            "60:\tlearn: 0.6380539\ttotal: 2.16s\tremaining: 50.9s\n",
            "61:\tlearn: 0.6374971\ttotal: 2.18s\tremaining: 50.6s\n",
            "62:\tlearn: 0.6369414\ttotal: 2.2s\tremaining: 50.2s\n",
            "63:\tlearn: 0.6364271\ttotal: 2.22s\tremaining: 49.9s\n",
            "64:\tlearn: 0.6360939\ttotal: 2.24s\tremaining: 49.5s\n",
            "65:\tlearn: 0.6356898\ttotal: 2.27s\tremaining: 49.2s\n",
            "66:\tlearn: 0.6352801\ttotal: 2.29s\tremaining: 48.9s\n",
            "67:\tlearn: 0.6348046\ttotal: 2.31s\tremaining: 48.6s\n",
            "68:\tlearn: 0.6343752\ttotal: 2.33s\tremaining: 48.4s\n",
            "69:\tlearn: 0.6339176\ttotal: 2.36s\tremaining: 48.3s\n",
            "70:\tlearn: 0.6335426\ttotal: 2.4s\tremaining: 48.4s\n",
            "71:\tlearn: 0.6329826\ttotal: 2.43s\tremaining: 48.1s\n",
            "72:\tlearn: 0.6324941\ttotal: 2.45s\tremaining: 47.9s\n",
            "73:\tlearn: 0.6319890\ttotal: 2.47s\tremaining: 47.6s\n",
            "74:\tlearn: 0.6315066\ttotal: 2.49s\tremaining: 47.3s\n",
            "75:\tlearn: 0.6307878\ttotal: 2.52s\tremaining: 47.2s\n",
            "76:\tlearn: 0.6304638\ttotal: 2.54s\tremaining: 47s\n",
            "77:\tlearn: 0.6299826\ttotal: 2.57s\tremaining: 46.8s\n",
            "78:\tlearn: 0.6293507\ttotal: 2.59s\tremaining: 46.5s\n",
            "79:\tlearn: 0.6289111\ttotal: 2.61s\tremaining: 46.3s\n",
            "80:\tlearn: 0.6283758\ttotal: 2.63s\tremaining: 46.1s\n",
            "81:\tlearn: 0.6278673\ttotal: 2.65s\tremaining: 45.9s\n",
            "82:\tlearn: 0.6274899\ttotal: 2.67s\tremaining: 45.7s\n",
            "83:\tlearn: 0.6272084\ttotal: 2.7s\tremaining: 45.5s\n",
            "84:\tlearn: 0.6268711\ttotal: 2.72s\tremaining: 45.3s\n",
            "85:\tlearn: 0.6265916\ttotal: 2.74s\tremaining: 45.1s\n",
            "86:\tlearn: 0.6261743\ttotal: 2.78s\tremaining: 45.1s\n",
            "87:\tlearn: 0.6257930\ttotal: 2.8s\tremaining: 45s\n",
            "88:\tlearn: 0.6252241\ttotal: 2.82s\tremaining: 44.8s\n",
            "89:\tlearn: 0.6246193\ttotal: 2.85s\tremaining: 44.6s\n",
            "90:\tlearn: 0.6239851\ttotal: 2.87s\tremaining: 44.4s\n",
            "91:\tlearn: 0.6235841\ttotal: 2.89s\tremaining: 44.2s\n",
            "92:\tlearn: 0.6229275\ttotal: 2.91s\tremaining: 44s\n",
            "93:\tlearn: 0.6224705\ttotal: 2.93s\tremaining: 43.9s\n",
            "94:\tlearn: 0.6219502\ttotal: 2.96s\tremaining: 43.7s\n",
            "95:\tlearn: 0.6214327\ttotal: 2.98s\tremaining: 43.5s\n",
            "96:\tlearn: 0.6209714\ttotal: 3s\tremaining: 43.4s\n",
            "97:\tlearn: 0.6205544\ttotal: 3.03s\tremaining: 43.3s\n",
            "98:\tlearn: 0.6200414\ttotal: 3.05s\tremaining: 43.2s\n",
            "99:\tlearn: 0.6194917\ttotal: 3.07s\tremaining: 43s\n",
            "100:\tlearn: 0.6192025\ttotal: 3.09s\tremaining: 42.9s\n",
            "101:\tlearn: 0.6187591\ttotal: 3.12s\tremaining: 42.7s\n",
            "102:\tlearn: 0.6183255\ttotal: 3.14s\tremaining: 42.5s\n",
            "103:\tlearn: 0.6179205\ttotal: 3.16s\tremaining: 42.4s\n",
            "104:\tlearn: 0.6176331\ttotal: 3.18s\tremaining: 42.3s\n",
            "105:\tlearn: 0.6170201\ttotal: 3.2s\tremaining: 42.1s\n",
            "106:\tlearn: 0.6166154\ttotal: 3.23s\tremaining: 42s\n",
            "107:\tlearn: 0.6161998\ttotal: 3.25s\tremaining: 41.9s\n",
            "108:\tlearn: 0.6157595\ttotal: 3.27s\tremaining: 41.7s\n",
            "109:\tlearn: 0.6154679\ttotal: 3.29s\tremaining: 41.6s\n",
            "110:\tlearn: 0.6150870\ttotal: 3.31s\tremaining: 41.4s\n",
            "111:\tlearn: 0.6147538\ttotal: 3.33s\tremaining: 41.3s\n",
            "112:\tlearn: 0.6143977\ttotal: 3.35s\tremaining: 41.2s\n",
            "113:\tlearn: 0.6138289\ttotal: 3.38s\tremaining: 41.1s\n",
            "114:\tlearn: 0.6134214\ttotal: 3.4s\tremaining: 41s\n",
            "115:\tlearn: 0.6130899\ttotal: 3.42s\tremaining: 40.9s\n",
            "116:\tlearn: 0.6126752\ttotal: 3.46s\tremaining: 40.9s\n",
            "117:\tlearn: 0.6122489\ttotal: 3.48s\tremaining: 40.7s\n",
            "118:\tlearn: 0.6118775\ttotal: 3.5s\tremaining: 40.6s\n",
            "119:\tlearn: 0.6113497\ttotal: 3.52s\tremaining: 40.5s\n",
            "120:\tlearn: 0.6110277\ttotal: 3.54s\tremaining: 40.4s\n",
            "121:\tlearn: 0.6106257\ttotal: 3.56s\tremaining: 40.3s\n",
            "122:\tlearn: 0.6101688\ttotal: 3.59s\tremaining: 40.1s\n",
            "123:\tlearn: 0.6097716\ttotal: 3.61s\tremaining: 40.1s\n",
            "124:\tlearn: 0.6093890\ttotal: 3.64s\tremaining: 40s\n",
            "125:\tlearn: 0.6090017\ttotal: 3.66s\tremaining: 39.9s\n",
            "126:\tlearn: 0.6087246\ttotal: 3.68s\tremaining: 39.8s\n",
            "127:\tlearn: 0.6082075\ttotal: 3.7s\tremaining: 39.7s\n",
            "128:\tlearn: 0.6077469\ttotal: 3.72s\tremaining: 39.6s\n",
            "129:\tlearn: 0.6074132\ttotal: 3.75s\tremaining: 39.5s\n",
            "130:\tlearn: 0.6070472\ttotal: 3.78s\tremaining: 39.5s\n",
            "131:\tlearn: 0.6066578\ttotal: 3.8s\tremaining: 39.4s\n",
            "132:\tlearn: 0.6063151\ttotal: 3.83s\tremaining: 39.3s\n",
            "133:\tlearn: 0.6059636\ttotal: 3.85s\tremaining: 39.2s\n",
            "134:\tlearn: 0.6055806\ttotal: 3.87s\tremaining: 39.1s\n",
            "135:\tlearn: 0.6051372\ttotal: 3.89s\tremaining: 39.1s\n",
            "136:\tlearn: 0.6049524\ttotal: 3.92s\tremaining: 39s\n",
            "137:\tlearn: 0.6046544\ttotal: 3.94s\tremaining: 38.9s\n",
            "138:\tlearn: 0.6041984\ttotal: 3.96s\tremaining: 38.8s\n",
            "139:\tlearn: 0.6039848\ttotal: 3.98s\tremaining: 38.7s\n",
            "140:\tlearn: 0.6034470\ttotal: 4s\tremaining: 38.6s\n",
            "141:\tlearn: 0.6030861\ttotal: 4.03s\tremaining: 38.5s\n",
            "142:\tlearn: 0.6027736\ttotal: 4.05s\tremaining: 38.4s\n",
            "143:\tlearn: 0.6024852\ttotal: 4.07s\tremaining: 38.3s\n",
            "144:\tlearn: 0.6020915\ttotal: 4.09s\tremaining: 38.2s\n",
            "145:\tlearn: 0.6017577\ttotal: 4.11s\tremaining: 38.2s\n",
            "146:\tlearn: 0.6014165\ttotal: 4.14s\tremaining: 38.1s\n",
            "147:\tlearn: 0.6009857\ttotal: 4.16s\tremaining: 38s\n",
            "148:\tlearn: 0.6006410\ttotal: 4.18s\tremaining: 37.9s\n",
            "149:\tlearn: 0.6003610\ttotal: 4.2s\tremaining: 37.8s\n",
            "150:\tlearn: 0.6001231\ttotal: 4.23s\tremaining: 37.8s\n",
            "151:\tlearn: 0.5997622\ttotal: 4.25s\tremaining: 37.7s\n",
            "152:\tlearn: 0.5994012\ttotal: 4.27s\tremaining: 37.6s\n",
            "153:\tlearn: 0.5990426\ttotal: 4.29s\tremaining: 37.5s\n",
            "154:\tlearn: 0.5985080\ttotal: 4.32s\tremaining: 37.5s\n",
            "155:\tlearn: 0.5980738\ttotal: 4.34s\tremaining: 37.4s\n",
            "156:\tlearn: 0.5978078\ttotal: 4.36s\tremaining: 37.3s\n",
            "157:\tlearn: 0.5974984\ttotal: 4.38s\tremaining: 37.2s\n",
            "158:\tlearn: 0.5971697\ttotal: 4.41s\tremaining: 37.2s\n",
            "159:\tlearn: 0.5968036\ttotal: 4.43s\tremaining: 37.1s\n",
            "160:\tlearn: 0.5965493\ttotal: 4.46s\tremaining: 37.1s\n",
            "161:\tlearn: 0.5961817\ttotal: 4.48s\tremaining: 37s\n",
            "162:\tlearn: 0.5958634\ttotal: 4.5s\tremaining: 37s\n",
            "163:\tlearn: 0.5956522\ttotal: 4.53s\tremaining: 36.9s\n",
            "164:\tlearn: 0.5953670\ttotal: 4.55s\tremaining: 36.8s\n",
            "165:\tlearn: 0.5949361\ttotal: 4.57s\tremaining: 36.7s\n",
            "166:\tlearn: 0.5945643\ttotal: 4.59s\tremaining: 36.7s\n",
            "167:\tlearn: 0.5941614\ttotal: 4.61s\tremaining: 36.6s\n",
            "168:\tlearn: 0.5938596\ttotal: 4.64s\tremaining: 36.5s\n",
            "169:\tlearn: 0.5934766\ttotal: 4.66s\tremaining: 36.5s\n",
            "170:\tlearn: 0.5931551\ttotal: 4.68s\tremaining: 36.4s\n",
            "171:\tlearn: 0.5928605\ttotal: 4.7s\tremaining: 36.3s\n",
            "172:\tlearn: 0.5925843\ttotal: 4.73s\tremaining: 36.3s\n",
            "173:\tlearn: 0.5923045\ttotal: 4.75s\tremaining: 36.2s\n",
            "174:\tlearn: 0.5920213\ttotal: 4.78s\tremaining: 36.2s\n",
            "175:\tlearn: 0.5916572\ttotal: 4.8s\tremaining: 36.1s\n",
            "176:\tlearn: 0.5912569\ttotal: 4.82s\tremaining: 36s\n",
            "177:\tlearn: 0.5909191\ttotal: 4.85s\tremaining: 36s\n",
            "178:\tlearn: 0.5906256\ttotal: 4.87s\tremaining: 35.9s\n",
            "179:\tlearn: 0.5901883\ttotal: 4.89s\tremaining: 35.9s\n",
            "180:\tlearn: 0.5899823\ttotal: 4.91s\tremaining: 35.8s\n",
            "181:\tlearn: 0.5896385\ttotal: 4.93s\tremaining: 35.7s\n",
            "182:\tlearn: 0.5893413\ttotal: 4.96s\tremaining: 35.7s\n",
            "183:\tlearn: 0.5890613\ttotal: 4.98s\tremaining: 35.6s\n",
            "184:\tlearn: 0.5887553\ttotal: 5s\tremaining: 35.6s\n",
            "185:\tlearn: 0.5884963\ttotal: 5.03s\tremaining: 35.5s\n",
            "186:\tlearn: 0.5882384\ttotal: 5.05s\tremaining: 35.5s\n",
            "187:\tlearn: 0.5879251\ttotal: 5.08s\tremaining: 35.4s\n",
            "188:\tlearn: 0.5876187\ttotal: 5.1s\tremaining: 35.4s\n",
            "189:\tlearn: 0.5873747\ttotal: 5.12s\tremaining: 35.3s\n",
            "190:\tlearn: 0.5871236\ttotal: 5.14s\tremaining: 35.2s\n",
            "191:\tlearn: 0.5868524\ttotal: 5.16s\tremaining: 35.2s\n",
            "192:\tlearn: 0.5865483\ttotal: 5.18s\tremaining: 35.1s\n",
            "193:\tlearn: 0.5861994\ttotal: 5.21s\tremaining: 35s\n",
            "194:\tlearn: 0.5858759\ttotal: 5.23s\tremaining: 35s\n",
            "195:\tlearn: 0.5854881\ttotal: 5.25s\tremaining: 34.9s\n",
            "196:\tlearn: 0.5852113\ttotal: 5.28s\tremaining: 34.9s\n",
            "197:\tlearn: 0.5848050\ttotal: 5.3s\tremaining: 34.9s\n",
            "198:\tlearn: 0.5844924\ttotal: 5.32s\tremaining: 34.8s\n",
            "199:\tlearn: 0.5842604\ttotal: 5.34s\tremaining: 34.7s\n",
            "200:\tlearn: 0.5839409\ttotal: 5.37s\tremaining: 34.7s\n",
            "201:\tlearn: 0.5836435\ttotal: 5.39s\tremaining: 34.6s\n",
            "202:\tlearn: 0.5834272\ttotal: 5.41s\tremaining: 34.6s\n",
            "203:\tlearn: 0.5832044\ttotal: 5.43s\tremaining: 34.5s\n",
            "204:\tlearn: 0.5827637\ttotal: 5.45s\tremaining: 34.4s\n",
            "205:\tlearn: 0.5823287\ttotal: 5.47s\tremaining: 34.4s\n",
            "206:\tlearn: 0.5820345\ttotal: 5.5s\tremaining: 34.4s\n",
            "207:\tlearn: 0.5818012\ttotal: 5.53s\tremaining: 34.3s\n",
            "208:\tlearn: 0.5813738\ttotal: 5.55s\tremaining: 34.3s\n",
            "209:\tlearn: 0.5809947\ttotal: 5.57s\tremaining: 34.2s\n",
            "210:\tlearn: 0.5806871\ttotal: 5.59s\tremaining: 34.2s\n",
            "211:\tlearn: 0.5803693\ttotal: 5.61s\tremaining: 34.1s\n",
            "212:\tlearn: 0.5800229\ttotal: 5.63s\tremaining: 34s\n",
            "213:\tlearn: 0.5797325\ttotal: 5.66s\tremaining: 34s\n",
            "214:\tlearn: 0.5795125\ttotal: 5.68s\tremaining: 33.9s\n",
            "215:\tlearn: 0.5792324\ttotal: 5.7s\tremaining: 33.9s\n",
            "216:\tlearn: 0.5789043\ttotal: 5.72s\tremaining: 33.9s\n",
            "217:\tlearn: 0.5785653\ttotal: 5.75s\tremaining: 33.8s\n",
            "218:\tlearn: 0.5782221\ttotal: 5.77s\tremaining: 33.8s\n",
            "219:\tlearn: 0.5778999\ttotal: 5.8s\tremaining: 33.7s\n",
            "220:\tlearn: 0.5777357\ttotal: 5.82s\tremaining: 33.7s\n",
            "221:\tlearn: 0.5774745\ttotal: 5.84s\tremaining: 33.6s\n",
            "222:\tlearn: 0.5771910\ttotal: 5.87s\tremaining: 33.6s\n",
            "223:\tlearn: 0.5769070\ttotal: 5.89s\tremaining: 33.5s\n",
            "224:\tlearn: 0.5766208\ttotal: 5.92s\tremaining: 33.6s\n",
            "225:\tlearn: 0.5763805\ttotal: 5.94s\tremaining: 33.5s\n",
            "226:\tlearn: 0.5760193\ttotal: 5.96s\tremaining: 33.5s\n",
            "227:\tlearn: 0.5756489\ttotal: 5.99s\tremaining: 33.4s\n",
            "228:\tlearn: 0.5754312\ttotal: 6.01s\tremaining: 33.4s\n",
            "229:\tlearn: 0.5752191\ttotal: 6.03s\tremaining: 33.3s\n",
            "230:\tlearn: 0.5750067\ttotal: 6.05s\tremaining: 33.2s\n",
            "231:\tlearn: 0.5747031\ttotal: 6.08s\tremaining: 33.2s\n",
            "232:\tlearn: 0.5743767\ttotal: 6.1s\tremaining: 33.2s\n",
            "233:\tlearn: 0.5741106\ttotal: 6.12s\tremaining: 33.1s\n",
            "234:\tlearn: 0.5738632\ttotal: 6.14s\tremaining: 33.1s\n",
            "235:\tlearn: 0.5734569\ttotal: 6.16s\tremaining: 33s\n",
            "236:\tlearn: 0.5731735\ttotal: 6.19s\tremaining: 33s\n",
            "237:\tlearn: 0.5729571\ttotal: 6.21s\tremaining: 32.9s\n",
            "238:\tlearn: 0.5725616\ttotal: 6.23s\tremaining: 32.9s\n",
            "239:\tlearn: 0.5722755\ttotal: 6.25s\tremaining: 32.8s\n",
            "240:\tlearn: 0.5720144\ttotal: 6.27s\tremaining: 32.8s\n",
            "241:\tlearn: 0.5716628\ttotal: 6.29s\tremaining: 32.7s\n",
            "242:\tlearn: 0.5713937\ttotal: 6.32s\tremaining: 32.7s\n",
            "243:\tlearn: 0.5711738\ttotal: 6.34s\tremaining: 32.6s\n",
            "244:\tlearn: 0.5708322\ttotal: 6.36s\tremaining: 32.6s\n",
            "245:\tlearn: 0.5705196\ttotal: 6.39s\tremaining: 32.6s\n",
            "246:\tlearn: 0.5701261\ttotal: 6.41s\tremaining: 32.5s\n",
            "247:\tlearn: 0.5698726\ttotal: 6.43s\tremaining: 32.5s\n",
            "248:\tlearn: 0.5694946\ttotal: 6.45s\tremaining: 32.4s\n",
            "249:\tlearn: 0.5691747\ttotal: 6.47s\tremaining: 32.4s\n",
            "250:\tlearn: 0.5688218\ttotal: 6.49s\tremaining: 32.3s\n",
            "251:\tlearn: 0.5684280\ttotal: 6.52s\tremaining: 32.3s\n",
            "252:\tlearn: 0.5682568\ttotal: 6.54s\tremaining: 32.2s\n",
            "253:\tlearn: 0.5679370\ttotal: 6.56s\tremaining: 32.2s\n",
            "254:\tlearn: 0.5676588\ttotal: 6.59s\tremaining: 32.2s\n",
            "255:\tlearn: 0.5673858\ttotal: 6.61s\tremaining: 32.1s\n",
            "256:\tlearn: 0.5670983\ttotal: 6.63s\tremaining: 32.1s\n",
            "257:\tlearn: 0.5666808\ttotal: 6.65s\tremaining: 32s\n",
            "258:\tlearn: 0.5663873\ttotal: 6.67s\tremaining: 32s\n",
            "259:\tlearn: 0.5660335\ttotal: 6.7s\tremaining: 31.9s\n",
            "260:\tlearn: 0.5657947\ttotal: 6.72s\tremaining: 31.9s\n",
            "261:\tlearn: 0.5655229\ttotal: 6.74s\tremaining: 31.8s\n",
            "262:\tlearn: 0.5652329\ttotal: 6.76s\tremaining: 31.8s\n",
            "263:\tlearn: 0.5649644\ttotal: 6.79s\tremaining: 31.8s\n",
            "264:\tlearn: 0.5647129\ttotal: 6.82s\tremaining: 31.8s\n",
            "265:\tlearn: 0.5644086\ttotal: 6.84s\tremaining: 31.7s\n",
            "266:\tlearn: 0.5641056\ttotal: 6.86s\tremaining: 31.7s\n",
            "267:\tlearn: 0.5638344\ttotal: 6.88s\tremaining: 31.7s\n",
            "268:\tlearn: 0.5635699\ttotal: 6.91s\tremaining: 31.6s\n",
            "269:\tlearn: 0.5633027\ttotal: 6.93s\tremaining: 31.6s\n",
            "270:\tlearn: 0.5630328\ttotal: 6.95s\tremaining: 31.5s\n",
            "271:\tlearn: 0.5628005\ttotal: 6.97s\tremaining: 31.5s\n",
            "272:\tlearn: 0.5625382\ttotal: 7s\tremaining: 31.4s\n",
            "273:\tlearn: 0.5622890\ttotal: 7.02s\tremaining: 31.4s\n",
            "274:\tlearn: 0.5620288\ttotal: 7.04s\tremaining: 31.4s\n",
            "275:\tlearn: 0.5617895\ttotal: 7.06s\tremaining: 31.3s\n",
            "276:\tlearn: 0.5615346\ttotal: 7.09s\tremaining: 31.3s\n",
            "277:\tlearn: 0.5611465\ttotal: 7.11s\tremaining: 31.2s\n",
            "278:\tlearn: 0.5608070\ttotal: 7.13s\tremaining: 31.2s\n",
            "279:\tlearn: 0.5604473\ttotal: 7.15s\tremaining: 31.2s\n",
            "280:\tlearn: 0.5601431\ttotal: 7.17s\tremaining: 31.1s\n",
            "281:\tlearn: 0.5597589\ttotal: 7.19s\tremaining: 31.1s\n",
            "282:\tlearn: 0.5594983\ttotal: 7.22s\tremaining: 31.1s\n",
            "283:\tlearn: 0.5591636\ttotal: 7.24s\tremaining: 31s\n",
            "284:\tlearn: 0.5589553\ttotal: 7.27s\tremaining: 31s\n",
            "285:\tlearn: 0.5586505\ttotal: 7.29s\tremaining: 30.9s\n",
            "286:\tlearn: 0.5583276\ttotal: 7.31s\tremaining: 30.9s\n",
            "287:\tlearn: 0.5580127\ttotal: 7.33s\tremaining: 30.8s\n",
            "288:\tlearn: 0.5578058\ttotal: 7.36s\tremaining: 30.8s\n",
            "289:\tlearn: 0.5575100\ttotal: 7.38s\tremaining: 30.8s\n",
            "290:\tlearn: 0.5571377\ttotal: 7.4s\tremaining: 30.7s\n",
            "291:\tlearn: 0.5569021\ttotal: 7.42s\tremaining: 30.7s\n",
            "292:\tlearn: 0.5566082\ttotal: 7.45s\tremaining: 30.7s\n",
            "293:\tlearn: 0.5563432\ttotal: 7.47s\tremaining: 30.6s\n",
            "294:\tlearn: 0.5560100\ttotal: 7.49s\tremaining: 30.6s\n",
            "295:\tlearn: 0.5557044\ttotal: 7.51s\tremaining: 30.6s\n",
            "296:\tlearn: 0.5554218\ttotal: 7.54s\tremaining: 30.5s\n",
            "297:\tlearn: 0.5551176\ttotal: 7.56s\tremaining: 30.5s\n",
            "298:\tlearn: 0.5547877\ttotal: 7.58s\tremaining: 30.5s\n",
            "299:\tlearn: 0.5544585\ttotal: 7.61s\tremaining: 30.4s\n",
            "300:\tlearn: 0.5541289\ttotal: 7.63s\tremaining: 30.4s\n",
            "301:\tlearn: 0.5538592\ttotal: 7.65s\tremaining: 30.4s\n",
            "302:\tlearn: 0.5535346\ttotal: 7.68s\tremaining: 30.3s\n",
            "303:\tlearn: 0.5532358\ttotal: 7.7s\tremaining: 30.3s\n",
            "304:\tlearn: 0.5529637\ttotal: 7.72s\tremaining: 30.3s\n",
            "305:\tlearn: 0.5526966\ttotal: 7.74s\tremaining: 30.2s\n",
            "306:\tlearn: 0.5524470\ttotal: 7.76s\tremaining: 30.2s\n",
            "307:\tlearn: 0.5521004\ttotal: 7.8s\tremaining: 30.2s\n",
            "308:\tlearn: 0.5517334\ttotal: 7.82s\tremaining: 30.1s\n",
            "309:\tlearn: 0.5514945\ttotal: 7.84s\tremaining: 30.1s\n",
            "310:\tlearn: 0.5512618\ttotal: 7.87s\tremaining: 30.1s\n",
            "311:\tlearn: 0.5508982\ttotal: 7.89s\tremaining: 30s\n",
            "312:\tlearn: 0.5505026\ttotal: 7.91s\tremaining: 30s\n",
            "313:\tlearn: 0.5501409\ttotal: 7.93s\tremaining: 30s\n",
            "314:\tlearn: 0.5498313\ttotal: 7.96s\tremaining: 29.9s\n",
            "315:\tlearn: 0.5494921\ttotal: 7.98s\tremaining: 29.9s\n",
            "316:\tlearn: 0.5492012\ttotal: 8.01s\tremaining: 29.9s\n",
            "317:\tlearn: 0.5489236\ttotal: 8.03s\tremaining: 29.8s\n",
            "318:\tlearn: 0.5486323\ttotal: 8.05s\tremaining: 29.8s\n",
            "319:\tlearn: 0.5482745\ttotal: 8.07s\tremaining: 29.8s\n",
            "320:\tlearn: 0.5478850\ttotal: 8.1s\tremaining: 29.7s\n",
            "321:\tlearn: 0.5474804\ttotal: 8.12s\tremaining: 29.7s\n",
            "322:\tlearn: 0.5471922\ttotal: 8.14s\tremaining: 29.7s\n",
            "323:\tlearn: 0.5469687\ttotal: 8.16s\tremaining: 29.6s\n",
            "324:\tlearn: 0.5465755\ttotal: 8.18s\tremaining: 29.6s\n",
            "325:\tlearn: 0.5462284\ttotal: 8.21s\tremaining: 29.6s\n",
            "326:\tlearn: 0.5459225\ttotal: 8.23s\tremaining: 29.5s\n",
            "327:\tlearn: 0.5455737\ttotal: 8.25s\tremaining: 29.5s\n",
            "328:\tlearn: 0.5451795\ttotal: 8.27s\tremaining: 29.4s\n",
            "329:\tlearn: 0.5448215\ttotal: 8.3s\tremaining: 29.4s\n",
            "330:\tlearn: 0.5445260\ttotal: 8.32s\tremaining: 29.4s\n",
            "331:\tlearn: 0.5442113\ttotal: 8.34s\tremaining: 29.3s\n",
            "332:\tlearn: 0.5438192\ttotal: 8.36s\tremaining: 29.3s\n",
            "333:\tlearn: 0.5435393\ttotal: 8.38s\tremaining: 29.3s\n",
            "334:\tlearn: 0.5431936\ttotal: 8.4s\tremaining: 29.2s\n",
            "335:\tlearn: 0.5428724\ttotal: 8.43s\tremaining: 29.2s\n",
            "336:\tlearn: 0.5425152\ttotal: 8.45s\tremaining: 29.2s\n",
            "337:\tlearn: 0.5421662\ttotal: 8.48s\tremaining: 29.1s\n",
            "338:\tlearn: 0.5418882\ttotal: 8.5s\tremaining: 29.1s\n",
            "339:\tlearn: 0.5415452\ttotal: 8.52s\tremaining: 29.1s\n",
            "340:\tlearn: 0.5412499\ttotal: 8.55s\tremaining: 29.1s\n",
            "341:\tlearn: 0.5409672\ttotal: 8.57s\tremaining: 29s\n",
            "342:\tlearn: 0.5406979\ttotal: 8.6s\tremaining: 29s\n",
            "343:\tlearn: 0.5404099\ttotal: 8.62s\tremaining: 29s\n",
            "344:\tlearn: 0.5401993\ttotal: 8.64s\tremaining: 28.9s\n",
            "345:\tlearn: 0.5399473\ttotal: 8.67s\tremaining: 28.9s\n",
            "346:\tlearn: 0.5396032\ttotal: 8.69s\tremaining: 28.9s\n",
            "347:\tlearn: 0.5391798\ttotal: 8.72s\tremaining: 28.9s\n",
            "348:\tlearn: 0.5388884\ttotal: 8.74s\tremaining: 28.8s\n",
            "349:\tlearn: 0.5386036\ttotal: 8.76s\tremaining: 28.8s\n",
            "350:\tlearn: 0.5383031\ttotal: 8.79s\tremaining: 28.8s\n",
            "351:\tlearn: 0.5378732\ttotal: 8.81s\tremaining: 28.7s\n",
            "352:\tlearn: 0.5375689\ttotal: 8.84s\tremaining: 28.7s\n",
            "353:\tlearn: 0.5372690\ttotal: 8.86s\tremaining: 28.7s\n",
            "354:\tlearn: 0.5369729\ttotal: 8.89s\tremaining: 28.7s\n",
            "355:\tlearn: 0.5367025\ttotal: 8.91s\tremaining: 28.6s\n",
            "356:\tlearn: 0.5362825\ttotal: 8.94s\tremaining: 28.6s\n",
            "357:\tlearn: 0.5359750\ttotal: 8.96s\tremaining: 28.6s\n",
            "358:\tlearn: 0.5356740\ttotal: 8.98s\tremaining: 28.5s\n",
            "359:\tlearn: 0.5353306\ttotal: 9s\tremaining: 28.5s\n",
            "360:\tlearn: 0.5350651\ttotal: 9.02s\tremaining: 28.5s\n",
            "361:\tlearn: 0.5347229\ttotal: 9.04s\tremaining: 28.4s\n",
            "362:\tlearn: 0.5344679\ttotal: 9.06s\tremaining: 28.4s\n",
            "363:\tlearn: 0.5341244\ttotal: 9.09s\tremaining: 28.4s\n",
            "364:\tlearn: 0.5339004\ttotal: 9.11s\tremaining: 28.3s\n",
            "365:\tlearn: 0.5335115\ttotal: 9.13s\tremaining: 28.3s\n",
            "366:\tlearn: 0.5332245\ttotal: 9.16s\tremaining: 28.3s\n",
            "367:\tlearn: 0.5329604\ttotal: 9.18s\tremaining: 28.2s\n",
            "368:\tlearn: 0.5327424\ttotal: 9.2s\tremaining: 28.2s\n",
            "369:\tlearn: 0.5324379\ttotal: 9.22s\tremaining: 28.2s\n",
            "370:\tlearn: 0.5321398\ttotal: 9.25s\tremaining: 28.1s\n",
            "371:\tlearn: 0.5318706\ttotal: 9.27s\tremaining: 28.1s\n",
            "372:\tlearn: 0.5315986\ttotal: 9.29s\tremaining: 28.1s\n",
            "373:\tlearn: 0.5313681\ttotal: 9.31s\tremaining: 28s\n",
            "374:\tlearn: 0.5311537\ttotal: 9.34s\tremaining: 28s\n",
            "375:\tlearn: 0.5307867\ttotal: 9.36s\tremaining: 28s\n",
            "376:\tlearn: 0.5305317\ttotal: 9.38s\tremaining: 27.9s\n",
            "377:\tlearn: 0.5302691\ttotal: 9.4s\tremaining: 27.9s\n",
            "378:\tlearn: 0.5299703\ttotal: 9.42s\tremaining: 27.9s\n",
            "379:\tlearn: 0.5297964\ttotal: 9.45s\tremaining: 27.8s\n",
            "380:\tlearn: 0.5295298\ttotal: 9.47s\tremaining: 27.8s\n",
            "381:\tlearn: 0.5292418\ttotal: 9.49s\tremaining: 27.8s\n",
            "382:\tlearn: 0.5288979\ttotal: 9.52s\tremaining: 27.8s\n",
            "383:\tlearn: 0.5286722\ttotal: 9.54s\tremaining: 27.7s\n",
            "384:\tlearn: 0.5283402\ttotal: 9.56s\tremaining: 27.7s\n",
            "385:\tlearn: 0.5280691\ttotal: 9.58s\tremaining: 27.7s\n",
            "386:\tlearn: 0.5278127\ttotal: 9.61s\tremaining: 27.6s\n",
            "387:\tlearn: 0.5275728\ttotal: 9.63s\tremaining: 27.6s\n",
            "388:\tlearn: 0.5273728\ttotal: 9.65s\tremaining: 27.6s\n",
            "389:\tlearn: 0.5270485\ttotal: 9.67s\tremaining: 27.5s\n",
            "390:\tlearn: 0.5267102\ttotal: 9.69s\tremaining: 27.5s\n",
            "391:\tlearn: 0.5264277\ttotal: 9.72s\tremaining: 27.5s\n",
            "392:\tlearn: 0.5261465\ttotal: 9.74s\tremaining: 27.4s\n",
            "393:\tlearn: 0.5258363\ttotal: 9.76s\tremaining: 27.4s\n",
            "394:\tlearn: 0.5256147\ttotal: 9.79s\tremaining: 27.4s\n",
            "395:\tlearn: 0.5253526\ttotal: 9.82s\tremaining: 27.4s\n",
            "396:\tlearn: 0.5250590\ttotal: 9.84s\tremaining: 27.3s\n",
            "397:\tlearn: 0.5247419\ttotal: 9.86s\tremaining: 27.3s\n",
            "398:\tlearn: 0.5244915\ttotal: 9.88s\tremaining: 27.3s\n",
            "399:\tlearn: 0.5242212\ttotal: 9.91s\tremaining: 27.2s\n",
            "400:\tlearn: 0.5239685\ttotal: 9.93s\tremaining: 27.2s\n",
            "401:\tlearn: 0.5237566\ttotal: 9.96s\tremaining: 27.2s\n",
            "402:\tlearn: 0.5234402\ttotal: 9.98s\tremaining: 27.2s\n",
            "403:\tlearn: 0.5230472\ttotal: 10s\tremaining: 27.1s\n",
            "404:\tlearn: 0.5227859\ttotal: 10s\tremaining: 27.1s\n",
            "405:\tlearn: 0.5225190\ttotal: 10s\tremaining: 27.1s\n",
            "406:\tlearn: 0.5222691\ttotal: 10.1s\tremaining: 27s\n",
            "407:\tlearn: 0.5219744\ttotal: 10.1s\tremaining: 27s\n",
            "408:\tlearn: 0.5217304\ttotal: 10.1s\tremaining: 27s\n",
            "409:\tlearn: 0.5214663\ttotal: 10.1s\tremaining: 26.9s\n",
            "410:\tlearn: 0.5211852\ttotal: 10.2s\tremaining: 26.9s\n",
            "411:\tlearn: 0.5209287\ttotal: 10.2s\tremaining: 26.9s\n",
            "412:\tlearn: 0.5206393\ttotal: 10.2s\tremaining: 26.8s\n",
            "413:\tlearn: 0.5204342\ttotal: 10.2s\tremaining: 26.8s\n",
            "414:\tlearn: 0.5201164\ttotal: 10.2s\tremaining: 26.8s\n",
            "415:\tlearn: 0.5198714\ttotal: 10.3s\tremaining: 26.7s\n",
            "416:\tlearn: 0.5195714\ttotal: 10.3s\tremaining: 26.7s\n",
            "417:\tlearn: 0.5192879\ttotal: 10.3s\tremaining: 26.7s\n",
            "418:\tlearn: 0.5190281\ttotal: 10.3s\tremaining: 26.7s\n",
            "419:\tlearn: 0.5187372\ttotal: 10.4s\tremaining: 26.6s\n",
            "420:\tlearn: 0.5184919\ttotal: 10.4s\tremaining: 26.6s\n",
            "421:\tlearn: 0.5182460\ttotal: 10.4s\tremaining: 26.6s\n",
            "422:\tlearn: 0.5179686\ttotal: 10.4s\tremaining: 26.5s\n",
            "423:\tlearn: 0.5177476\ttotal: 10.4s\tremaining: 26.5s\n",
            "424:\tlearn: 0.5174336\ttotal: 10.5s\tremaining: 26.5s\n",
            "425:\tlearn: 0.5171849\ttotal: 10.5s\tremaining: 26.4s\n",
            "426:\tlearn: 0.5169949\ttotal: 10.5s\tremaining: 26.4s\n",
            "427:\tlearn: 0.5167599\ttotal: 10.5s\tremaining: 26.4s\n",
            "428:\tlearn: 0.5165067\ttotal: 10.6s\tremaining: 26.4s\n",
            "429:\tlearn: 0.5162704\ttotal: 10.6s\tremaining: 26.3s\n",
            "430:\tlearn: 0.5159755\ttotal: 10.6s\tremaining: 26.3s\n",
            "431:\tlearn: 0.5157360\ttotal: 10.6s\tremaining: 26.3s\n",
            "432:\tlearn: 0.5153403\ttotal: 10.7s\tremaining: 26.2s\n",
            "433:\tlearn: 0.5150583\ttotal: 10.7s\tremaining: 26.2s\n",
            "434:\tlearn: 0.5148043\ttotal: 10.7s\tremaining: 26.2s\n",
            "435:\tlearn: 0.5145160\ttotal: 10.7s\tremaining: 26.2s\n",
            "436:\tlearn: 0.5141841\ttotal: 10.7s\tremaining: 26.1s\n",
            "437:\tlearn: 0.5139063\ttotal: 10.8s\tremaining: 26.1s\n",
            "438:\tlearn: 0.5136728\ttotal: 10.8s\tremaining: 26.1s\n",
            "439:\tlearn: 0.5134327\ttotal: 10.8s\tremaining: 26.1s\n",
            "440:\tlearn: 0.5132151\ttotal: 10.8s\tremaining: 26s\n",
            "441:\tlearn: 0.5129786\ttotal: 10.9s\tremaining: 26s\n",
            "442:\tlearn: 0.5126380\ttotal: 10.9s\tremaining: 26s\n",
            "443:\tlearn: 0.5123711\ttotal: 10.9s\tremaining: 26s\n",
            "444:\tlearn: 0.5121333\ttotal: 10.9s\tremaining: 25.9s\n",
            "445:\tlearn: 0.5118826\ttotal: 11s\tremaining: 25.9s\n",
            "446:\tlearn: 0.5115699\ttotal: 11s\tremaining: 25.9s\n",
            "447:\tlearn: 0.5113490\ttotal: 11s\tremaining: 25.8s\n",
            "448:\tlearn: 0.5111459\ttotal: 11s\tremaining: 25.8s\n",
            "449:\tlearn: 0.5109326\ttotal: 11.1s\tremaining: 25.8s\n",
            "450:\tlearn: 0.5107119\ttotal: 11.1s\tremaining: 25.8s\n",
            "451:\tlearn: 0.5104662\ttotal: 11.1s\tremaining: 25.7s\n",
            "452:\tlearn: 0.5102719\ttotal: 11.1s\tremaining: 25.7s\n",
            "453:\tlearn: 0.5100576\ttotal: 11.1s\tremaining: 25.7s\n",
            "454:\tlearn: 0.5097903\ttotal: 11.2s\tremaining: 25.6s\n",
            "455:\tlearn: 0.5096154\ttotal: 11.2s\tremaining: 25.6s\n",
            "456:\tlearn: 0.5093572\ttotal: 11.2s\tremaining: 25.6s\n",
            "457:\tlearn: 0.5091753\ttotal: 11.2s\tremaining: 25.6s\n",
            "458:\tlearn: 0.5089295\ttotal: 11.3s\tremaining: 25.5s\n",
            "459:\tlearn: 0.5086639\ttotal: 11.3s\tremaining: 25.5s\n",
            "460:\tlearn: 0.5085065\ttotal: 11.3s\tremaining: 25.5s\n",
            "461:\tlearn: 0.5082149\ttotal: 11.3s\tremaining: 25.4s\n",
            "462:\tlearn: 0.5080472\ttotal: 11.3s\tremaining: 25.4s\n",
            "463:\tlearn: 0.5078629\ttotal: 11.4s\tremaining: 25.4s\n",
            "464:\tlearn: 0.5076245\ttotal: 11.4s\tremaining: 25.4s\n",
            "465:\tlearn: 0.5073851\ttotal: 11.4s\tremaining: 25.3s\n",
            "466:\tlearn: 0.5071115\ttotal: 11.4s\tremaining: 25.3s\n",
            "467:\tlearn: 0.5068599\ttotal: 11.5s\tremaining: 25.3s\n",
            "468:\tlearn: 0.5065863\ttotal: 11.5s\tremaining: 25.3s\n",
            "469:\tlearn: 0.5063202\ttotal: 11.5s\tremaining: 25.2s\n",
            "470:\tlearn: 0.5061513\ttotal: 11.5s\tremaining: 25.2s\n",
            "471:\tlearn: 0.5059692\ttotal: 11.6s\tremaining: 25.2s\n",
            "472:\tlearn: 0.5057238\ttotal: 11.6s\tremaining: 25.2s\n",
            "473:\tlearn: 0.5054738\ttotal: 11.6s\tremaining: 25.1s\n",
            "474:\tlearn: 0.5052162\ttotal: 11.6s\tremaining: 25.1s\n",
            "475:\tlearn: 0.5049285\ttotal: 11.7s\tremaining: 25.1s\n",
            "476:\tlearn: 0.5046570\ttotal: 11.7s\tremaining: 25s\n",
            "477:\tlearn: 0.5044484\ttotal: 11.7s\tremaining: 25s\n",
            "478:\tlearn: 0.5042367\ttotal: 11.7s\tremaining: 25s\n",
            "479:\tlearn: 0.5039458\ttotal: 11.7s\tremaining: 25s\n",
            "480:\tlearn: 0.5037036\ttotal: 11.8s\tremaining: 24.9s\n",
            "481:\tlearn: 0.5033920\ttotal: 11.8s\tremaining: 24.9s\n",
            "482:\tlearn: 0.5031731\ttotal: 11.8s\tremaining: 24.9s\n",
            "483:\tlearn: 0.5029142\ttotal: 11.8s\tremaining: 24.9s\n",
            "484:\tlearn: 0.5026634\ttotal: 11.9s\tremaining: 24.8s\n",
            "485:\tlearn: 0.5023974\ttotal: 11.9s\tremaining: 24.8s\n",
            "486:\tlearn: 0.5021671\ttotal: 11.9s\tremaining: 24.8s\n",
            "487:\tlearn: 0.5018757\ttotal: 11.9s\tremaining: 24.8s\n",
            "488:\tlearn: 0.5015573\ttotal: 12s\tremaining: 24.7s\n",
            "489:\tlearn: 0.5013283\ttotal: 12s\tremaining: 24.7s\n",
            "490:\tlearn: 0.5010498\ttotal: 12s\tremaining: 24.7s\n",
            "491:\tlearn: 0.5007877\ttotal: 12s\tremaining: 24.6s\n",
            "492:\tlearn: 0.5005403\ttotal: 12.1s\tremaining: 24.6s\n",
            "493:\tlearn: 0.5003687\ttotal: 12.1s\tremaining: 24.6s\n",
            "494:\tlearn: 0.5001832\ttotal: 12.1s\tremaining: 24.6s\n",
            "495:\tlearn: 0.5000033\ttotal: 12.1s\tremaining: 24.6s\n",
            "496:\tlearn: 0.4997799\ttotal: 12.2s\tremaining: 24.5s\n",
            "497:\tlearn: 0.4995580\ttotal: 12.2s\tremaining: 24.5s\n",
            "498:\tlearn: 0.4992993\ttotal: 12.2s\tremaining: 24.5s\n",
            "499:\tlearn: 0.4990380\ttotal: 12.2s\tremaining: 24.4s\n",
            "500:\tlearn: 0.4988020\ttotal: 12.2s\tremaining: 24.4s\n",
            "501:\tlearn: 0.4985705\ttotal: 12.3s\tremaining: 24.4s\n",
            "502:\tlearn: 0.4982472\ttotal: 12.3s\tremaining: 24.4s\n",
            "503:\tlearn: 0.4980475\ttotal: 12.3s\tremaining: 24.3s\n",
            "504:\tlearn: 0.4978394\ttotal: 12.3s\tremaining: 24.3s\n",
            "505:\tlearn: 0.4975929\ttotal: 12.4s\tremaining: 24.3s\n",
            "506:\tlearn: 0.4973622\ttotal: 12.4s\tremaining: 24.3s\n",
            "507:\tlearn: 0.4971364\ttotal: 12.4s\tremaining: 24.2s\n",
            "508:\tlearn: 0.4968990\ttotal: 12.4s\tremaining: 24.2s\n",
            "509:\tlearn: 0.4965556\ttotal: 12.5s\tremaining: 24.2s\n",
            "510:\tlearn: 0.4963928\ttotal: 12.5s\tremaining: 24.2s\n",
            "511:\tlearn: 0.4961413\ttotal: 12.5s\tremaining: 24.1s\n",
            "512:\tlearn: 0.4959204\ttotal: 12.5s\tremaining: 24.1s\n",
            "513:\tlearn: 0.4957432\ttotal: 12.5s\tremaining: 24.1s\n",
            "514:\tlearn: 0.4955456\ttotal: 12.6s\tremaining: 24s\n",
            "515:\tlearn: 0.4952742\ttotal: 12.6s\tremaining: 24s\n",
            "516:\tlearn: 0.4950292\ttotal: 12.6s\tremaining: 24s\n",
            "517:\tlearn: 0.4948353\ttotal: 12.6s\tremaining: 24s\n",
            "518:\tlearn: 0.4945281\ttotal: 12.7s\tremaining: 23.9s\n",
            "519:\tlearn: 0.4943743\ttotal: 12.7s\tremaining: 23.9s\n",
            "520:\tlearn: 0.4942114\ttotal: 12.7s\tremaining: 23.9s\n",
            "521:\tlearn: 0.4939233\ttotal: 12.7s\tremaining: 23.9s\n",
            "522:\tlearn: 0.4936736\ttotal: 12.8s\tremaining: 23.8s\n",
            "523:\tlearn: 0.4934766\ttotal: 12.8s\tremaining: 23.8s\n",
            "524:\tlearn: 0.4932748\ttotal: 12.8s\tremaining: 23.8s\n",
            "525:\tlearn: 0.4929967\ttotal: 12.8s\tremaining: 23.8s\n",
            "526:\tlearn: 0.4927737\ttotal: 12.9s\tremaining: 23.7s\n",
            "527:\tlearn: 0.4926220\ttotal: 12.9s\tremaining: 23.7s\n",
            "528:\tlearn: 0.4923426\ttotal: 12.9s\tremaining: 23.7s\n",
            "529:\tlearn: 0.4921523\ttotal: 12.9s\tremaining: 23.7s\n",
            "530:\tlearn: 0.4919134\ttotal: 13s\tremaining: 23.6s\n",
            "531:\tlearn: 0.4916978\ttotal: 13s\tremaining: 23.6s\n",
            "532:\tlearn: 0.4914292\ttotal: 13s\tremaining: 23.6s\n",
            "533:\tlearn: 0.4912329\ttotal: 13s\tremaining: 23.6s\n",
            "534:\tlearn: 0.4909616\ttotal: 13s\tremaining: 23.5s\n",
            "535:\tlearn: 0.4907486\ttotal: 13.1s\tremaining: 23.5s\n",
            "536:\tlearn: 0.4905612\ttotal: 13.1s\tremaining: 23.5s\n",
            "537:\tlearn: 0.4902681\ttotal: 13.1s\tremaining: 23.5s\n",
            "538:\tlearn: 0.4900834\ttotal: 13.1s\tremaining: 23.4s\n",
            "539:\tlearn: 0.4898418\ttotal: 13.2s\tremaining: 23.4s\n",
            "540:\tlearn: 0.4896436\ttotal: 13.2s\tremaining: 23.4s\n",
            "541:\tlearn: 0.4894058\ttotal: 13.2s\tremaining: 23.4s\n",
            "542:\tlearn: 0.4892247\ttotal: 13.2s\tremaining: 23.3s\n",
            "543:\tlearn: 0.4890086\ttotal: 13.3s\tremaining: 23.3s\n",
            "544:\tlearn: 0.4887825\ttotal: 13.3s\tremaining: 23.3s\n",
            "545:\tlearn: 0.4885202\ttotal: 13.3s\tremaining: 23.2s\n",
            "546:\tlearn: 0.4883517\ttotal: 13.3s\tremaining: 23.2s\n",
            "547:\tlearn: 0.4881416\ttotal: 13.4s\tremaining: 23.2s\n",
            "548:\tlearn: 0.4879584\ttotal: 13.4s\tremaining: 23.2s\n",
            "549:\tlearn: 0.4878121\ttotal: 13.4s\tremaining: 23.1s\n",
            "550:\tlearn: 0.4876449\ttotal: 13.4s\tremaining: 23.1s\n",
            "551:\tlearn: 0.4874821\ttotal: 13.4s\tremaining: 23.1s\n",
            "552:\tlearn: 0.4871978\ttotal: 13.5s\tremaining: 23.1s\n",
            "553:\tlearn: 0.4870438\ttotal: 13.5s\tremaining: 23s\n",
            "554:\tlearn: 0.4867636\ttotal: 13.5s\tremaining: 23s\n",
            "555:\tlearn: 0.4865622\ttotal: 13.5s\tremaining: 23s\n",
            "556:\tlearn: 0.4862752\ttotal: 13.6s\tremaining: 23s\n",
            "557:\tlearn: 0.4860185\ttotal: 13.6s\tremaining: 22.9s\n",
            "558:\tlearn: 0.4858341\ttotal: 13.6s\tremaining: 22.9s\n",
            "559:\tlearn: 0.4854567\ttotal: 13.6s\tremaining: 22.9s\n",
            "560:\tlearn: 0.4852627\ttotal: 13.7s\tremaining: 22.9s\n",
            "561:\tlearn: 0.4850615\ttotal: 13.7s\tremaining: 22.8s\n",
            "562:\tlearn: 0.4849335\ttotal: 13.7s\tremaining: 22.8s\n",
            "563:\tlearn: 0.4847400\ttotal: 13.7s\tremaining: 22.8s\n",
            "564:\tlearn: 0.4844618\ttotal: 13.8s\tremaining: 22.8s\n",
            "565:\tlearn: 0.4842596\ttotal: 13.8s\tremaining: 22.7s\n",
            "566:\tlearn: 0.4840342\ttotal: 13.8s\tremaining: 22.7s\n",
            "567:\tlearn: 0.4838210\ttotal: 13.8s\tremaining: 22.7s\n",
            "568:\tlearn: 0.4836374\ttotal: 13.9s\tremaining: 22.7s\n",
            "569:\tlearn: 0.4833917\ttotal: 13.9s\tremaining: 22.6s\n",
            "570:\tlearn: 0.4831637\ttotal: 13.9s\tremaining: 22.6s\n",
            "571:\tlearn: 0.4830007\ttotal: 13.9s\tremaining: 22.6s\n",
            "572:\tlearn: 0.4827429\ttotal: 13.9s\tremaining: 22.6s\n",
            "573:\tlearn: 0.4824822\ttotal: 14s\tremaining: 22.5s\n",
            "574:\tlearn: 0.4823019\ttotal: 14s\tremaining: 22.5s\n",
            "575:\tlearn: 0.4821262\ttotal: 14s\tremaining: 22.5s\n",
            "576:\tlearn: 0.4818433\ttotal: 14s\tremaining: 22.5s\n",
            "577:\tlearn: 0.4816377\ttotal: 14.1s\tremaining: 22.4s\n",
            "578:\tlearn: 0.4814127\ttotal: 14.1s\tremaining: 22.4s\n",
            "579:\tlearn: 0.4811658\ttotal: 14.1s\tremaining: 22.4s\n",
            "580:\tlearn: 0.4810147\ttotal: 14.1s\tremaining: 22.3s\n",
            "581:\tlearn: 0.4807929\ttotal: 14.2s\tremaining: 22.3s\n",
            "582:\tlearn: 0.4806186\ttotal: 14.2s\tremaining: 22.3s\n",
            "583:\tlearn: 0.4804018\ttotal: 14.2s\tremaining: 22.3s\n",
            "584:\tlearn: 0.4801768\ttotal: 14.2s\tremaining: 22.2s\n",
            "585:\tlearn: 0.4799709\ttotal: 14.2s\tremaining: 22.2s\n",
            "586:\tlearn: 0.4797884\ttotal: 14.3s\tremaining: 22.2s\n",
            "587:\tlearn: 0.4795573\ttotal: 14.3s\tremaining: 22.2s\n",
            "588:\tlearn: 0.4793428\ttotal: 14.3s\tremaining: 22.1s\n",
            "589:\tlearn: 0.4790771\ttotal: 14.3s\tremaining: 22.1s\n",
            "590:\tlearn: 0.4788978\ttotal: 14.4s\tremaining: 22.1s\n",
            "591:\tlearn: 0.4787356\ttotal: 14.4s\tremaining: 22.1s\n",
            "592:\tlearn: 0.4785192\ttotal: 14.4s\tremaining: 22s\n",
            "593:\tlearn: 0.4782919\ttotal: 14.4s\tremaining: 22s\n",
            "594:\tlearn: 0.4780726\ttotal: 14.5s\tremaining: 22s\n",
            "595:\tlearn: 0.4779020\ttotal: 14.5s\tremaining: 22s\n",
            "596:\tlearn: 0.4776662\ttotal: 14.5s\tremaining: 21.9s\n",
            "597:\tlearn: 0.4774555\ttotal: 14.5s\tremaining: 21.9s\n",
            "598:\tlearn: 0.4772532\ttotal: 14.6s\tremaining: 21.9s\n",
            "599:\tlearn: 0.4770297\ttotal: 14.6s\tremaining: 21.9s\n",
            "600:\tlearn: 0.4768137\ttotal: 14.6s\tremaining: 21.8s\n",
            "601:\tlearn: 0.4766484\ttotal: 14.6s\tremaining: 21.8s\n",
            "602:\tlearn: 0.4764197\ttotal: 14.7s\tremaining: 21.8s\n",
            "603:\tlearn: 0.4761985\ttotal: 14.7s\tremaining: 21.8s\n",
            "604:\tlearn: 0.4760354\ttotal: 14.7s\tremaining: 21.7s\n",
            "605:\tlearn: 0.4758109\ttotal: 14.7s\tremaining: 21.7s\n",
            "606:\tlearn: 0.4756776\ttotal: 14.7s\tremaining: 21.7s\n",
            "607:\tlearn: 0.4755009\ttotal: 14.8s\tremaining: 21.7s\n",
            "608:\tlearn: 0.4752844\ttotal: 14.8s\tremaining: 21.6s\n",
            "609:\tlearn: 0.4750958\ttotal: 14.8s\tremaining: 21.6s\n",
            "610:\tlearn: 0.4748711\ttotal: 14.8s\tremaining: 21.6s\n",
            "611:\tlearn: 0.4746671\ttotal: 14.9s\tremaining: 21.6s\n",
            "612:\tlearn: 0.4743835\ttotal: 14.9s\tremaining: 21.5s\n",
            "613:\tlearn: 0.4741922\ttotal: 14.9s\tremaining: 21.5s\n",
            "614:\tlearn: 0.4739819\ttotal: 14.9s\tremaining: 21.5s\n",
            "615:\tlearn: 0.4737804\ttotal: 15s\tremaining: 21.5s\n",
            "616:\tlearn: 0.4736220\ttotal: 15s\tremaining: 21.4s\n",
            "617:\tlearn: 0.4734754\ttotal: 15s\tremaining: 21.4s\n",
            "618:\tlearn: 0.4733088\ttotal: 15s\tremaining: 21.4s\n",
            "619:\tlearn: 0.4730634\ttotal: 15.1s\tremaining: 21.4s\n",
            "620:\tlearn: 0.4728666\ttotal: 15.1s\tremaining: 21.3s\n",
            "621:\tlearn: 0.4726960\ttotal: 15.1s\tremaining: 21.3s\n",
            "622:\tlearn: 0.4724559\ttotal: 15.1s\tremaining: 21.3s\n",
            "623:\tlearn: 0.4722629\ttotal: 15.1s\tremaining: 21.3s\n",
            "624:\tlearn: 0.4720791\ttotal: 15.2s\tremaining: 21.2s\n",
            "625:\tlearn: 0.4719048\ttotal: 15.2s\tremaining: 21.2s\n",
            "626:\tlearn: 0.4717212\ttotal: 15.2s\tremaining: 21.2s\n",
            "627:\tlearn: 0.4715253\ttotal: 15.2s\tremaining: 21.1s\n",
            "628:\tlearn: 0.4713819\ttotal: 15.3s\tremaining: 21.1s\n",
            "629:\tlearn: 0.4711673\ttotal: 15.3s\tremaining: 21.1s\n",
            "630:\tlearn: 0.4709508\ttotal: 15.3s\tremaining: 21.1s\n",
            "631:\tlearn: 0.4706843\ttotal: 15.3s\tremaining: 21s\n",
            "632:\tlearn: 0.4704718\ttotal: 15.3s\tremaining: 21s\n",
            "633:\tlearn: 0.4702347\ttotal: 15.4s\tremaining: 21s\n",
            "634:\tlearn: 0.4700462\ttotal: 15.4s\tremaining: 21s\n",
            "635:\tlearn: 0.4698457\ttotal: 15.4s\tremaining: 20.9s\n",
            "636:\tlearn: 0.4696796\ttotal: 15.4s\tremaining: 20.9s\n",
            "637:\tlearn: 0.4695008\ttotal: 15.5s\tremaining: 20.9s\n",
            "638:\tlearn: 0.4693214\ttotal: 15.5s\tremaining: 20.9s\n",
            "639:\tlearn: 0.4691496\ttotal: 15.5s\tremaining: 20.8s\n",
            "640:\tlearn: 0.4689431\ttotal: 15.5s\tremaining: 20.8s\n",
            "641:\tlearn: 0.4686716\ttotal: 15.6s\tremaining: 20.8s\n",
            "642:\tlearn: 0.4685268\ttotal: 15.6s\tremaining: 20.8s\n",
            "643:\tlearn: 0.4683052\ttotal: 15.6s\tremaining: 20.7s\n",
            "644:\tlearn: 0.4681572\ttotal: 15.6s\tremaining: 20.7s\n",
            "645:\tlearn: 0.4679888\ttotal: 15.6s\tremaining: 20.7s\n",
            "646:\tlearn: 0.4677503\ttotal: 15.7s\tremaining: 20.7s\n",
            "647:\tlearn: 0.4676405\ttotal: 15.7s\tremaining: 20.6s\n",
            "648:\tlearn: 0.4674247\ttotal: 15.7s\tremaining: 20.6s\n",
            "649:\tlearn: 0.4671704\ttotal: 15.7s\tremaining: 20.6s\n",
            "650:\tlearn: 0.4669465\ttotal: 15.8s\tremaining: 20.6s\n",
            "651:\tlearn: 0.4667541\ttotal: 15.8s\tremaining: 20.5s\n",
            "652:\tlearn: 0.4665166\ttotal: 15.8s\tremaining: 20.5s\n",
            "653:\tlearn: 0.4663341\ttotal: 15.8s\tremaining: 20.5s\n",
            "654:\tlearn: 0.4661749\ttotal: 15.9s\tremaining: 20.5s\n",
            "655:\tlearn: 0.4658373\ttotal: 15.9s\tremaining: 20.5s\n",
            "656:\tlearn: 0.4655645\ttotal: 15.9s\tremaining: 20.4s\n",
            "657:\tlearn: 0.4653804\ttotal: 15.9s\tremaining: 20.4s\n",
            "658:\tlearn: 0.4652261\ttotal: 16s\tremaining: 20.4s\n",
            "659:\tlearn: 0.4650370\ttotal: 16s\tremaining: 20.4s\n",
            "660:\tlearn: 0.4647879\ttotal: 16s\tremaining: 20.3s\n",
            "661:\tlearn: 0.4645557\ttotal: 16s\tremaining: 20.3s\n",
            "662:\tlearn: 0.4643345\ttotal: 16.1s\tremaining: 20.3s\n",
            "663:\tlearn: 0.4641886\ttotal: 16.1s\tremaining: 20.2s\n",
            "664:\tlearn: 0.4639666\ttotal: 16.1s\tremaining: 20.2s\n",
            "665:\tlearn: 0.4637702\ttotal: 16.1s\tremaining: 20.2s\n",
            "666:\tlearn: 0.4636084\ttotal: 16.1s\tremaining: 20.2s\n",
            "667:\tlearn: 0.4634151\ttotal: 16.2s\tremaining: 20.1s\n",
            "668:\tlearn: 0.4632534\ttotal: 16.2s\tremaining: 20.1s\n",
            "669:\tlearn: 0.4630740\ttotal: 16.2s\tremaining: 20.1s\n",
            "670:\tlearn: 0.4628790\ttotal: 16.2s\tremaining: 20.1s\n",
            "671:\tlearn: 0.4627069\ttotal: 16.3s\tremaining: 20s\n",
            "672:\tlearn: 0.4624756\ttotal: 16.3s\tremaining: 20s\n",
            "673:\tlearn: 0.4623266\ttotal: 16.3s\tremaining: 20s\n",
            "674:\tlearn: 0.4621400\ttotal: 16.3s\tremaining: 20s\n",
            "675:\tlearn: 0.4620333\ttotal: 16.4s\tremaining: 19.9s\n",
            "676:\tlearn: 0.4618131\ttotal: 16.4s\tremaining: 19.9s\n",
            "677:\tlearn: 0.4616089\ttotal: 16.4s\tremaining: 19.9s\n",
            "678:\tlearn: 0.4613754\ttotal: 16.4s\tremaining: 19.9s\n",
            "679:\tlearn: 0.4611494\ttotal: 16.5s\tremaining: 19.8s\n",
            "680:\tlearn: 0.4609946\ttotal: 16.5s\tremaining: 19.8s\n",
            "681:\tlearn: 0.4608277\ttotal: 16.5s\tremaining: 19.8s\n",
            "682:\tlearn: 0.4606506\ttotal: 16.5s\tremaining: 19.8s\n",
            "683:\tlearn: 0.4605222\ttotal: 16.5s\tremaining: 19.7s\n",
            "684:\tlearn: 0.4602903\ttotal: 16.6s\tremaining: 19.7s\n",
            "685:\tlearn: 0.4601308\ttotal: 16.6s\tremaining: 19.7s\n",
            "686:\tlearn: 0.4599282\ttotal: 16.6s\tremaining: 19.7s\n",
            "687:\tlearn: 0.4596767\ttotal: 16.6s\tremaining: 19.6s\n",
            "688:\tlearn: 0.4594914\ttotal: 16.7s\tremaining: 19.6s\n",
            "689:\tlearn: 0.4593068\ttotal: 16.7s\tremaining: 19.6s\n",
            "690:\tlearn: 0.4591401\ttotal: 16.7s\tremaining: 19.6s\n",
            "691:\tlearn: 0.4589660\ttotal: 16.7s\tremaining: 19.5s\n",
            "692:\tlearn: 0.4587815\ttotal: 16.8s\tremaining: 19.5s\n",
            "693:\tlearn: 0.4586243\ttotal: 16.8s\tremaining: 19.5s\n",
            "694:\tlearn: 0.4584205\ttotal: 16.8s\tremaining: 19.5s\n",
            "695:\tlearn: 0.4582675\ttotal: 16.8s\tremaining: 19.4s\n",
            "696:\tlearn: 0.4580731\ttotal: 16.9s\tremaining: 19.4s\n",
            "697:\tlearn: 0.4579025\ttotal: 16.9s\tremaining: 19.4s\n",
            "698:\tlearn: 0.4577326\ttotal: 16.9s\tremaining: 19.4s\n",
            "699:\tlearn: 0.4574753\ttotal: 16.9s\tremaining: 19.3s\n",
            "700:\tlearn: 0.4573055\ttotal: 16.9s\tremaining: 19.3s\n",
            "701:\tlearn: 0.4570772\ttotal: 17s\tremaining: 19.3s\n",
            "702:\tlearn: 0.4569208\ttotal: 17s\tremaining: 19.3s\n",
            "703:\tlearn: 0.4567170\ttotal: 17s\tremaining: 19.2s\n",
            "704:\tlearn: 0.4565720\ttotal: 17s\tremaining: 19.2s\n",
            "705:\tlearn: 0.4563674\ttotal: 17.1s\tremaining: 19.2s\n",
            "706:\tlearn: 0.4562362\ttotal: 17.1s\tremaining: 19.2s\n",
            "707:\tlearn: 0.4561051\ttotal: 17.1s\tremaining: 19.1s\n",
            "708:\tlearn: 0.4559008\ttotal: 17.1s\tremaining: 19.1s\n",
            "709:\tlearn: 0.4557445\ttotal: 17.2s\tremaining: 19.1s\n",
            "710:\tlearn: 0.4556076\ttotal: 17.2s\tremaining: 19.1s\n",
            "711:\tlearn: 0.4553923\ttotal: 17.2s\tremaining: 19s\n",
            "712:\tlearn: 0.4552037\ttotal: 17.2s\tremaining: 19s\n",
            "713:\tlearn: 0.4550574\ttotal: 17.3s\tremaining: 19s\n",
            "714:\tlearn: 0.4549052\ttotal: 17.3s\tremaining: 19s\n",
            "715:\tlearn: 0.4547238\ttotal: 17.3s\tremaining: 18.9s\n",
            "716:\tlearn: 0.4545198\ttotal: 17.3s\tremaining: 18.9s\n",
            "717:\tlearn: 0.4543378\ttotal: 17.3s\tremaining: 18.9s\n",
            "718:\tlearn: 0.4542053\ttotal: 17.4s\tremaining: 18.9s\n",
            "719:\tlearn: 0.4540111\ttotal: 17.4s\tremaining: 18.8s\n",
            "720:\tlearn: 0.4538189\ttotal: 17.4s\tremaining: 18.8s\n",
            "721:\tlearn: 0.4536849\ttotal: 17.4s\tremaining: 18.8s\n",
            "722:\tlearn: 0.4535153\ttotal: 17.5s\tremaining: 18.8s\n",
            "723:\tlearn: 0.4533576\ttotal: 17.5s\tremaining: 18.7s\n",
            "724:\tlearn: 0.4532042\ttotal: 17.5s\tremaining: 18.7s\n",
            "725:\tlearn: 0.4529944\ttotal: 17.5s\tremaining: 18.7s\n",
            "726:\tlearn: 0.4528196\ttotal: 17.6s\tremaining: 18.7s\n",
            "727:\tlearn: 0.4526419\ttotal: 17.6s\tremaining: 18.7s\n",
            "728:\tlearn: 0.4524311\ttotal: 17.6s\tremaining: 18.6s\n",
            "729:\tlearn: 0.4522155\ttotal: 17.6s\tremaining: 18.6s\n",
            "730:\tlearn: 0.4520524\ttotal: 17.7s\tremaining: 18.6s\n",
            "731:\tlearn: 0.4519532\ttotal: 17.7s\tremaining: 18.5s\n",
            "732:\tlearn: 0.4518036\ttotal: 17.7s\tremaining: 18.5s\n",
            "733:\tlearn: 0.4516742\ttotal: 17.7s\tremaining: 18.5s\n",
            "734:\tlearn: 0.4515037\ttotal: 17.8s\tremaining: 18.5s\n",
            "735:\tlearn: 0.4513339\ttotal: 17.8s\tremaining: 18.5s\n",
            "736:\tlearn: 0.4511858\ttotal: 17.8s\tremaining: 18.4s\n",
            "737:\tlearn: 0.4510238\ttotal: 17.8s\tremaining: 18.4s\n",
            "738:\tlearn: 0.4508178\ttotal: 17.9s\tremaining: 18.4s\n",
            "739:\tlearn: 0.4506253\ttotal: 17.9s\tremaining: 18.4s\n",
            "740:\tlearn: 0.4504753\ttotal: 17.9s\tremaining: 18.3s\n",
            "741:\tlearn: 0.4502784\ttotal: 17.9s\tremaining: 18.3s\n",
            "742:\tlearn: 0.4501684\ttotal: 17.9s\tremaining: 18.3s\n",
            "743:\tlearn: 0.4499793\ttotal: 18s\tremaining: 18.3s\n",
            "744:\tlearn: 0.4498032\ttotal: 18s\tremaining: 18.2s\n",
            "745:\tlearn: 0.4496181\ttotal: 18s\tremaining: 18.2s\n",
            "746:\tlearn: 0.4494682\ttotal: 18s\tremaining: 18.2s\n",
            "747:\tlearn: 0.4492746\ttotal: 18.1s\tremaining: 18.2s\n",
            "748:\tlearn: 0.4491374\ttotal: 18.1s\tremaining: 18.1s\n",
            "749:\tlearn: 0.4490423\ttotal: 18.1s\tremaining: 18.1s\n",
            "750:\tlearn: 0.4488780\ttotal: 18.1s\tremaining: 18.1s\n",
            "751:\tlearn: 0.4487223\ttotal: 18.2s\tremaining: 18.1s\n",
            "752:\tlearn: 0.4485883\ttotal: 18.2s\tremaining: 18s\n",
            "753:\tlearn: 0.4484613\ttotal: 18.2s\tremaining: 18s\n",
            "754:\tlearn: 0.4483157\ttotal: 18.2s\tremaining: 18s\n",
            "755:\tlearn: 0.4481303\ttotal: 18.2s\tremaining: 18s\n",
            "756:\tlearn: 0.4478828\ttotal: 18.3s\tremaining: 17.9s\n",
            "757:\tlearn: 0.4477008\ttotal: 18.3s\tremaining: 17.9s\n",
            "758:\tlearn: 0.4474668\ttotal: 18.3s\tremaining: 17.9s\n",
            "759:\tlearn: 0.4473491\ttotal: 18.3s\tremaining: 17.9s\n",
            "760:\tlearn: 0.4472019\ttotal: 18.4s\tremaining: 17.8s\n",
            "761:\tlearn: 0.4470377\ttotal: 18.4s\tremaining: 17.8s\n",
            "762:\tlearn: 0.4468320\ttotal: 18.4s\tremaining: 17.8s\n",
            "763:\tlearn: 0.4466473\ttotal: 18.4s\tremaining: 17.8s\n",
            "764:\tlearn: 0.4464780\ttotal: 18.5s\tremaining: 17.7s\n",
            "765:\tlearn: 0.4463430\ttotal: 18.5s\tremaining: 17.7s\n",
            "766:\tlearn: 0.4462042\ttotal: 18.5s\tremaining: 17.7s\n",
            "767:\tlearn: 0.4459664\ttotal: 18.5s\tremaining: 17.7s\n",
            "768:\tlearn: 0.4457840\ttotal: 18.5s\tremaining: 17.6s\n",
            "769:\tlearn: 0.4456217\ttotal: 18.6s\tremaining: 17.6s\n",
            "770:\tlearn: 0.4454617\ttotal: 18.6s\tremaining: 17.6s\n",
            "771:\tlearn: 0.4453181\ttotal: 18.6s\tremaining: 17.6s\n",
            "772:\tlearn: 0.4452185\ttotal: 18.6s\tremaining: 17.5s\n",
            "773:\tlearn: 0.4450949\ttotal: 18.7s\tremaining: 17.5s\n",
            "774:\tlearn: 0.4449176\ttotal: 18.7s\tremaining: 17.5s\n",
            "775:\tlearn: 0.4448188\ttotal: 18.7s\tremaining: 17.4s\n",
            "776:\tlearn: 0.4446914\ttotal: 18.7s\tremaining: 17.4s\n",
            "777:\tlearn: 0.4445801\ttotal: 18.7s\tremaining: 17.4s\n",
            "778:\tlearn: 0.4444144\ttotal: 18.8s\tremaining: 17.4s\n",
            "779:\tlearn: 0.4443126\ttotal: 18.8s\tremaining: 17.4s\n",
            "780:\tlearn: 0.4441780\ttotal: 18.8s\tremaining: 17.3s\n",
            "781:\tlearn: 0.4441062\ttotal: 18.9s\tremaining: 17.3s\n",
            "782:\tlearn: 0.4439261\ttotal: 18.9s\tremaining: 17.3s\n",
            "783:\tlearn: 0.4437196\ttotal: 18.9s\tremaining: 17.3s\n",
            "784:\tlearn: 0.4435618\ttotal: 18.9s\tremaining: 17.2s\n",
            "785:\tlearn: 0.4434186\ttotal: 18.9s\tremaining: 17.2s\n",
            "786:\tlearn: 0.4432461\ttotal: 19s\tremaining: 17.2s\n",
            "787:\tlearn: 0.4431307\ttotal: 19s\tremaining: 17.2s\n",
            "788:\tlearn: 0.4429848\ttotal: 19s\tremaining: 17.1s\n",
            "789:\tlearn: 0.4427657\ttotal: 19s\tremaining: 17.1s\n",
            "790:\tlearn: 0.4425676\ttotal: 19.1s\tremaining: 17.1s\n",
            "791:\tlearn: 0.4424396\ttotal: 19.1s\tremaining: 17.1s\n",
            "792:\tlearn: 0.4422875\ttotal: 19.1s\tremaining: 17s\n",
            "793:\tlearn: 0.4421132\ttotal: 19.1s\tremaining: 17s\n",
            "794:\tlearn: 0.4418929\ttotal: 19.2s\tremaining: 17s\n",
            "795:\tlearn: 0.4416971\ttotal: 19.2s\tremaining: 17s\n",
            "796:\tlearn: 0.4414753\ttotal: 19.2s\tremaining: 16.9s\n",
            "797:\tlearn: 0.4413134\ttotal: 19.2s\tremaining: 16.9s\n",
            "798:\tlearn: 0.4411087\ttotal: 19.2s\tremaining: 16.9s\n",
            "799:\tlearn: 0.4408920\ttotal: 19.3s\tremaining: 16.9s\n",
            "800:\tlearn: 0.4407320\ttotal: 19.3s\tremaining: 16.8s\n",
            "801:\tlearn: 0.4405660\ttotal: 19.3s\tremaining: 16.8s\n",
            "802:\tlearn: 0.4403344\ttotal: 19.3s\tremaining: 16.8s\n",
            "803:\tlearn: 0.4401665\ttotal: 19.4s\tremaining: 16.8s\n",
            "804:\tlearn: 0.4400050\ttotal: 19.4s\tremaining: 16.7s\n",
            "805:\tlearn: 0.4398681\ttotal: 19.4s\tremaining: 16.7s\n",
            "806:\tlearn: 0.4397301\ttotal: 19.4s\tremaining: 16.7s\n",
            "807:\tlearn: 0.4395830\ttotal: 19.5s\tremaining: 16.7s\n",
            "808:\tlearn: 0.4394276\ttotal: 19.5s\tremaining: 16.6s\n",
            "809:\tlearn: 0.4392720\ttotal: 19.5s\tremaining: 16.6s\n",
            "810:\tlearn: 0.4391383\ttotal: 19.5s\tremaining: 16.6s\n",
            "811:\tlearn: 0.4389226\ttotal: 19.6s\tremaining: 16.6s\n",
            "812:\tlearn: 0.4388020\ttotal: 19.6s\tremaining: 16.5s\n",
            "813:\tlearn: 0.4386733\ttotal: 19.6s\tremaining: 16.5s\n",
            "814:\tlearn: 0.4385637\ttotal: 19.6s\tremaining: 16.5s\n",
            "815:\tlearn: 0.4384057\ttotal: 19.6s\tremaining: 16.5s\n",
            "816:\tlearn: 0.4382631\ttotal: 19.7s\tremaining: 16.4s\n",
            "817:\tlearn: 0.4380799\ttotal: 19.7s\tremaining: 16.4s\n",
            "818:\tlearn: 0.4379344\ttotal: 19.7s\tremaining: 16.4s\n",
            "819:\tlearn: 0.4377173\ttotal: 19.7s\tremaining: 16.4s\n",
            "820:\tlearn: 0.4375592\ttotal: 19.8s\tremaining: 16.3s\n",
            "821:\tlearn: 0.4374044\ttotal: 19.8s\tremaining: 16.3s\n",
            "822:\tlearn: 0.4372207\ttotal: 19.8s\tremaining: 16.3s\n",
            "823:\tlearn: 0.4370513\ttotal: 19.8s\tremaining: 16.3s\n",
            "824:\tlearn: 0.4368766\ttotal: 19.9s\tremaining: 16.2s\n",
            "825:\tlearn: 0.4367109\ttotal: 19.9s\tremaining: 16.2s\n",
            "826:\tlearn: 0.4365276\ttotal: 19.9s\tremaining: 16.2s\n",
            "827:\tlearn: 0.4363936\ttotal: 19.9s\tremaining: 16.2s\n",
            "828:\tlearn: 0.4362162\ttotal: 19.9s\tremaining: 16.1s\n",
            "829:\tlearn: 0.4360619\ttotal: 20s\tremaining: 16.1s\n",
            "830:\tlearn: 0.4359087\ttotal: 20s\tremaining: 16.1s\n",
            "831:\tlearn: 0.4357320\ttotal: 20s\tremaining: 16.1s\n",
            "832:\tlearn: 0.4356118\ttotal: 20s\tremaining: 16s\n",
            "833:\tlearn: 0.4355199\ttotal: 20.1s\tremaining: 16s\n",
            "834:\tlearn: 0.4353219\ttotal: 20.1s\tremaining: 16s\n",
            "835:\tlearn: 0.4351836\ttotal: 20.1s\tremaining: 16s\n",
            "836:\tlearn: 0.4350092\ttotal: 20.1s\tremaining: 15.9s\n",
            "837:\tlearn: 0.4348191\ttotal: 20.1s\tremaining: 15.9s\n",
            "838:\tlearn: 0.4346643\ttotal: 20.2s\tremaining: 15.9s\n",
            "839:\tlearn: 0.4344808\ttotal: 20.2s\tremaining: 15.9s\n",
            "840:\tlearn: 0.4342966\ttotal: 20.2s\tremaining: 15.8s\n",
            "841:\tlearn: 0.4341606\ttotal: 20.2s\tremaining: 15.8s\n",
            "842:\tlearn: 0.4340124\ttotal: 20.3s\tremaining: 15.8s\n",
            "843:\tlearn: 0.4337934\ttotal: 20.3s\tremaining: 15.8s\n",
            "844:\tlearn: 0.4336284\ttotal: 20.3s\tremaining: 15.7s\n",
            "845:\tlearn: 0.4334446\ttotal: 20.3s\tremaining: 15.7s\n",
            "846:\tlearn: 0.4332533\ttotal: 20.4s\tremaining: 15.7s\n",
            "847:\tlearn: 0.4331225\ttotal: 20.4s\tremaining: 15.7s\n",
            "848:\tlearn: 0.4329282\ttotal: 20.4s\tremaining: 15.6s\n",
            "849:\tlearn: 0.4327730\ttotal: 20.4s\tremaining: 15.6s\n",
            "850:\tlearn: 0.4325046\ttotal: 20.5s\tremaining: 15.6s\n",
            "851:\tlearn: 0.4323783\ttotal: 20.5s\tremaining: 15.6s\n",
            "852:\tlearn: 0.4322614\ttotal: 20.5s\tremaining: 15.5s\n",
            "853:\tlearn: 0.4321660\ttotal: 20.5s\tremaining: 15.5s\n",
            "854:\tlearn: 0.4320226\ttotal: 20.5s\tremaining: 15.5s\n",
            "855:\tlearn: 0.4318828\ttotal: 20.6s\tremaining: 15.5s\n",
            "856:\tlearn: 0.4316880\ttotal: 20.6s\tremaining: 15.4s\n",
            "857:\tlearn: 0.4315204\ttotal: 20.6s\tremaining: 15.4s\n",
            "858:\tlearn: 0.4313960\ttotal: 20.6s\tremaining: 15.4s\n",
            "859:\tlearn: 0.4312962\ttotal: 20.6s\tremaining: 15.4s\n",
            "860:\tlearn: 0.4311317\ttotal: 20.7s\tremaining: 15.3s\n",
            "861:\tlearn: 0.4309316\ttotal: 20.7s\tremaining: 15.3s\n",
            "862:\tlearn: 0.4307847\ttotal: 20.7s\tremaining: 15.3s\n",
            "863:\tlearn: 0.4306852\ttotal: 20.8s\tremaining: 15.3s\n",
            "864:\tlearn: 0.4305191\ttotal: 20.8s\tremaining: 15.3s\n",
            "865:\tlearn: 0.4304039\ttotal: 20.8s\tremaining: 15.2s\n",
            "866:\tlearn: 0.4302798\ttotal: 20.8s\tremaining: 15.2s\n",
            "867:\tlearn: 0.4301015\ttotal: 20.8s\tremaining: 15.2s\n",
            "868:\tlearn: 0.4299274\ttotal: 20.9s\tremaining: 15.2s\n",
            "869:\tlearn: 0.4298298\ttotal: 20.9s\tremaining: 15.1s\n",
            "870:\tlearn: 0.4296575\ttotal: 20.9s\tremaining: 15.1s\n",
            "871:\tlearn: 0.4294717\ttotal: 20.9s\tremaining: 15.1s\n",
            "872:\tlearn: 0.4293764\ttotal: 21s\tremaining: 15.1s\n",
            "873:\tlearn: 0.4292688\ttotal: 21s\tremaining: 15s\n",
            "874:\tlearn: 0.4290836\ttotal: 21s\tremaining: 15s\n",
            "875:\tlearn: 0.4288961\ttotal: 21s\tremaining: 15s\n",
            "876:\tlearn: 0.4287533\ttotal: 21.1s\tremaining: 15s\n",
            "877:\tlearn: 0.4286280\ttotal: 21.1s\tremaining: 14.9s\n",
            "878:\tlearn: 0.4284545\ttotal: 21.1s\tremaining: 14.9s\n",
            "879:\tlearn: 0.4282606\ttotal: 21.1s\tremaining: 14.9s\n",
            "880:\tlearn: 0.4281413\ttotal: 21.1s\tremaining: 14.9s\n",
            "881:\tlearn: 0.4279130\ttotal: 21.2s\tremaining: 14.8s\n",
            "882:\tlearn: 0.4277063\ttotal: 21.2s\tremaining: 14.8s\n",
            "883:\tlearn: 0.4275975\ttotal: 21.2s\tremaining: 14.8s\n",
            "884:\tlearn: 0.4274615\ttotal: 21.2s\tremaining: 14.8s\n",
            "885:\tlearn: 0.4273089\ttotal: 21.3s\tremaining: 14.7s\n",
            "886:\tlearn: 0.4271668\ttotal: 21.3s\tremaining: 14.7s\n",
            "887:\tlearn: 0.4269945\ttotal: 21.3s\tremaining: 14.7s\n",
            "888:\tlearn: 0.4268843\ttotal: 21.3s\tremaining: 14.7s\n",
            "889:\tlearn: 0.4267182\ttotal: 21.4s\tremaining: 14.6s\n",
            "890:\tlearn: 0.4266060\ttotal: 21.4s\tremaining: 14.6s\n",
            "891:\tlearn: 0.4265018\ttotal: 21.4s\tremaining: 14.6s\n",
            "892:\tlearn: 0.4263315\ttotal: 21.4s\tremaining: 14.6s\n",
            "893:\tlearn: 0.4261930\ttotal: 21.4s\tremaining: 14.5s\n",
            "894:\tlearn: 0.4261136\ttotal: 21.5s\tremaining: 14.5s\n",
            "895:\tlearn: 0.4259327\ttotal: 21.5s\tremaining: 14.5s\n",
            "896:\tlearn: 0.4257781\ttotal: 21.5s\tremaining: 14.5s\n",
            "897:\tlearn: 0.4256715\ttotal: 21.5s\tremaining: 14.4s\n",
            "898:\tlearn: 0.4255072\ttotal: 21.5s\tremaining: 14.4s\n",
            "899:\tlearn: 0.4253913\ttotal: 21.6s\tremaining: 14.4s\n",
            "900:\tlearn: 0.4252091\ttotal: 21.6s\tremaining: 14.4s\n",
            "901:\tlearn: 0.4250376\ttotal: 21.6s\tremaining: 14.3s\n",
            "902:\tlearn: 0.4248659\ttotal: 21.6s\tremaining: 14.3s\n",
            "903:\tlearn: 0.4247518\ttotal: 21.7s\tremaining: 14.3s\n",
            "904:\tlearn: 0.4246232\ttotal: 21.7s\tremaining: 14.3s\n",
            "905:\tlearn: 0.4245125\ttotal: 21.7s\tremaining: 14.2s\n",
            "906:\tlearn: 0.4243041\ttotal: 21.7s\tremaining: 14.2s\n",
            "907:\tlearn: 0.4241930\ttotal: 21.7s\tremaining: 14.2s\n",
            "908:\tlearn: 0.4239879\ttotal: 21.8s\tremaining: 14.2s\n",
            "909:\tlearn: 0.4238559\ttotal: 21.8s\tremaining: 14.1s\n",
            "910:\tlearn: 0.4236869\ttotal: 21.8s\tremaining: 14.1s\n",
            "911:\tlearn: 0.4235415\ttotal: 21.8s\tremaining: 14.1s\n",
            "912:\tlearn: 0.4233244\ttotal: 21.9s\tremaining: 14.1s\n",
            "913:\tlearn: 0.4231428\ttotal: 21.9s\tremaining: 14s\n",
            "914:\tlearn: 0.4229742\ttotal: 21.9s\tremaining: 14s\n",
            "915:\tlearn: 0.4228444\ttotal: 21.9s\tremaining: 14s\n",
            "916:\tlearn: 0.4227500\ttotal: 22s\tremaining: 14s\n",
            "917:\tlearn: 0.4225741\ttotal: 22s\tremaining: 13.9s\n",
            "918:\tlearn: 0.4224396\ttotal: 22s\tremaining: 13.9s\n",
            "919:\tlearn: 0.4222491\ttotal: 22s\tremaining: 13.9s\n",
            "920:\tlearn: 0.4221205\ttotal: 22.1s\tremaining: 13.9s\n",
            "921:\tlearn: 0.4219831\ttotal: 22.1s\tremaining: 13.8s\n",
            "922:\tlearn: 0.4218604\ttotal: 22.1s\tremaining: 13.8s\n",
            "923:\tlearn: 0.4217198\ttotal: 22.1s\tremaining: 13.8s\n",
            "924:\tlearn: 0.4215836\ttotal: 22.1s\tremaining: 13.8s\n",
            "925:\tlearn: 0.4214587\ttotal: 22.2s\tremaining: 13.7s\n",
            "926:\tlearn: 0.4212966\ttotal: 22.2s\tremaining: 13.7s\n",
            "927:\tlearn: 0.4211804\ttotal: 22.2s\tremaining: 13.7s\n",
            "928:\tlearn: 0.4210101\ttotal: 22.2s\tremaining: 13.7s\n",
            "929:\tlearn: 0.4209138\ttotal: 22.3s\tremaining: 13.6s\n",
            "930:\tlearn: 0.4207456\ttotal: 22.3s\tremaining: 13.6s\n",
            "931:\tlearn: 0.4206560\ttotal: 22.3s\tremaining: 13.6s\n",
            "932:\tlearn: 0.4205119\ttotal: 22.3s\tremaining: 13.6s\n",
            "933:\tlearn: 0.4203774\ttotal: 22.3s\tremaining: 13.5s\n",
            "934:\tlearn: 0.4202375\ttotal: 22.4s\tremaining: 13.5s\n",
            "935:\tlearn: 0.4200774\ttotal: 22.4s\tremaining: 13.5s\n",
            "936:\tlearn: 0.4199190\ttotal: 22.4s\tremaining: 13.5s\n",
            "937:\tlearn: 0.4197647\ttotal: 22.4s\tremaining: 13.4s\n",
            "938:\tlearn: 0.4196118\ttotal: 22.5s\tremaining: 13.4s\n",
            "939:\tlearn: 0.4194635\ttotal: 22.5s\tremaining: 13.4s\n",
            "940:\tlearn: 0.4193534\ttotal: 22.5s\tremaining: 13.4s\n",
            "941:\tlearn: 0.4192832\ttotal: 22.5s\tremaining: 13.3s\n",
            "942:\tlearn: 0.4191589\ttotal: 22.6s\tremaining: 13.3s\n",
            "943:\tlearn: 0.4190219\ttotal: 22.6s\tremaining: 13.3s\n",
            "944:\tlearn: 0.4188631\ttotal: 22.6s\tremaining: 13.3s\n",
            "945:\tlearn: 0.4187057\ttotal: 22.6s\tremaining: 13.2s\n",
            "946:\tlearn: 0.4185826\ttotal: 22.6s\tremaining: 13.2s\n",
            "947:\tlearn: 0.4184896\ttotal: 22.7s\tremaining: 13.2s\n",
            "948:\tlearn: 0.4183819\ttotal: 22.7s\tremaining: 13.2s\n",
            "949:\tlearn: 0.4182167\ttotal: 22.7s\tremaining: 13.1s\n",
            "950:\tlearn: 0.4181078\ttotal: 22.7s\tremaining: 13.1s\n",
            "951:\tlearn: 0.4179124\ttotal: 22.8s\tremaining: 13.1s\n",
            "952:\tlearn: 0.4177550\ttotal: 22.8s\tremaining: 13.1s\n",
            "953:\tlearn: 0.4175969\ttotal: 22.8s\tremaining: 13s\n",
            "954:\tlearn: 0.4174376\ttotal: 22.8s\tremaining: 13s\n",
            "955:\tlearn: 0.4172717\ttotal: 22.8s\tremaining: 13s\n",
            "956:\tlearn: 0.4171982\ttotal: 22.9s\tremaining: 13s\n",
            "957:\tlearn: 0.4170858\ttotal: 22.9s\tremaining: 13s\n",
            "958:\tlearn: 0.4169241\ttotal: 22.9s\tremaining: 12.9s\n",
            "959:\tlearn: 0.4167736\ttotal: 22.9s\tremaining: 12.9s\n",
            "960:\tlearn: 0.4166309\ttotal: 23s\tremaining: 12.9s\n",
            "961:\tlearn: 0.4165008\ttotal: 23s\tremaining: 12.9s\n",
            "962:\tlearn: 0.4163408\ttotal: 23s\tremaining: 12.8s\n",
            "963:\tlearn: 0.4162519\ttotal: 23s\tremaining: 12.8s\n",
            "964:\tlearn: 0.4160875\ttotal: 23.1s\tremaining: 12.8s\n",
            "965:\tlearn: 0.4159859\ttotal: 23.1s\tremaining: 12.8s\n",
            "966:\tlearn: 0.4158305\ttotal: 23.1s\tremaining: 12.7s\n",
            "967:\tlearn: 0.4156631\ttotal: 23.1s\tremaining: 12.7s\n",
            "968:\tlearn: 0.4155174\ttotal: 23.1s\tremaining: 12.7s\n",
            "969:\tlearn: 0.4153645\ttotal: 23.2s\tremaining: 12.7s\n",
            "970:\tlearn: 0.4152434\ttotal: 23.2s\tremaining: 12.6s\n",
            "971:\tlearn: 0.4151018\ttotal: 23.2s\tremaining: 12.6s\n",
            "972:\tlearn: 0.4149685\ttotal: 23.2s\tremaining: 12.6s\n",
            "973:\tlearn: 0.4147606\ttotal: 23.3s\tremaining: 12.6s\n",
            "974:\tlearn: 0.4146452\ttotal: 23.3s\tremaining: 12.5s\n",
            "975:\tlearn: 0.4144881\ttotal: 23.3s\tremaining: 12.5s\n",
            "976:\tlearn: 0.4143707\ttotal: 23.3s\tremaining: 12.5s\n",
            "977:\tlearn: 0.4141616\ttotal: 23.4s\tremaining: 12.5s\n",
            "978:\tlearn: 0.4140503\ttotal: 23.4s\tremaining: 12.4s\n",
            "979:\tlearn: 0.4139287\ttotal: 23.4s\tremaining: 12.4s\n",
            "980:\tlearn: 0.4138363\ttotal: 23.4s\tremaining: 12.4s\n",
            "981:\tlearn: 0.4137302\ttotal: 23.4s\tremaining: 12.4s\n",
            "982:\tlearn: 0.4136047\ttotal: 23.5s\tremaining: 12.3s\n",
            "983:\tlearn: 0.4134580\ttotal: 23.5s\tremaining: 12.3s\n",
            "984:\tlearn: 0.4132526\ttotal: 23.5s\tremaining: 12.3s\n",
            "985:\tlearn: 0.4130932\ttotal: 23.5s\tremaining: 12.3s\n",
            "986:\tlearn: 0.4129408\ttotal: 23.6s\tremaining: 12.2s\n",
            "987:\tlearn: 0.4127608\ttotal: 23.6s\tremaining: 12.2s\n",
            "988:\tlearn: 0.4125709\ttotal: 23.6s\tremaining: 12.2s\n",
            "989:\tlearn: 0.4124173\ttotal: 23.6s\tremaining: 12.2s\n",
            "990:\tlearn: 0.4122786\ttotal: 23.6s\tremaining: 12.1s\n",
            "991:\tlearn: 0.4121268\ttotal: 23.7s\tremaining: 12.1s\n",
            "992:\tlearn: 0.4120367\ttotal: 23.7s\tremaining: 12.1s\n",
            "993:\tlearn: 0.4119005\ttotal: 23.7s\tremaining: 12.1s\n",
            "994:\tlearn: 0.4118012\ttotal: 23.7s\tremaining: 12s\n",
            "995:\tlearn: 0.4117101\ttotal: 23.8s\tremaining: 12s\n",
            "996:\tlearn: 0.4115577\ttotal: 23.8s\tremaining: 12s\n",
            "997:\tlearn: 0.4113555\ttotal: 23.8s\tremaining: 12s\n",
            "998:\tlearn: 0.4112472\ttotal: 23.8s\tremaining: 12s\n",
            "999:\tlearn: 0.4110961\ttotal: 23.9s\tremaining: 11.9s\n",
            "1000:\tlearn: 0.4109523\ttotal: 23.9s\tremaining: 11.9s\n",
            "1001:\tlearn: 0.4108504\ttotal: 23.9s\tremaining: 11.9s\n",
            "1002:\tlearn: 0.4107310\ttotal: 23.9s\tremaining: 11.9s\n",
            "1003:\tlearn: 0.4105838\ttotal: 24s\tremaining: 11.8s\n",
            "1004:\tlearn: 0.4105114\ttotal: 24s\tremaining: 11.8s\n",
            "1005:\tlearn: 0.4103401\ttotal: 24s\tremaining: 11.8s\n",
            "1006:\tlearn: 0.4102255\ttotal: 24s\tremaining: 11.8s\n",
            "1007:\tlearn: 0.4101340\ttotal: 24s\tremaining: 11.7s\n",
            "1008:\tlearn: 0.4100110\ttotal: 24.1s\tremaining: 11.7s\n",
            "1009:\tlearn: 0.4098301\ttotal: 24.1s\tremaining: 11.7s\n",
            "1010:\tlearn: 0.4097329\ttotal: 24.1s\tremaining: 11.7s\n",
            "1011:\tlearn: 0.4096136\ttotal: 24.1s\tremaining: 11.6s\n",
            "1012:\tlearn: 0.4094755\ttotal: 24.2s\tremaining: 11.6s\n",
            "1013:\tlearn: 0.4093735\ttotal: 24.2s\tremaining: 11.6s\n",
            "1014:\tlearn: 0.4092382\ttotal: 24.2s\tremaining: 11.6s\n",
            "1015:\tlearn: 0.4091272\ttotal: 24.2s\tremaining: 11.5s\n",
            "1016:\tlearn: 0.4089774\ttotal: 24.3s\tremaining: 11.5s\n",
            "1017:\tlearn: 0.4088220\ttotal: 24.3s\tremaining: 11.5s\n",
            "1018:\tlearn: 0.4086763\ttotal: 24.3s\tremaining: 11.5s\n",
            "1019:\tlearn: 0.4084974\ttotal: 24.3s\tremaining: 11.4s\n",
            "1020:\tlearn: 0.4084236\ttotal: 24.4s\tremaining: 11.4s\n",
            "1021:\tlearn: 0.4083176\ttotal: 24.4s\tremaining: 11.4s\n",
            "1022:\tlearn: 0.4081958\ttotal: 24.4s\tremaining: 11.4s\n",
            "1023:\tlearn: 0.4079824\ttotal: 24.4s\tremaining: 11.3s\n",
            "1024:\tlearn: 0.4078558\ttotal: 24.4s\tremaining: 11.3s\n",
            "1025:\tlearn: 0.4077482\ttotal: 24.5s\tremaining: 11.3s\n",
            "1026:\tlearn: 0.4076599\ttotal: 24.5s\tremaining: 11.3s\n",
            "1027:\tlearn: 0.4075117\ttotal: 24.5s\tremaining: 11.3s\n",
            "1028:\tlearn: 0.4073975\ttotal: 24.5s\tremaining: 11.2s\n",
            "1029:\tlearn: 0.4072755\ttotal: 24.6s\tremaining: 11.2s\n",
            "1030:\tlearn: 0.4072102\ttotal: 24.6s\tremaining: 11.2s\n",
            "1031:\tlearn: 0.4070801\ttotal: 24.6s\tremaining: 11.2s\n",
            "1032:\tlearn: 0.4069607\ttotal: 24.6s\tremaining: 11.1s\n",
            "1033:\tlearn: 0.4068093\ttotal: 24.6s\tremaining: 11.1s\n",
            "1034:\tlearn: 0.4066738\ttotal: 24.7s\tremaining: 11.1s\n",
            "1035:\tlearn: 0.4065402\ttotal: 24.7s\tremaining: 11.1s\n",
            "1036:\tlearn: 0.4064207\ttotal: 24.7s\tremaining: 11s\n",
            "1037:\tlearn: 0.4062992\ttotal: 24.7s\tremaining: 11s\n",
            "1038:\tlearn: 0.4061873\ttotal: 24.8s\tremaining: 11s\n",
            "1039:\tlearn: 0.4060298\ttotal: 24.8s\tremaining: 11s\n",
            "1040:\tlearn: 0.4058961\ttotal: 24.8s\tremaining: 10.9s\n",
            "1041:\tlearn: 0.4057222\ttotal: 24.8s\tremaining: 10.9s\n",
            "1042:\tlearn: 0.4055744\ttotal: 24.8s\tremaining: 10.9s\n",
            "1043:\tlearn: 0.4054473\ttotal: 24.9s\tremaining: 10.9s\n",
            "1044:\tlearn: 0.4053466\ttotal: 24.9s\tremaining: 10.8s\n",
            "1045:\tlearn: 0.4052333\ttotal: 24.9s\tremaining: 10.8s\n",
            "1046:\tlearn: 0.4051486\ttotal: 25s\tremaining: 10.8s\n",
            "1047:\tlearn: 0.4049768\ttotal: 25s\tremaining: 10.8s\n",
            "1048:\tlearn: 0.4048694\ttotal: 25s\tremaining: 10.7s\n",
            "1049:\tlearn: 0.4047603\ttotal: 25s\tremaining: 10.7s\n",
            "1050:\tlearn: 0.4046624\ttotal: 25s\tremaining: 10.7s\n",
            "1051:\tlearn: 0.4045824\ttotal: 25.1s\tremaining: 10.7s\n",
            "1052:\tlearn: 0.4044510\ttotal: 25.1s\tremaining: 10.6s\n",
            "1053:\tlearn: 0.4043218\ttotal: 25.1s\tremaining: 10.6s\n",
            "1054:\tlearn: 0.4041714\ttotal: 25.1s\tremaining: 10.6s\n",
            "1055:\tlearn: 0.4040684\ttotal: 25.1s\tremaining: 10.6s\n",
            "1056:\tlearn: 0.4039003\ttotal: 25.2s\tremaining: 10.5s\n",
            "1057:\tlearn: 0.4037312\ttotal: 25.2s\tremaining: 10.5s\n",
            "1058:\tlearn: 0.4035628\ttotal: 25.2s\tremaining: 10.5s\n",
            "1059:\tlearn: 0.4034502\ttotal: 25.2s\tremaining: 10.5s\n",
            "1060:\tlearn: 0.4033361\ttotal: 25.3s\tremaining: 10.5s\n",
            "1061:\tlearn: 0.4031431\ttotal: 25.3s\tremaining: 10.4s\n",
            "1062:\tlearn: 0.4030178\ttotal: 25.3s\tremaining: 10.4s\n",
            "1063:\tlearn: 0.4029223\ttotal: 25.3s\tremaining: 10.4s\n",
            "1064:\tlearn: 0.4027780\ttotal: 25.4s\tremaining: 10.4s\n",
            "1065:\tlearn: 0.4027128\ttotal: 25.4s\tremaining: 10.3s\n",
            "1066:\tlearn: 0.4026334\ttotal: 25.4s\tremaining: 10.3s\n",
            "1067:\tlearn: 0.4024762\ttotal: 25.4s\tremaining: 10.3s\n",
            "1068:\tlearn: 0.4023095\ttotal: 25.4s\tremaining: 10.3s\n",
            "1069:\tlearn: 0.4021943\ttotal: 25.5s\tremaining: 10.2s\n",
            "1070:\tlearn: 0.4020554\ttotal: 25.5s\tremaining: 10.2s\n",
            "1071:\tlearn: 0.4019438\ttotal: 25.5s\tremaining: 10.2s\n",
            "1072:\tlearn: 0.4018412\ttotal: 25.5s\tremaining: 10.2s\n",
            "1073:\tlearn: 0.4017564\ttotal: 25.6s\tremaining: 10.1s\n",
            "1074:\tlearn: 0.4016315\ttotal: 25.6s\tremaining: 10.1s\n",
            "1075:\tlearn: 0.4014954\ttotal: 25.6s\tremaining: 10.1s\n",
            "1076:\tlearn: 0.4014126\ttotal: 25.6s\tremaining: 10.1s\n",
            "1077:\tlearn: 0.4012839\ttotal: 25.7s\tremaining: 10s\n",
            "1078:\tlearn: 0.4011845\ttotal: 25.7s\tremaining: 10s\n",
            "1079:\tlearn: 0.4010623\ttotal: 25.7s\tremaining: 9.99s\n",
            "1080:\tlearn: 0.4009386\ttotal: 25.7s\tremaining: 9.97s\n",
            "1081:\tlearn: 0.4007925\ttotal: 25.7s\tremaining: 9.95s\n",
            "1082:\tlearn: 0.4006260\ttotal: 25.8s\tremaining: 9.92s\n",
            "1083:\tlearn: 0.4004485\ttotal: 25.8s\tremaining: 9.9s\n",
            "1084:\tlearn: 0.4003074\ttotal: 25.8s\tremaining: 9.87s\n",
            "1085:\tlearn: 0.4001764\ttotal: 25.8s\tremaining: 9.85s\n",
            "1086:\tlearn: 0.4000123\ttotal: 25.9s\tremaining: 9.82s\n",
            "1087:\tlearn: 0.3999226\ttotal: 25.9s\tremaining: 9.8s\n",
            "1088:\tlearn: 0.3998468\ttotal: 25.9s\tremaining: 9.77s\n",
            "1089:\tlearn: 0.3997683\ttotal: 25.9s\tremaining: 9.75s\n",
            "1090:\tlearn: 0.3996291\ttotal: 26s\tremaining: 9.73s\n",
            "1091:\tlearn: 0.3994613\ttotal: 26s\tremaining: 9.7s\n",
            "1092:\tlearn: 0.3992715\ttotal: 26s\tremaining: 9.68s\n",
            "1093:\tlearn: 0.3991203\ttotal: 26s\tremaining: 9.65s\n",
            "1094:\tlearn: 0.3989782\ttotal: 26s\tremaining: 9.63s\n",
            "1095:\tlearn: 0.3989117\ttotal: 26.1s\tremaining: 9.61s\n",
            "1096:\tlearn: 0.3988062\ttotal: 26.1s\tremaining: 9.58s\n",
            "1097:\tlearn: 0.3986322\ttotal: 26.1s\tremaining: 9.56s\n",
            "1098:\tlearn: 0.3985143\ttotal: 26.1s\tremaining: 9.54s\n",
            "1099:\tlearn: 0.3984279\ttotal: 26.2s\tremaining: 9.51s\n",
            "1100:\tlearn: 0.3982335\ttotal: 26.2s\tremaining: 9.49s\n",
            "1101:\tlearn: 0.3981453\ttotal: 26.2s\tremaining: 9.46s\n",
            "1102:\tlearn: 0.3979020\ttotal: 26.2s\tremaining: 9.44s\n",
            "1103:\tlearn: 0.3977608\ttotal: 26.2s\tremaining: 9.41s\n",
            "1104:\tlearn: 0.3976699\ttotal: 26.3s\tremaining: 9.39s\n",
            "1105:\tlearn: 0.3975768\ttotal: 26.3s\tremaining: 9.37s\n",
            "1106:\tlearn: 0.3974810\ttotal: 26.3s\tremaining: 9.34s\n",
            "1107:\tlearn: 0.3973531\ttotal: 26.3s\tremaining: 9.32s\n",
            "1108:\tlearn: 0.3972664\ttotal: 26.4s\tremaining: 9.3s\n",
            "1109:\tlearn: 0.3971037\ttotal: 26.4s\tremaining: 9.27s\n",
            "1110:\tlearn: 0.3970146\ttotal: 26.4s\tremaining: 9.25s\n",
            "1111:\tlearn: 0.3969373\ttotal: 26.4s\tremaining: 9.22s\n",
            "1112:\tlearn: 0.3968691\ttotal: 26.5s\tremaining: 9.2s\n",
            "1113:\tlearn: 0.3967794\ttotal: 26.5s\tremaining: 9.17s\n",
            "1114:\tlearn: 0.3966654\ttotal: 26.5s\tremaining: 9.15s\n",
            "1115:\tlearn: 0.3965348\ttotal: 26.5s\tremaining: 9.13s\n",
            "1116:\tlearn: 0.3963987\ttotal: 26.5s\tremaining: 9.1s\n",
            "1117:\tlearn: 0.3962221\ttotal: 26.6s\tremaining: 9.08s\n",
            "1118:\tlearn: 0.3960752\ttotal: 26.6s\tremaining: 9.05s\n",
            "1119:\tlearn: 0.3959273\ttotal: 26.6s\tremaining: 9.03s\n",
            "1120:\tlearn: 0.3958052\ttotal: 26.6s\tremaining: 9.01s\n",
            "1121:\tlearn: 0.3955921\ttotal: 26.7s\tremaining: 8.98s\n",
            "1122:\tlearn: 0.3954879\ttotal: 26.7s\tremaining: 8.96s\n",
            "1123:\tlearn: 0.3953292\ttotal: 26.7s\tremaining: 8.93s\n",
            "1124:\tlearn: 0.3952047\ttotal: 26.7s\tremaining: 8.91s\n",
            "1125:\tlearn: 0.3950620\ttotal: 26.7s\tremaining: 8.88s\n",
            "1126:\tlearn: 0.3949382\ttotal: 26.8s\tremaining: 8.86s\n",
            "1127:\tlearn: 0.3948071\ttotal: 26.8s\tremaining: 8.83s\n",
            "1128:\tlearn: 0.3946507\ttotal: 26.8s\tremaining: 8.81s\n",
            "1129:\tlearn: 0.3945551\ttotal: 26.8s\tremaining: 8.79s\n",
            "1130:\tlearn: 0.3943937\ttotal: 26.9s\tremaining: 8.76s\n",
            "1131:\tlearn: 0.3942294\ttotal: 26.9s\tremaining: 8.74s\n",
            "1132:\tlearn: 0.3940665\ttotal: 26.9s\tremaining: 8.71s\n",
            "1133:\tlearn: 0.3939953\ttotal: 26.9s\tremaining: 8.69s\n",
            "1134:\tlearn: 0.3939020\ttotal: 27s\tremaining: 8.67s\n",
            "1135:\tlearn: 0.3937532\ttotal: 27s\tremaining: 8.64s\n",
            "1136:\tlearn: 0.3936218\ttotal: 27s\tremaining: 8.62s\n",
            "1137:\tlearn: 0.3934838\ttotal: 27s\tremaining: 8.6s\n",
            "1138:\tlearn: 0.3933643\ttotal: 27s\tremaining: 8.57s\n",
            "1139:\tlearn: 0.3932022\ttotal: 27.1s\tremaining: 8.55s\n",
            "1140:\tlearn: 0.3930221\ttotal: 27.1s\tremaining: 8.52s\n",
            "1141:\tlearn: 0.3928519\ttotal: 27.1s\tremaining: 8.5s\n",
            "1142:\tlearn: 0.3926756\ttotal: 27.1s\tremaining: 8.47s\n",
            "1143:\tlearn: 0.3925861\ttotal: 27.2s\tremaining: 8.45s\n",
            "1144:\tlearn: 0.3924623\ttotal: 27.2s\tremaining: 8.43s\n",
            "1145:\tlearn: 0.3923764\ttotal: 27.2s\tremaining: 8.4s\n",
            "1146:\tlearn: 0.3922748\ttotal: 27.2s\tremaining: 8.38s\n",
            "1147:\tlearn: 0.3921311\ttotal: 27.3s\tremaining: 8.36s\n",
            "1148:\tlearn: 0.3920276\ttotal: 27.3s\tremaining: 8.33s\n",
            "1149:\tlearn: 0.3918805\ttotal: 27.3s\tremaining: 8.31s\n",
            "1150:\tlearn: 0.3917488\ttotal: 27.3s\tremaining: 8.28s\n",
            "1151:\tlearn: 0.3916285\ttotal: 27.3s\tremaining: 8.26s\n",
            "1152:\tlearn: 0.3915016\ttotal: 27.4s\tremaining: 8.23s\n",
            "1153:\tlearn: 0.3913835\ttotal: 27.4s\tremaining: 8.21s\n",
            "1154:\tlearn: 0.3912030\ttotal: 27.4s\tremaining: 8.19s\n",
            "1155:\tlearn: 0.3911034\ttotal: 27.4s\tremaining: 8.16s\n",
            "1156:\tlearn: 0.3910342\ttotal: 27.5s\tremaining: 8.14s\n",
            "1157:\tlearn: 0.3909320\ttotal: 27.5s\tremaining: 8.11s\n",
            "1158:\tlearn: 0.3907942\ttotal: 27.5s\tremaining: 8.09s\n",
            "1159:\tlearn: 0.3907068\ttotal: 27.5s\tremaining: 8.06s\n",
            "1160:\tlearn: 0.3906178\ttotal: 27.5s\tremaining: 8.04s\n",
            "1161:\tlearn: 0.3905187\ttotal: 27.6s\tremaining: 8.02s\n",
            "1162:\tlearn: 0.3904082\ttotal: 27.6s\tremaining: 7.99s\n",
            "1163:\tlearn: 0.3902813\ttotal: 27.6s\tremaining: 7.97s\n",
            "1164:\tlearn: 0.3901804\ttotal: 27.6s\tremaining: 7.95s\n",
            "1165:\tlearn: 0.3900478\ttotal: 27.7s\tremaining: 7.92s\n",
            "1166:\tlearn: 0.3899585\ttotal: 27.7s\tremaining: 7.9s\n",
            "1167:\tlearn: 0.3897912\ttotal: 27.7s\tremaining: 7.88s\n",
            "1168:\tlearn: 0.3896091\ttotal: 27.7s\tremaining: 7.85s\n",
            "1169:\tlearn: 0.3894819\ttotal: 27.7s\tremaining: 7.83s\n",
            "1170:\tlearn: 0.3892578\ttotal: 27.8s\tremaining: 7.8s\n",
            "1171:\tlearn: 0.3891544\ttotal: 27.8s\tremaining: 7.78s\n",
            "1172:\tlearn: 0.3890655\ttotal: 27.8s\tremaining: 7.75s\n",
            "1173:\tlearn: 0.3889579\ttotal: 27.8s\tremaining: 7.73s\n",
            "1174:\tlearn: 0.3888663\ttotal: 27.9s\tremaining: 7.71s\n",
            "1175:\tlearn: 0.3887598\ttotal: 27.9s\tremaining: 7.68s\n",
            "1176:\tlearn: 0.3886652\ttotal: 27.9s\tremaining: 7.66s\n",
            "1177:\tlearn: 0.3885346\ttotal: 27.9s\tremaining: 7.64s\n",
            "1178:\tlearn: 0.3884446\ttotal: 28s\tremaining: 7.61s\n",
            "1179:\tlearn: 0.3883965\ttotal: 28s\tremaining: 7.59s\n",
            "1180:\tlearn: 0.3882761\ttotal: 28s\tremaining: 7.56s\n",
            "1181:\tlearn: 0.3881545\ttotal: 28s\tremaining: 7.54s\n",
            "1182:\tlearn: 0.3880360\ttotal: 28.1s\tremaining: 7.52s\n",
            "1183:\tlearn: 0.3879658\ttotal: 28.1s\tremaining: 7.49s\n",
            "1184:\tlearn: 0.3878830\ttotal: 28.1s\tremaining: 7.47s\n",
            "1185:\tlearn: 0.3877624\ttotal: 28.1s\tremaining: 7.45s\n",
            "1186:\tlearn: 0.3876355\ttotal: 28.1s\tremaining: 7.42s\n",
            "1187:\tlearn: 0.3874976\ttotal: 28.2s\tremaining: 7.4s\n",
            "1188:\tlearn: 0.3874230\ttotal: 28.2s\tremaining: 7.37s\n",
            "1189:\tlearn: 0.3873797\ttotal: 28.2s\tremaining: 7.35s\n",
            "1190:\tlearn: 0.3872236\ttotal: 28.2s\tremaining: 7.33s\n",
            "1191:\tlearn: 0.3871439\ttotal: 28.3s\tremaining: 7.3s\n",
            "1192:\tlearn: 0.3870251\ttotal: 28.3s\tremaining: 7.28s\n",
            "1193:\tlearn: 0.3869341\ttotal: 28.3s\tremaining: 7.25s\n",
            "1194:\tlearn: 0.3868335\ttotal: 28.3s\tremaining: 7.23s\n",
            "1195:\tlearn: 0.3867074\ttotal: 28.4s\tremaining: 7.21s\n",
            "1196:\tlearn: 0.3866118\ttotal: 28.4s\tremaining: 7.18s\n",
            "1197:\tlearn: 0.3865097\ttotal: 28.4s\tremaining: 7.16s\n",
            "1198:\tlearn: 0.3864148\ttotal: 28.4s\tremaining: 7.13s\n",
            "1199:\tlearn: 0.3863506\ttotal: 28.4s\tremaining: 7.11s\n",
            "1200:\tlearn: 0.3862647\ttotal: 28.5s\tremaining: 7.09s\n",
            "1201:\tlearn: 0.3861394\ttotal: 28.5s\tremaining: 7.06s\n",
            "1202:\tlearn: 0.3860376\ttotal: 28.5s\tremaining: 7.04s\n",
            "1203:\tlearn: 0.3858982\ttotal: 28.5s\tremaining: 7.01s\n",
            "1204:\tlearn: 0.3857587\ttotal: 28.6s\tremaining: 6.99s\n",
            "1205:\tlearn: 0.3856511\ttotal: 28.6s\tremaining: 6.97s\n",
            "1206:\tlearn: 0.3855461\ttotal: 28.6s\tremaining: 6.94s\n",
            "1207:\tlearn: 0.3854062\ttotal: 28.6s\tremaining: 6.92s\n",
            "1208:\tlearn: 0.3853106\ttotal: 28.7s\tremaining: 6.9s\n",
            "1209:\tlearn: 0.3851788\ttotal: 28.7s\tremaining: 6.87s\n",
            "1210:\tlearn: 0.3850392\ttotal: 28.7s\tremaining: 6.85s\n",
            "1211:\tlearn: 0.3849215\ttotal: 28.7s\tremaining: 6.82s\n",
            "1212:\tlearn: 0.3847832\ttotal: 28.7s\tremaining: 6.8s\n",
            "1213:\tlearn: 0.3846844\ttotal: 28.8s\tremaining: 6.78s\n",
            "1214:\tlearn: 0.3845965\ttotal: 28.8s\tremaining: 6.75s\n",
            "1215:\tlearn: 0.3844909\ttotal: 28.8s\tremaining: 6.73s\n",
            "1216:\tlearn: 0.3843787\ttotal: 28.8s\tremaining: 6.7s\n",
            "1217:\tlearn: 0.3842501\ttotal: 28.9s\tremaining: 6.68s\n",
            "1218:\tlearn: 0.3841503\ttotal: 28.9s\tremaining: 6.66s\n",
            "1219:\tlearn: 0.3839940\ttotal: 28.9s\tremaining: 6.63s\n",
            "1220:\tlearn: 0.3838506\ttotal: 28.9s\tremaining: 6.61s\n",
            "1221:\tlearn: 0.3837721\ttotal: 29s\tremaining: 6.59s\n",
            "1222:\tlearn: 0.3837105\ttotal: 29s\tremaining: 6.56s\n",
            "1223:\tlearn: 0.3835863\ttotal: 29s\tremaining: 6.54s\n",
            "1224:\tlearn: 0.3834635\ttotal: 29s\tremaining: 6.52s\n",
            "1225:\tlearn: 0.3833375\ttotal: 29s\tremaining: 6.49s\n",
            "1226:\tlearn: 0.3832443\ttotal: 29.1s\tremaining: 6.47s\n",
            "1227:\tlearn: 0.3831206\ttotal: 29.1s\tremaining: 6.45s\n",
            "1228:\tlearn: 0.3829776\ttotal: 29.1s\tremaining: 6.42s\n",
            "1229:\tlearn: 0.3828729\ttotal: 29.1s\tremaining: 6.4s\n",
            "1230:\tlearn: 0.3827886\ttotal: 29.2s\tremaining: 6.37s\n",
            "1231:\tlearn: 0.3827033\ttotal: 29.2s\tremaining: 6.35s\n",
            "1232:\tlearn: 0.3826067\ttotal: 29.2s\tremaining: 6.33s\n",
            "1233:\tlearn: 0.3824817\ttotal: 29.2s\tremaining: 6.3s\n",
            "1234:\tlearn: 0.3824020\ttotal: 29.3s\tremaining: 6.28s\n",
            "1235:\tlearn: 0.3822962\ttotal: 29.3s\tremaining: 6.25s\n",
            "1236:\tlearn: 0.3822177\ttotal: 29.3s\tremaining: 6.23s\n",
            "1237:\tlearn: 0.3821492\ttotal: 29.3s\tremaining: 6.21s\n",
            "1238:\tlearn: 0.3820037\ttotal: 29.4s\tremaining: 6.18s\n",
            "1239:\tlearn: 0.3818903\ttotal: 29.4s\tremaining: 6.16s\n",
            "1240:\tlearn: 0.3817789\ttotal: 29.4s\tremaining: 6.14s\n",
            "1241:\tlearn: 0.3816120\ttotal: 29.4s\tremaining: 6.11s\n",
            "1242:\tlearn: 0.3815185\ttotal: 29.4s\tremaining: 6.09s\n",
            "1243:\tlearn: 0.3814174\ttotal: 29.5s\tremaining: 6.06s\n",
            "1244:\tlearn: 0.3813475\ttotal: 29.5s\tremaining: 6.04s\n",
            "1245:\tlearn: 0.3812597\ttotal: 29.5s\tremaining: 6.02s\n",
            "1246:\tlearn: 0.3810889\ttotal: 29.5s\tremaining: 5.99s\n",
            "1247:\tlearn: 0.3809744\ttotal: 29.6s\tremaining: 5.97s\n",
            "1248:\tlearn: 0.3808866\ttotal: 29.6s\tremaining: 5.95s\n",
            "1249:\tlearn: 0.3808140\ttotal: 29.6s\tremaining: 5.92s\n",
            "1250:\tlearn: 0.3807125\ttotal: 29.6s\tremaining: 5.9s\n",
            "1251:\tlearn: 0.3805434\ttotal: 29.7s\tremaining: 5.87s\n",
            "1252:\tlearn: 0.3804091\ttotal: 29.7s\tremaining: 5.85s\n",
            "1253:\tlearn: 0.3803365\ttotal: 29.7s\tremaining: 5.83s\n",
            "1254:\tlearn: 0.3802438\ttotal: 29.7s\tremaining: 5.8s\n",
            "1255:\tlearn: 0.3801362\ttotal: 29.7s\tremaining: 5.78s\n",
            "1256:\tlearn: 0.3800542\ttotal: 29.8s\tremaining: 5.75s\n",
            "1257:\tlearn: 0.3799700\ttotal: 29.8s\tremaining: 5.73s\n",
            "1258:\tlearn: 0.3798500\ttotal: 29.8s\tremaining: 5.71s\n",
            "1259:\tlearn: 0.3797648\ttotal: 29.8s\tremaining: 5.68s\n",
            "1260:\tlearn: 0.3796679\ttotal: 29.9s\tremaining: 5.66s\n",
            "1261:\tlearn: 0.3795358\ttotal: 29.9s\tremaining: 5.64s\n",
            "1262:\tlearn: 0.3794751\ttotal: 29.9s\tremaining: 5.61s\n",
            "1263:\tlearn: 0.3793765\ttotal: 29.9s\tremaining: 5.59s\n",
            "1264:\tlearn: 0.3792785\ttotal: 30s\tremaining: 5.57s\n",
            "1265:\tlearn: 0.3791187\ttotal: 30s\tremaining: 5.54s\n",
            "1266:\tlearn: 0.3790204\ttotal: 30s\tremaining: 5.52s\n",
            "1267:\tlearn: 0.3789049\ttotal: 30s\tremaining: 5.5s\n",
            "1268:\tlearn: 0.3788000\ttotal: 30.1s\tremaining: 5.47s\n",
            "1269:\tlearn: 0.3786324\ttotal: 30.1s\tremaining: 5.45s\n",
            "1270:\tlearn: 0.3785292\ttotal: 30.1s\tremaining: 5.42s\n",
            "1271:\tlearn: 0.3783622\ttotal: 30.1s\tremaining: 5.4s\n",
            "1272:\tlearn: 0.3782358\ttotal: 30.2s\tremaining: 5.38s\n",
            "1273:\tlearn: 0.3781499\ttotal: 30.2s\tremaining: 5.35s\n",
            "1274:\tlearn: 0.3780828\ttotal: 30.2s\tremaining: 5.33s\n",
            "1275:\tlearn: 0.3780055\ttotal: 30.2s\tremaining: 5.3s\n",
            "1276:\tlearn: 0.3778940\ttotal: 30.2s\tremaining: 5.28s\n",
            "1277:\tlearn: 0.3777896\ttotal: 30.3s\tremaining: 5.26s\n",
            "1278:\tlearn: 0.3777055\ttotal: 30.3s\tremaining: 5.23s\n",
            "1279:\tlearn: 0.3775858\ttotal: 30.3s\tremaining: 5.21s\n",
            "1280:\tlearn: 0.3775370\ttotal: 30.3s\tremaining: 5.19s\n",
            "1281:\tlearn: 0.3774188\ttotal: 30.4s\tremaining: 5.16s\n",
            "1282:\tlearn: 0.3772933\ttotal: 30.4s\tremaining: 5.14s\n",
            "1283:\tlearn: 0.3772249\ttotal: 30.4s\tremaining: 5.12s\n",
            "1284:\tlearn: 0.3771319\ttotal: 30.4s\tremaining: 5.09s\n",
            "1285:\tlearn: 0.3770361\ttotal: 30.5s\tremaining: 5.07s\n",
            "1286:\tlearn: 0.3769518\ttotal: 30.5s\tremaining: 5.04s\n",
            "1287:\tlearn: 0.3768491\ttotal: 30.5s\tremaining: 5.02s\n",
            "1288:\tlearn: 0.3766283\ttotal: 30.5s\tremaining: 5s\n",
            "1289:\tlearn: 0.3765478\ttotal: 30.5s\tremaining: 4.97s\n",
            "1290:\tlearn: 0.3764280\ttotal: 30.6s\tremaining: 4.95s\n",
            "1291:\tlearn: 0.3763553\ttotal: 30.6s\tremaining: 4.93s\n",
            "1292:\tlearn: 0.3762153\ttotal: 30.6s\tremaining: 4.9s\n",
            "1293:\tlearn: 0.3761485\ttotal: 30.6s\tremaining: 4.88s\n",
            "1294:\tlearn: 0.3759966\ttotal: 30.7s\tremaining: 4.85s\n",
            "1295:\tlearn: 0.3759559\ttotal: 30.7s\tremaining: 4.83s\n",
            "1296:\tlearn: 0.3757833\ttotal: 30.7s\tremaining: 4.81s\n",
            "1297:\tlearn: 0.3756296\ttotal: 30.7s\tremaining: 4.78s\n",
            "1298:\tlearn: 0.3755468\ttotal: 30.8s\tremaining: 4.76s\n",
            "1299:\tlearn: 0.3754392\ttotal: 30.8s\tremaining: 4.74s\n",
            "1300:\tlearn: 0.3753392\ttotal: 30.8s\tremaining: 4.71s\n",
            "1301:\tlearn: 0.3753046\ttotal: 30.8s\tremaining: 4.69s\n",
            "1302:\tlearn: 0.3751847\ttotal: 30.8s\tremaining: 4.66s\n",
            "1303:\tlearn: 0.3751080\ttotal: 30.9s\tremaining: 4.64s\n",
            "1304:\tlearn: 0.3750075\ttotal: 30.9s\tremaining: 4.62s\n",
            "1305:\tlearn: 0.3748979\ttotal: 30.9s\tremaining: 4.59s\n",
            "1306:\tlearn: 0.3747950\ttotal: 30.9s\tremaining: 4.57s\n",
            "1307:\tlearn: 0.3746991\ttotal: 31s\tremaining: 4.54s\n",
            "1308:\tlearn: 0.3746082\ttotal: 31s\tremaining: 4.52s\n",
            "1309:\tlearn: 0.3745034\ttotal: 31s\tremaining: 4.5s\n",
            "1310:\tlearn: 0.3743932\ttotal: 31s\tremaining: 4.47s\n",
            "1311:\tlearn: 0.3742753\ttotal: 31.1s\tremaining: 4.45s\n",
            "1312:\tlearn: 0.3742006\ttotal: 31.1s\tremaining: 4.43s\n",
            "1313:\tlearn: 0.3740662\ttotal: 31.1s\tremaining: 4.4s\n",
            "1314:\tlearn: 0.3739652\ttotal: 31.1s\tremaining: 4.38s\n",
            "1315:\tlearn: 0.3738480\ttotal: 31.2s\tremaining: 4.36s\n",
            "1316:\tlearn: 0.3737735\ttotal: 31.2s\tremaining: 4.33s\n",
            "1317:\tlearn: 0.3736956\ttotal: 31.2s\tremaining: 4.31s\n",
            "1318:\tlearn: 0.3736198\ttotal: 31.2s\tremaining: 4.29s\n",
            "1319:\tlearn: 0.3735828\ttotal: 31.3s\tremaining: 4.26s\n",
            "1320:\tlearn: 0.3735087\ttotal: 31.3s\tremaining: 4.24s\n",
            "1321:\tlearn: 0.3733359\ttotal: 31.3s\tremaining: 4.21s\n",
            "1322:\tlearn: 0.3732121\ttotal: 31.3s\tremaining: 4.19s\n",
            "1323:\tlearn: 0.3730207\ttotal: 31.3s\tremaining: 4.17s\n",
            "1324:\tlearn: 0.3729793\ttotal: 31.4s\tremaining: 4.14s\n",
            "1325:\tlearn: 0.3728776\ttotal: 31.4s\tremaining: 4.12s\n",
            "1326:\tlearn: 0.3727417\ttotal: 31.4s\tremaining: 4.09s\n",
            "1327:\tlearn: 0.3726042\ttotal: 31.4s\tremaining: 4.07s\n",
            "1328:\tlearn: 0.3725124\ttotal: 31.5s\tremaining: 4.05s\n",
            "1329:\tlearn: 0.3723629\ttotal: 31.5s\tremaining: 4.02s\n",
            "1330:\tlearn: 0.3722427\ttotal: 31.5s\tremaining: 4s\n",
            "1331:\tlearn: 0.3721598\ttotal: 31.5s\tremaining: 3.98s\n",
            "1332:\tlearn: 0.3720609\ttotal: 31.5s\tremaining: 3.95s\n",
            "1333:\tlearn: 0.3719532\ttotal: 31.6s\tremaining: 3.93s\n",
            "1334:\tlearn: 0.3718037\ttotal: 31.6s\tremaining: 3.9s\n",
            "1335:\tlearn: 0.3716546\ttotal: 31.6s\tremaining: 3.88s\n",
            "1336:\tlearn: 0.3715398\ttotal: 31.6s\tremaining: 3.86s\n",
            "1337:\tlearn: 0.3714115\ttotal: 31.7s\tremaining: 3.83s\n",
            "1338:\tlearn: 0.3713002\ttotal: 31.7s\tremaining: 3.81s\n",
            "1339:\tlearn: 0.3712366\ttotal: 31.7s\tremaining: 3.79s\n",
            "1340:\tlearn: 0.3710571\ttotal: 31.7s\tremaining: 3.76s\n",
            "1341:\tlearn: 0.3709835\ttotal: 31.7s\tremaining: 3.74s\n",
            "1342:\tlearn: 0.3708781\ttotal: 31.8s\tremaining: 3.71s\n",
            "1343:\tlearn: 0.3707882\ttotal: 31.8s\tremaining: 3.69s\n",
            "1344:\tlearn: 0.3707384\ttotal: 31.8s\tremaining: 3.67s\n",
            "1345:\tlearn: 0.3706391\ttotal: 31.8s\tremaining: 3.64s\n",
            "1346:\tlearn: 0.3705719\ttotal: 31.9s\tremaining: 3.62s\n",
            "1347:\tlearn: 0.3704841\ttotal: 31.9s\tremaining: 3.6s\n",
            "1348:\tlearn: 0.3703754\ttotal: 31.9s\tremaining: 3.57s\n",
            "1349:\tlearn: 0.3702700\ttotal: 31.9s\tremaining: 3.55s\n",
            "1350:\tlearn: 0.3701269\ttotal: 32s\tremaining: 3.53s\n",
            "1351:\tlearn: 0.3700323\ttotal: 32s\tremaining: 3.5s\n",
            "1352:\tlearn: 0.3699621\ttotal: 32s\tremaining: 3.48s\n",
            "1353:\tlearn: 0.3698564\ttotal: 32.1s\tremaining: 3.46s\n",
            "1354:\tlearn: 0.3696953\ttotal: 32.1s\tremaining: 3.43s\n",
            "1355:\tlearn: 0.3696193\ttotal: 32.1s\tremaining: 3.41s\n",
            "1356:\tlearn: 0.3695397\ttotal: 32.1s\tremaining: 3.38s\n",
            "1357:\tlearn: 0.3694210\ttotal: 32.1s\tremaining: 3.36s\n",
            "1358:\tlearn: 0.3693318\ttotal: 32.2s\tremaining: 3.34s\n",
            "1359:\tlearn: 0.3692450\ttotal: 32.2s\tremaining: 3.31s\n",
            "1360:\tlearn: 0.3691270\ttotal: 32.2s\tremaining: 3.29s\n",
            "1361:\tlearn: 0.3690959\ttotal: 32.2s\tremaining: 3.27s\n",
            "1362:\tlearn: 0.3689819\ttotal: 32.3s\tremaining: 3.24s\n",
            "1363:\tlearn: 0.3689028\ttotal: 32.3s\tremaining: 3.22s\n",
            "1364:\tlearn: 0.3687717\ttotal: 32.3s\tremaining: 3.19s\n",
            "1365:\tlearn: 0.3686273\ttotal: 32.3s\tremaining: 3.17s\n",
            "1366:\tlearn: 0.3684578\ttotal: 32.4s\tremaining: 3.15s\n",
            "1367:\tlearn: 0.3683799\ttotal: 32.4s\tremaining: 3.12s\n",
            "1368:\tlearn: 0.3683105\ttotal: 32.4s\tremaining: 3.1s\n",
            "1369:\tlearn: 0.3682490\ttotal: 32.4s\tremaining: 3.08s\n",
            "1370:\tlearn: 0.3681361\ttotal: 32.4s\tremaining: 3.05s\n",
            "1371:\tlearn: 0.3680531\ttotal: 32.5s\tremaining: 3.03s\n",
            "1372:\tlearn: 0.3679469\ttotal: 32.5s\tremaining: 3s\n",
            "1373:\tlearn: 0.3678418\ttotal: 32.5s\tremaining: 2.98s\n",
            "1374:\tlearn: 0.3676908\ttotal: 32.5s\tremaining: 2.96s\n",
            "1375:\tlearn: 0.3676397\ttotal: 32.6s\tremaining: 2.93s\n",
            "1376:\tlearn: 0.3675290\ttotal: 32.6s\tremaining: 2.91s\n",
            "1377:\tlearn: 0.3674516\ttotal: 32.6s\tremaining: 2.89s\n",
            "1378:\tlearn: 0.3673680\ttotal: 32.6s\tremaining: 2.86s\n",
            "1379:\tlearn: 0.3672331\ttotal: 32.6s\tremaining: 2.84s\n",
            "1380:\tlearn: 0.3671572\ttotal: 32.7s\tremaining: 2.81s\n",
            "1381:\tlearn: 0.3670846\ttotal: 32.7s\tremaining: 2.79s\n",
            "1382:\tlearn: 0.3669909\ttotal: 32.7s\tremaining: 2.77s\n",
            "1383:\tlearn: 0.3669560\ttotal: 32.8s\tremaining: 2.75s\n",
            "1384:\tlearn: 0.3668429\ttotal: 32.8s\tremaining: 2.72s\n",
            "1385:\tlearn: 0.3667831\ttotal: 32.8s\tremaining: 2.7s\n",
            "1386:\tlearn: 0.3667005\ttotal: 32.8s\tremaining: 2.67s\n",
            "1387:\tlearn: 0.3665770\ttotal: 32.9s\tremaining: 2.65s\n",
            "1388:\tlearn: 0.3664590\ttotal: 32.9s\tremaining: 2.63s\n",
            "1389:\tlearn: 0.3663280\ttotal: 32.9s\tremaining: 2.6s\n",
            "1390:\tlearn: 0.3661971\ttotal: 32.9s\tremaining: 2.58s\n",
            "1391:\tlearn: 0.3661199\ttotal: 33s\tremaining: 2.56s\n",
            "1392:\tlearn: 0.3660003\ttotal: 33s\tremaining: 2.53s\n",
            "1393:\tlearn: 0.3658861\ttotal: 33s\tremaining: 2.51s\n",
            "1394:\tlearn: 0.3658083\ttotal: 33s\tremaining: 2.48s\n",
            "1395:\tlearn: 0.3656461\ttotal: 33s\tremaining: 2.46s\n",
            "1396:\tlearn: 0.3655305\ttotal: 33.1s\tremaining: 2.44s\n",
            "1397:\tlearn: 0.3654414\ttotal: 33.1s\tremaining: 2.42s\n",
            "1398:\tlearn: 0.3652758\ttotal: 33.1s\tremaining: 2.39s\n",
            "1399:\tlearn: 0.3651534\ttotal: 33.1s\tremaining: 2.37s\n",
            "1400:\tlearn: 0.3650264\ttotal: 33.2s\tremaining: 2.34s\n",
            "1401:\tlearn: 0.3649630\ttotal: 33.2s\tremaining: 2.32s\n",
            "1402:\tlearn: 0.3648239\ttotal: 33.2s\tremaining: 2.3s\n",
            "1403:\tlearn: 0.3647416\ttotal: 33.2s\tremaining: 2.27s\n",
            "1404:\tlearn: 0.3646858\ttotal: 33.3s\tremaining: 2.25s\n",
            "1405:\tlearn: 0.3645759\ttotal: 33.3s\tremaining: 2.23s\n",
            "1406:\tlearn: 0.3645462\ttotal: 33.3s\tremaining: 2.2s\n",
            "1407:\tlearn: 0.3644170\ttotal: 33.3s\tremaining: 2.18s\n",
            "1408:\tlearn: 0.3642548\ttotal: 33.4s\tremaining: 2.15s\n",
            "1409:\tlearn: 0.3641476\ttotal: 33.4s\tremaining: 2.13s\n",
            "1410:\tlearn: 0.3640141\ttotal: 33.4s\tremaining: 2.11s\n",
            "1411:\tlearn: 0.3639042\ttotal: 33.4s\tremaining: 2.08s\n",
            "1412:\tlearn: 0.3638334\ttotal: 33.4s\tremaining: 2.06s\n",
            "1413:\tlearn: 0.3637300\ttotal: 33.5s\tremaining: 2.04s\n",
            "1414:\tlearn: 0.3636670\ttotal: 33.5s\tremaining: 2.01s\n",
            "1415:\tlearn: 0.3635522\ttotal: 33.5s\tremaining: 1.99s\n",
            "1416:\tlearn: 0.3634837\ttotal: 33.5s\tremaining: 1.96s\n",
            "1417:\tlearn: 0.3634088\ttotal: 33.6s\tremaining: 1.94s\n",
            "1418:\tlearn: 0.3633478\ttotal: 33.6s\tremaining: 1.92s\n",
            "1419:\tlearn: 0.3632963\ttotal: 33.6s\tremaining: 1.89s\n",
            "1420:\tlearn: 0.3632126\ttotal: 33.6s\tremaining: 1.87s\n",
            "1421:\tlearn: 0.3631470\ttotal: 33.7s\tremaining: 1.84s\n",
            "1422:\tlearn: 0.3630058\ttotal: 33.7s\tremaining: 1.82s\n",
            "1423:\tlearn: 0.3629353\ttotal: 33.7s\tremaining: 1.8s\n",
            "1424:\tlearn: 0.3627933\ttotal: 33.7s\tremaining: 1.77s\n",
            "1425:\tlearn: 0.3626494\ttotal: 33.7s\tremaining: 1.75s\n",
            "1426:\tlearn: 0.3625327\ttotal: 33.8s\tremaining: 1.73s\n",
            "1427:\tlearn: 0.3624566\ttotal: 33.8s\tremaining: 1.7s\n",
            "1428:\tlearn: 0.3623386\ttotal: 33.8s\tremaining: 1.68s\n",
            "1429:\tlearn: 0.3622161\ttotal: 33.8s\tremaining: 1.66s\n",
            "1430:\tlearn: 0.3621035\ttotal: 33.9s\tremaining: 1.63s\n",
            "1431:\tlearn: 0.3619842\ttotal: 33.9s\tremaining: 1.61s\n",
            "1432:\tlearn: 0.3619542\ttotal: 33.9s\tremaining: 1.58s\n",
            "1433:\tlearn: 0.3618322\ttotal: 33.9s\tremaining: 1.56s\n",
            "1434:\tlearn: 0.3617177\ttotal: 34s\tremaining: 1.54s\n",
            "1435:\tlearn: 0.3616541\ttotal: 34s\tremaining: 1.51s\n",
            "1436:\tlearn: 0.3616049\ttotal: 34s\tremaining: 1.49s\n",
            "1437:\tlearn: 0.3614938\ttotal: 34s\tremaining: 1.47s\n",
            "1438:\tlearn: 0.3614145\ttotal: 34.1s\tremaining: 1.44s\n",
            "1439:\tlearn: 0.3613318\ttotal: 34.1s\tremaining: 1.42s\n",
            "1440:\tlearn: 0.3612499\ttotal: 34.1s\tremaining: 1.4s\n",
            "1441:\tlearn: 0.3611775\ttotal: 34.1s\tremaining: 1.37s\n",
            "1442:\tlearn: 0.3610782\ttotal: 34.2s\tremaining: 1.35s\n",
            "1443:\tlearn: 0.3609749\ttotal: 34.2s\tremaining: 1.32s\n",
            "1444:\tlearn: 0.3608615\ttotal: 34.2s\tremaining: 1.3s\n",
            "1445:\tlearn: 0.3608128\ttotal: 34.2s\tremaining: 1.28s\n",
            "1446:\tlearn: 0.3606544\ttotal: 34.2s\tremaining: 1.25s\n",
            "1447:\tlearn: 0.3605597\ttotal: 34.3s\tremaining: 1.23s\n",
            "1448:\tlearn: 0.3605042\ttotal: 34.3s\tremaining: 1.21s\n",
            "1449:\tlearn: 0.3603962\ttotal: 34.3s\tremaining: 1.18s\n",
            "1450:\tlearn: 0.3602610\ttotal: 34.3s\tremaining: 1.16s\n",
            "1451:\tlearn: 0.3601888\ttotal: 34.4s\tremaining: 1.14s\n",
            "1452:\tlearn: 0.3601027\ttotal: 34.4s\tremaining: 1.11s\n",
            "1453:\tlearn: 0.3600144\ttotal: 34.4s\tremaining: 1.09s\n",
            "1454:\tlearn: 0.3599127\ttotal: 34.4s\tremaining: 1.06s\n",
            "1455:\tlearn: 0.3598478\ttotal: 34.4s\tremaining: 1.04s\n",
            "1456:\tlearn: 0.3597749\ttotal: 34.5s\tremaining: 1.02s\n",
            "1457:\tlearn: 0.3596940\ttotal: 34.5s\tremaining: 994ms\n",
            "1458:\tlearn: 0.3595983\ttotal: 34.5s\tremaining: 970ms\n",
            "1459:\tlearn: 0.3595293\ttotal: 34.5s\tremaining: 946ms\n",
            "1460:\tlearn: 0.3594438\ttotal: 34.6s\tremaining: 923ms\n",
            "1461:\tlearn: 0.3593712\ttotal: 34.6s\tremaining: 899ms\n",
            "1462:\tlearn: 0.3593120\ttotal: 34.6s\tremaining: 875ms\n",
            "1463:\tlearn: 0.3592131\ttotal: 34.6s\tremaining: 852ms\n",
            "1464:\tlearn: 0.3591098\ttotal: 34.7s\tremaining: 828ms\n",
            "1465:\tlearn: 0.3590410\ttotal: 34.7s\tremaining: 804ms\n",
            "1466:\tlearn: 0.3589428\ttotal: 34.7s\tremaining: 781ms\n",
            "1467:\tlearn: 0.3588898\ttotal: 34.7s\tremaining: 757ms\n",
            "1468:\tlearn: 0.3588299\ttotal: 34.7s\tremaining: 733ms\n",
            "1469:\tlearn: 0.3587431\ttotal: 34.8s\tremaining: 710ms\n",
            "1470:\tlearn: 0.3586403\ttotal: 34.8s\tremaining: 686ms\n",
            "1471:\tlearn: 0.3585131\ttotal: 34.8s\tremaining: 662ms\n",
            "1472:\tlearn: 0.3583938\ttotal: 34.8s\tremaining: 639ms\n",
            "1473:\tlearn: 0.3582565\ttotal: 34.9s\tremaining: 615ms\n",
            "1474:\tlearn: 0.3581349\ttotal: 34.9s\tremaining: 591ms\n",
            "1475:\tlearn: 0.3580414\ttotal: 34.9s\tremaining: 568ms\n",
            "1476:\tlearn: 0.3579455\ttotal: 34.9s\tremaining: 544ms\n",
            "1477:\tlearn: 0.3578151\ttotal: 35s\tremaining: 520ms\n",
            "1478:\tlearn: 0.3577109\ttotal: 35s\tremaining: 497ms\n",
            "1479:\tlearn: 0.3575801\ttotal: 35s\tremaining: 473ms\n",
            "1480:\tlearn: 0.3574972\ttotal: 35s\tremaining: 449ms\n",
            "1481:\tlearn: 0.3574009\ttotal: 35.1s\tremaining: 426ms\n",
            "1482:\tlearn: 0.3573076\ttotal: 35.1s\tremaining: 402ms\n",
            "1483:\tlearn: 0.3572537\ttotal: 35.1s\tremaining: 379ms\n",
            "1484:\tlearn: 0.3572220\ttotal: 35.1s\tremaining: 355ms\n",
            "1485:\tlearn: 0.3571115\ttotal: 35.2s\tremaining: 331ms\n",
            "1486:\tlearn: 0.3570007\ttotal: 35.2s\tremaining: 308ms\n",
            "1487:\tlearn: 0.3569115\ttotal: 35.2s\tremaining: 284ms\n",
            "1488:\tlearn: 0.3568389\ttotal: 35.2s\tremaining: 260ms\n",
            "1489:\tlearn: 0.3567769\ttotal: 35.3s\tremaining: 237ms\n",
            "1490:\tlearn: 0.3566560\ttotal: 35.3s\tremaining: 213ms\n",
            "1491:\tlearn: 0.3565714\ttotal: 35.3s\tremaining: 189ms\n",
            "1492:\tlearn: 0.3565036\ttotal: 35.3s\tremaining: 166ms\n",
            "1493:\tlearn: 0.3563967\ttotal: 35.3s\tremaining: 142ms\n",
            "1494:\tlearn: 0.3562680\ttotal: 35.4s\tremaining: 118ms\n",
            "1495:\tlearn: 0.3561967\ttotal: 35.4s\tremaining: 94.6ms\n",
            "1496:\tlearn: 0.3561297\ttotal: 35.4s\tremaining: 71ms\n",
            "1497:\tlearn: 0.3560309\ttotal: 35.4s\tremaining: 47.3ms\n",
            "1498:\tlearn: 0.3559203\ttotal: 35.5s\tremaining: 23.7ms\n",
            "1499:\tlearn: 0.3558360\ttotal: 35.5s\tremaining: 0us\n",
            "f1-score:   0.801\n",
            "Confusion matrix, without normalization\n"
          ]
        },
        {
          "output_type": "display_data",
          "data": {
            "text/plain": [
              "<Figure size 432x288 with 2 Axes>"
            ],
            "image/png": "[encoded data removed]"
          },
          "metadata": {
            "needs_background": "light"
          }
        }
      ]
    },
    {
      "cell_type": "markdown",
      "source": [
        "Вывод: Использование stemming токинезатора и LogRegression дают наилучний результат. С лемминг токинезатором результаты по всем моделям хуже."
      ],
      "metadata": {
        "id": "IjyV2A0yxZKR"
      }
    },
    {
      "cell_type": "markdown",
      "source": [
        "## Итоги"
      ],
      "metadata": {
        "id": "cBg-PMJ5zQSp"
      }
    },
    {
      "cell_type": "code",
      "source": [
        "df_test = pd.read_csv(\"./dataset/test.tsv\", sep='\\t')"
      ],
      "metadata": {
        "id": "JmezCnvF0JvL"
      },
      "execution_count": 46,
      "outputs": []
    },
    {
      "cell_type": "code",
      "source": [
        "df_test.head(3)"
      ],
      "metadata": {
        "colab": {
          "base_uri": "https://localhost:8080/",
          "height": 143
        },
        "id": "W8q11Rc10JyO",
        "outputId": "89bdcad2-a3bc-4fdd-e0a8-289760127272"
      },
      "execution_count": 47,
      "outputs": [
        {
          "output_type": "execute_result",
          "data": {
            "text/plain": [
              "                                               title  is_fake\n",
              "0  Роскомнадзор представил реестр сочетаний цвето...        0\n",
              "1  Ночью под Минском на президентской горе Белара...        0\n",
              "2  Бывший спичрайтер Юрия Лозы рассказал о трудно...        0"
            ],
            "text/html": [
              "\n",
              "  <div id=\"df-1e381ed0-2f0c-43ae-a974-72a7efe05a59\">\n",
              "    <div class=\"colab-df-container\">\n",
              "      <div>\n",
              "<style scoped>\n",
              "    .dataframe tbody tr th:only-of-type {\n",
              "        vertical-align: middle;\n",
              "    }\n",
              "\n",
              "    .dataframe tbody tr th {\n",
              "        vertical-align: top;\n",
              "    }\n",
              "\n",
              "    .dataframe thead th {\n",
              "        text-align: right;\n",
              "    }\n",
              "</style>\n",
              "<table border=\"1\" class=\"dataframe\">\n",
              "  <thead>\n",
              "    <tr style=\"text-align: right;\">\n",
              "      <th></th>\n",
              "      <th>title</th>\n",
              "      <th>is_fake</th>\n",
              "    </tr>\n",
              "  </thead>\n",
              "  <tbody>\n",
              "    <tr>\n",
              "      <th>0</th>\n",
              "      <td>Роскомнадзор представил реестр сочетаний цвето...</td>\n",
              "      <td>0</td>\n",
              "    </tr>\n",
              "    <tr>\n",
              "      <th>1</th>\n",
              "      <td>Ночью под Минском на президентской горе Белара...</td>\n",
              "      <td>0</td>\n",
              "    </tr>\n",
              "    <tr>\n",
              "      <th>2</th>\n",
              "      <td>Бывший спичрайтер Юрия Лозы рассказал о трудно...</td>\n",
              "      <td>0</td>\n",
              "    </tr>\n",
              "  </tbody>\n",
              "</table>\n",
              "</div>\n",
              "      <button class=\"colab-df-convert\" onclick=\"convertToInteractive('df-1e381ed0-2f0c-43ae-a974-72a7efe05a59')\"\n",
              "              title=\"Convert this dataframe to an interactive table.\"\n",
              "              style=\"display:none;\">\n",
              "        \n",
              "  <svg xmlns=\"http://www.w3.org/2000/svg\" height=\"24px\"viewBox=\"0 0 24 24\"\n",
              "       width=\"24px\">\n",
              "    <path d=\"M0 0h24v24H0V0z\" fill=\"none\"/>\n",
              "    <path d=\"M18.56 5.44l.94 2.06.94-2.06 2.06-.94-2.06-.94-.94-2.06-.94 2.06-2.06.94zm-11 1L8.5 8.5l.94-2.06 2.06-.94-2.06-.94L8.5 2.5l-.94 2.06-2.06.94zm10 10l.94 2.06.94-2.06 2.06-.94-2.06-.94-.94-2.06-.94 2.06-2.06.94z\"/><path d=\"M17.41 7.96l-1.37-1.37c-.4-.4-.92-.59-1.43-.59-.52 0-1.04.2-1.43.59L10.3 9.45l-7.72 7.72c-.78.78-.78 2.05 0 2.83L4 21.41c.39.39.9.59 1.41.59.51 0 1.02-.2 1.41-.59l7.78-7.78 2.81-2.81c.8-.78.8-2.07 0-2.86zM5.41 20L4 18.59l7.72-7.72 1.47 1.35L5.41 20z\"/>\n",
              "  </svg>\n",
              "      </button>\n",
              "      \n",
              "  <style>\n",
              "    .colab-df-container {\n",
              "      display:flex;\n",
              "      flex-wrap:wrap;\n",
              "      gap: 12px;\n",
              "    }\n",
              "\n",
              "    .colab-df-convert {\n",
              "      background-color: #E8F0FE;\n",
              "      border: none;\n",
              "      border-radius: 50%;\n",
              "      cursor: pointer;\n",
              "      display: none;\n",
              "      fill: #1967D2;\n",
              "      height: 32px;\n",
              "      padding: 0 0 0 0;\n",
              "      width: 32px;\n",
              "    }\n",
              "\n",
              "    .colab-df-convert:hover {\n",
              "      background-color: #E2EBFA;\n",
              "      box-shadow: 0px 1px 2px rgba(60, 64, 67, 0.3), 0px 1px 3px 1px rgba(60, 64, 67, 0.15);\n",
              "      fill: #174EA6;\n",
              "    }\n",
              "\n",
              "    [theme=dark] .colab-df-convert {\n",
              "      background-color: #3B4455;\n",
              "      fill: #D2E3FC;\n",
              "    }\n",
              "\n",
              "    [theme=dark] .colab-df-convert:hover {\n",
              "      background-color: #434B5C;\n",
              "      box-shadow: 0px 1px 3px 1px rgba(0, 0, 0, 0.15);\n",
              "      filter: drop-shadow(0px 1px 2px rgba(0, 0, 0, 0.3));\n",
              "      fill: #FFFFFF;\n",
              "    }\n",
              "  </style>\n",
              "\n",
              "      <script>\n",
              "        const buttonEl =\n",
              "          document.querySelector('#df-1e381ed0-2f0c-43ae-a974-72a7efe05a59 button.colab-df-convert');\n",
              "        buttonEl.style.display =\n",
              "          google.colab.kernel.accessAllowed ? 'block' : 'none';\n",
              "\n",
              "        async function convertToInteractive(key) {\n",
              "          const element = document.querySelector('#df-1e381ed0-2f0c-43ae-a974-72a7efe05a59');\n",
              "          const dataTable =\n",
              "            await google.colab.kernel.invokeFunction('convertToInteractive',\n",
              "                                                     [key], {});\n",
              "          if (!dataTable) return;\n",
              "\n",
              "          const docLinkHtml = 'Like what you see? Visit the ' +\n",
              "            '<a target=\"_blank\" href=https://colab.research.google.com/notebooks/data_table.ipynb>data table notebook</a>'\n",
              "            + ' to learn more about interactive tables.';\n",
              "          element.innerHTML = '';\n",
              "          dataTable['output_type'] = 'display_data';\n",
              "          await google.colab.output.renderOutput(dataTable, element);\n",
              "          const docLink = document.createElement('div');\n",
              "          docLink.innerHTML = docLinkHtml;\n",
              "          element.appendChild(docLink);\n",
              "        }\n",
              "      </script>\n",
              "    </div>\n",
              "  </div>\n",
              "  "
            ]
          },
          "metadata": {},
          "execution_count": 47
        }
      ]
    },
    {
      "cell_type": "code",
      "source": [
        "df_test.shape"
      ],
      "metadata": {
        "colab": {
          "base_uri": "https://localhost:8080/"
        },
        "id": "9zDj_Rd90J1X",
        "outputId": "d04f06bb-8529-4fae-92eb-037340c12413"
      },
      "execution_count": 48,
      "outputs": [
        {
          "output_type": "execute_result",
          "data": {
            "text/plain": [
              "(1000, 2)"
            ]
          },
          "metadata": {},
          "execution_count": 48
        }
      ]
    },
    {
      "cell_type": "code",
      "source": [
        "test_data = df_test.title.copy().to_numpy()"
      ],
      "metadata": {
        "id": "RybCLNVj0v5K"
      },
      "execution_count": 49,
      "outputs": []
    },
    {
      "cell_type": "code",
      "source": [
        "corpus_train = Stemming_tokenizer.get_tokens(train_data)\n",
        "corpus_test = Stemming_tokenizer.get_tokens(test_data)"
      ],
      "metadata": {
        "id": "jcYXT325zuhs"
      },
      "execution_count": 50,
      "outputs": []
    },
    {
      "cell_type": "code",
      "source": [
        "from sklearn.feature_extraction.text import TfidfVectorizer\n",
        "tfidf_v=TfidfVectorizer(max_features=7500,ngram_range=(1,3))\n",
        "X_train = tfidf_v.fit_transform(corpus_train).toarray()\n",
        "y_train = df.is_fake.copy().to_numpy()\n",
        "X_test = tfidf_v.fit_transform(corpus_test).toarray()"
      ],
      "metadata": {
        "id": "ztb2zmCnzukV"
      },
      "execution_count": 51,
      "outputs": []
    },
    {
      "cell_type": "code",
      "source": [
        "X_train.shape, X_test.shape"
      ],
      "metadata": {
        "colab": {
          "base_uri": "https://localhost:8080/"
        },
        "id": "GyAG1UK4zum5",
        "outputId": "620f92b9-e61d-4a58-b94e-0a1f77b213c3"
      },
      "execution_count": 52,
      "outputs": [
        {
          "output_type": "execute_result",
          "data": {
            "text/plain": [
              "((5758, 7500), (1000, 7500))"
            ]
          },
          "metadata": {},
          "execution_count": 52
        }
      ]
    },
    {
      "cell_type": "code",
      "source": [
        "from sklearn.linear_model import LogisticRegression\n",
        "from sklearn.preprocessing import MinMaxScaler\n",
        "scaler = MinMaxScaler()\n",
        "X_train = scaler.fit_transform(X_train)\n",
        "X_test = scaler.transform(X_test)\n",
        "classifier = LogisticRegression()\n",
        "classifier.fit(X_train, y_train)\n",
        "pred = classifier.predict(X_test)"
      ],
      "metadata": {
        "id": "zPv9AIxAzuqC"
      },
      "execution_count": 53,
      "outputs": []
    },
    {
      "cell_type": "code",
      "source": [
        "res = df_test.copy()"
      ],
      "metadata": {
        "id": "DilVYiZ617k4"
      },
      "execution_count": 54,
      "outputs": []
    },
    {
      "cell_type": "code",
      "source": [
        "res.is_fake = pred"
      ],
      "metadata": {
        "id": "3FFMx1IY2AV7"
      },
      "execution_count": 55,
      "outputs": []
    },
    {
      "cell_type": "code",
      "source": [
        "res.head()"
      ],
      "metadata": {
        "colab": {
          "base_uri": "https://localhost:8080/",
          "height": 206
        },
        "id": "RZ7rC4oY3l-8",
        "outputId": "7043abb6-227d-4f01-cfcb-575ef4fda948"
      },
      "execution_count": 56,
      "outputs": [
        {
          "output_type": "execute_result",
          "data": {
            "text/plain": [
              "                                               title  is_fake\n",
              "0  Роскомнадзор представил реестр сочетаний цвето...        1\n",
              "1  Ночью под Минском на президентской горе Белара...        0\n",
              "2  Бывший спичрайтер Юрия Лозы рассказал о трудно...        1\n",
              "3  Сельская церковь, собравшая рекордно низкое ко...        0\n",
              "4  Акции Google рухнули после объявления о переза...        1"
            ],
            "text/html": [
              "\n",
              "  <div id=\"df-2c18302c-029b-42ba-8c5a-eba9f1af5581\">\n",
              "    <div class=\"colab-df-container\">\n",
              "      <div>\n",
              "<style scoped>\n",
              "    .dataframe tbody tr th:only-of-type {\n",
              "        vertical-align: middle;\n",
              "    }\n",
              "\n",
              "    .dataframe tbody tr th {\n",
              "        vertical-align: top;\n",
              "    }\n",
              "\n",
              "    .dataframe thead th {\n",
              "        text-align: right;\n",
              "    }\n",
              "</style>\n",
              "<table border=\"1\" class=\"dataframe\">\n",
              "  <thead>\n",
              "    <tr style=\"text-align: right;\">\n",
              "      <th></th>\n",
              "      <th>title</th>\n",
              "      <th>is_fake</th>\n",
              "    </tr>\n",
              "  </thead>\n",
              "  <tbody>\n",
              "    <tr>\n",
              "      <th>0</th>\n",
              "      <td>Роскомнадзор представил реестр сочетаний цвето...</td>\n",
              "      <td>1</td>\n",
              "    </tr>\n",
              "    <tr>\n",
              "      <th>1</th>\n",
              "      <td>Ночью под Минском на президентской горе Белара...</td>\n",
              "      <td>0</td>\n",
              "    </tr>\n",
              "    <tr>\n",
              "      <th>2</th>\n",
              "      <td>Бывший спичрайтер Юрия Лозы рассказал о трудно...</td>\n",
              "      <td>1</td>\n",
              "    </tr>\n",
              "    <tr>\n",
              "      <th>3</th>\n",
              "      <td>Сельская церковь, собравшая рекордно низкое ко...</td>\n",
              "      <td>0</td>\n",
              "    </tr>\n",
              "    <tr>\n",
              "      <th>4</th>\n",
              "      <td>Акции Google рухнули после объявления о переза...</td>\n",
              "      <td>1</td>\n",
              "    </tr>\n",
              "  </tbody>\n",
              "</table>\n",
              "</div>\n",
              "      <button class=\"colab-df-convert\" onclick=\"convertToInteractive('df-2c18302c-029b-42ba-8c5a-eba9f1af5581')\"\n",
              "              title=\"Convert this dataframe to an interactive table.\"\n",
              "              style=\"display:none;\">\n",
              "        \n",
              "  <svg xmlns=\"http://www.w3.org/2000/svg\" height=\"24px\"viewBox=\"0 0 24 24\"\n",
              "       width=\"24px\">\n",
              "    <path d=\"M0 0h24v24H0V0z\" fill=\"none\"/>\n",
              "    <path d=\"M18.56 5.44l.94 2.06.94-2.06 2.06-.94-2.06-.94-.94-2.06-.94 2.06-2.06.94zm-11 1L8.5 8.5l.94-2.06 2.06-.94-2.06-.94L8.5 2.5l-.94 2.06-2.06.94zm10 10l.94 2.06.94-2.06 2.06-.94-2.06-.94-.94-2.06-.94 2.06-2.06.94z\"/><path d=\"M17.41 7.96l-1.37-1.37c-.4-.4-.92-.59-1.43-.59-.52 0-1.04.2-1.43.59L10.3 9.45l-7.72 7.72c-.78.78-.78 2.05 0 2.83L4 21.41c.39.39.9.59 1.41.59.51 0 1.02-.2 1.41-.59l7.78-7.78 2.81-2.81c.8-.78.8-2.07 0-2.86zM5.41 20L4 18.59l7.72-7.72 1.47 1.35L5.41 20z\"/>\n",
              "  </svg>\n",
              "      </button>\n",
              "      \n",
              "  <style>\n",
              "    .colab-df-container {\n",
              "      display:flex;\n",
              "      flex-wrap:wrap;\n",
              "      gap: 12px;\n",
              "    }\n",
              "\n",
              "    .colab-df-convert {\n",
              "      background-color: #E8F0FE;\n",
              "      border: none;\n",
              "      border-radius: 50%;\n",
              "      cursor: pointer;\n",
              "      display: none;\n",
              "      fill: #1967D2;\n",
              "      height: 32px;\n",
              "      padding: 0 0 0 0;\n",
              "      width: 32px;\n",
              "    }\n",
              "\n",
              "    .colab-df-convert:hover {\n",
              "      background-color: #E2EBFA;\n",
              "      box-shadow: 0px 1px 2px rgba(60, 64, 67, 0.3), 0px 1px 3px 1px rgba(60, 64, 67, 0.15);\n",
              "      fill: #174EA6;\n",
              "    }\n",
              "\n",
              "    [theme=dark] .colab-df-convert {\n",
              "      background-color: #3B4455;\n",
              "      fill: #D2E3FC;\n",
              "    }\n",
              "\n",
              "    [theme=dark] .colab-df-convert:hover {\n",
              "      background-color: #434B5C;\n",
              "      box-shadow: 0px 1px 3px 1px rgba(0, 0, 0, 0.15);\n",
              "      filter: drop-shadow(0px 1px 2px rgba(0, 0, 0, 0.3));\n",
              "      fill: #FFFFFF;\n",
              "    }\n",
              "  </style>\n",
              "\n",
              "      <script>\n",
              "        const buttonEl =\n",
              "          document.querySelector('#df-2c18302c-029b-42ba-8c5a-eba9f1af5581 button.colab-df-convert');\n",
              "        buttonEl.style.display =\n",
              "          google.colab.kernel.accessAllowed ? 'block' : 'none';\n",
              "\n",
              "        async function convertToInteractive(key) {\n",
              "          const element = document.querySelector('#df-2c18302c-029b-42ba-8c5a-eba9f1af5581');\n",
              "          const dataTable =\n",
              "            await google.colab.kernel.invokeFunction('convertToInteractive',\n",
              "                                                     [key], {});\n",
              "          if (!dataTable) return;\n",
              "\n",
              "          const docLinkHtml = 'Like what you see? Visit the ' +\n",
              "            '<a target=\"_blank\" href=https://colab.research.google.com/notebooks/data_table.ipynb>data table notebook</a>'\n",
              "            + ' to learn more about interactive tables.';\n",
              "          element.innerHTML = '';\n",
              "          dataTable['output_type'] = 'display_data';\n",
              "          await google.colab.output.renderOutput(dataTable, element);\n",
              "          const docLink = document.createElement('div');\n",
              "          docLink.innerHTML = docLinkHtml;\n",
              "          element.appendChild(docLink);\n",
              "        }\n",
              "      </script>\n",
              "    </div>\n",
              "  </div>\n",
              "  "
            ]
          },
          "metadata": {},
          "execution_count": 56
        }
      ]
    },
    {
      "cell_type": "code",
      "source": [
        "res.to_csv('predictions.tsv', index=False, sep='\\t')"
      ],
      "metadata": {
        "id": "gzXQ4V4Q27eo"
      },
      "execution_count": 57,
      "outputs": []
    }
  ]
}